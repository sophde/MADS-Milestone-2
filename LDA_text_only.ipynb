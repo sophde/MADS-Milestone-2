{
  "nbformat": 4,
  "nbformat_minor": 0,
  "metadata": {
    "kernelspec": {
      "display_name": "Python 3",
      "language": "python",
      "name": "python3"
    },
    "language_info": {
      "codemirror_mode": {
        "name": "ipython",
        "version": 3
      },
      "file_extension": ".py",
      "mimetype": "text/x-python",
      "name": "python",
      "nbconvert_exporter": "python",
      "pygments_lexer": "ipython3",
      "version": "3.8.5"
    },
    "colab": {
      "name": "LDA-text only.ipynb",
      "provenance": []
    }
  },
  "cells": [
    {
      "cell_type": "code",
      "metadata": {
        "id": "INL-UgmqLe2r"
      },
      "source": [
        "import pandas as pd\n",
        "import numpy as np\n",
        "from sklearn.discriminant_analysis import LinearDiscriminantAnalysis\n",
        "from sklearn.model_selection import train_test_split\n",
        "from sklearn.feature_extraction.text import CountVectorizer\n",
        "from sklearn.model_selection import GridSearchCV\n",
        "from sklearn.metrics import accuracy_score\n",
        "from sklearn.feature_extraction.text import TfidfVectorizer, TfidfTransformer\n",
        "from sklearn.preprocessing import StandardScaler\n",
        "import pickle\n",
        "import nltk\n",
        "from nltk.corpus import stopwords\n",
        "from nltk.stem import PorterStemmer\n",
        "from nltk.tokenize import word_tokenize\n",
        "from nltk.stem import WordNetLemmatizer\n",
        "from sklearn.preprocessing import MinMaxScaler\n",
        "from collections import Counter\n",
        "import scipy.sparse as sp\n",
        "from scipy.sparse import hstack\n",
        "from sklearn.pipeline import Pipeline\n",
        "from sklearn import metrics\n",
        "from sklearn.model_selection import RepeatedStratifiedKFold\n",
        "from sklearn.model_selection import cross_val_score\n",
        "from sklearn.naive_bayes import MultinomialNB\n",
        "from sklearn.feature_selection import SelectKBest, chi2\n",
        "from sklearn.base import BaseEstimator, TransformerMixin\n",
        "import time\n",
        "import matplotlib.pyplot as plt"
      ],
      "execution_count": null,
      "outputs": []
    },
    {
      "cell_type": "markdown",
      "metadata": {
        "id": "dqiUtu5bLe23"
      },
      "source": [
        "### what is Linear Discriminant Analysis?\n",
        "\n",
        "- The algorithm involves developing a probabilistic model per class based on the specific distribution of observations for each input variable. A new example is then classified by calculating the conditional probability of it belonging to each class and selecting the class with the highest probability.\n",
        "- It works by calculating summary statistics for the input features by class label, such as the mean and standard deviation. These statistics represent the model learned from the training data. \n",
        "- Predictions are made by estimating the probability that a new example belongs to each class label based on the values of each input feature. The class that results in the largest probability is then assigned to the example. As such, LDA may be considered a simple application of Bayes Theorem for classification.\n",
        "- makes strong assumptions about the distribution of each input variable that the input variables are numeric and normally distributed and that they have the same variance (spread). If this is not the case, it may be desirable to transform the data to have a Gaussian distribution and standardize or normalize the data prior to modeling.\n",
        "- It is a linear classification algorithm, like logistic regression. This means that classes are separated in the feature space by lines or hyperplanes. Extensions of the method can be used that allow other shapes, like Quadratic Discriminant Analysis (QDA), which allows curved shapes in the decision boundary.\n",
        "\n",
        "(source: https://machinelearningmastery.com/linear-discriminant-analysis-with-python/)"
      ]
    },
    {
      "cell_type": "code",
      "metadata": {
        "id": "ya92nUQZLe2-"
      },
      "source": [
        "data = pd.read_csv('WikiLarge_Train.csv', encoding=\"utf-8\")"
      ],
      "execution_count": null,
      "outputs": []
    },
    {
      "cell_type": "code",
      "metadata": {
        "id": "z5Lvm_WuLe3J"
      },
      "source": [
        "def clean(data):\n",
        "    # create a new column of text data, lower case all words \n",
        "    data[\"cleaned_text\"] = data['original_text'].str.lower()\n",
        "\n",
        "    # remove \"-LRB-\", \"-LRB-\", non-alphabets and non-ascii characters\n",
        "    data['cleaned_text'] = data['cleaned_text'].str.replace(\"-lrb-\", '')\n",
        "    data['cleaned_text'] = data['cleaned_text'].str.replace(\"-rrb-\", '')\n",
        "    data[\"cleaned_text\"] = data[\"cleaned_text\"].str.encode('ascii', 'ignore').str.decode('ascii')\n",
        "\n",
        "    # remove space >1\n",
        "    data[\"cleaned_text\"] = data[\"cleaned_text\"].str.replace('[\\s]{2,}', ' ')\n",
        "\n",
        "    # remove space at the begining and the end of each sentence\n",
        "    data[\"cleaned_text\"] = data[\"cleaned_text\"].str.strip()\n",
        "    return data"
      ],
      "execution_count": null,
      "outputs": []
    },
    {
      "cell_type": "code",
      "metadata": {
        "id": "803eQf8cLe3L"
      },
      "source": [
        "# cleaned data\n",
        "data = clean(data)\n",
        "# data.head()"
      ],
      "execution_count": null,
      "outputs": []
    },
    {
      "cell_type": "code",
      "metadata": {
        "id": "WDtU06aoLe3O",
        "outputId": "536fe35d-1d98-4377-9199-755f38f61391"
      },
      "source": [
        "data.shape"
      ],
      "execution_count": null,
      "outputs": [
        {
          "data": {
            "text/plain": [
              "(416768, 3)"
            ]
          },
          "execution_count": 6,
          "metadata": {},
          "output_type": "execute_result"
        }
      ]
    },
    {
      "cell_type": "code",
      "metadata": {
        "id": "waU2mDG0Le3U",
        "outputId": "ac82767d-aecb-4dba-bf25-e07f04ce5762"
      },
      "source": [
        "# check no non-ascii characters\n",
        "count = 0\n",
        "for sentence in data['cleaned_text']:\n",
        "    if sentence.isascii() == False:\n",
        "        count += 1\n",
        "count"
      ],
      "execution_count": null,
      "outputs": [
        {
          "data": {
            "text/plain": [
              "0"
            ]
          },
          "execution_count": 7,
          "metadata": {},
          "output_type": "execute_result"
        }
      ]
    },
    {
      "cell_type": "code",
      "metadata": {
        "id": "D2bui27dLe3X",
        "outputId": "d29479f2-f75f-46e1-a65b-695378aa40af"
      },
      "source": [
        "# length of the sentence could be a indicator of complexity\n",
        "# add a column of length to the data (this process takes a few minutes)\n",
        "\n",
        "data['length'] = data['cleaned_text'].apply(lambda x: len(x.strip().split(\" \")))\n",
        "data.head()"
      ],
      "execution_count": null,
      "outputs": [
        {
          "data": {
            "text/html": [
              "<div>\n",
              "<style scoped>\n",
              "    .dataframe tbody tr th:only-of-type {\n",
              "        vertical-align: middle;\n",
              "    }\n",
              "\n",
              "    .dataframe tbody tr th {\n",
              "        vertical-align: top;\n",
              "    }\n",
              "\n",
              "    .dataframe thead th {\n",
              "        text-align: right;\n",
              "    }\n",
              "</style>\n",
              "<table border=\"1\" class=\"dataframe\">\n",
              "  <thead>\n",
              "    <tr style=\"text-align: right;\">\n",
              "      <th></th>\n",
              "      <th>original_text</th>\n",
              "      <th>label</th>\n",
              "      <th>cleaned_text</th>\n",
              "      <th>length</th>\n",
              "    </tr>\n",
              "  </thead>\n",
              "  <tbody>\n",
              "    <tr>\n",
              "      <th>0</th>\n",
              "      <td>There is manuscript evidence that Austen conti...</td>\n",
              "      <td>1</td>\n",
              "      <td>there is manuscript evidence that austen conti...</td>\n",
              "      <td>42</td>\n",
              "    </tr>\n",
              "    <tr>\n",
              "      <th>1</th>\n",
              "      <td>In a remarkable comparative analysis , Mandaea...</td>\n",
              "      <td>1</td>\n",
              "      <td>in a remarkable comparative analysis , mandaea...</td>\n",
              "      <td>23</td>\n",
              "    </tr>\n",
              "    <tr>\n",
              "      <th>2</th>\n",
              "      <td>Before Persephone was released to Hermes , who...</td>\n",
              "      <td>1</td>\n",
              "      <td>before persephone was released to hermes , who...</td>\n",
              "      <td>44</td>\n",
              "    </tr>\n",
              "    <tr>\n",
              "      <th>3</th>\n",
              "      <td>Cogeneration plants are commonly found in dist...</td>\n",
              "      <td>1</td>\n",
              "      <td>cogeneration plants are commonly found in dist...</td>\n",
              "      <td>39</td>\n",
              "    </tr>\n",
              "    <tr>\n",
              "      <th>4</th>\n",
              "      <td>Geneva -LRB- , ; , ; , ; ; -RRB- is the second...</td>\n",
              "      <td>1</td>\n",
              "      <td>geneva , ; , ; , ; ; is the second-most-populo...</td>\n",
              "      <td>30</td>\n",
              "    </tr>\n",
              "  </tbody>\n",
              "</table>\n",
              "</div>"
            ],
            "text/plain": [
              "                                       original_text  label  \\\n",
              "0  There is manuscript evidence that Austen conti...      1   \n",
              "1  In a remarkable comparative analysis , Mandaea...      1   \n",
              "2  Before Persephone was released to Hermes , who...      1   \n",
              "3  Cogeneration plants are commonly found in dist...      1   \n",
              "4  Geneva -LRB- , ; , ; , ; ; -RRB- is the second...      1   \n",
              "\n",
              "                                        cleaned_text  length  \n",
              "0  there is manuscript evidence that austen conti...      42  \n",
              "1  in a remarkable comparative analysis , mandaea...      23  \n",
              "2  before persephone was released to hermes , who...      44  \n",
              "3  cogeneration plants are commonly found in dist...      39  \n",
              "4  geneva , ; , ; , ; ; is the second-most-populo...      30  "
            ]
          },
          "execution_count": 8,
          "metadata": {},
          "output_type": "execute_result"
        }
      ]
    },
    {
      "cell_type": "code",
      "metadata": {
        "id": "nuXAaTR4Le3a"
      },
      "source": [
        "# X = data[['cleaned_text',\"length\"]]\n",
        "X = data['cleaned_text']\n",
        "y = data['label']\n",
        "\n",
        "# train dataset 80%, test dataset 20%\n",
        "X_train, X_test, y_train, y_test = train_test_split(X, y, test_size=0.2, random_state=42)"
      ],
      "execution_count": null,
      "outputs": []
    },
    {
      "cell_type": "code",
      "metadata": {
        "id": "DFTSLAXXLe3d",
        "outputId": "f98ea750-3025-45f3-977a-95f58027e882"
      },
      "source": [
        "tfidf = TfidfVectorizer()\n",
        "tfidf.fit_transform(X_train).shape"
      ],
      "execution_count": null,
      "outputs": [
        {
          "data": {
            "text/plain": [
              "(333414, 131463)"
            ]
          },
          "execution_count": 10,
          "metadata": {},
          "output_type": "execute_result"
        }
      ]
    },
    {
      "cell_type": "code",
      "metadata": {
        "id": "31TgVDmXLe3f",
        "outputId": "1026354d-05c3-4da1-b80b-95306daec8b5"
      },
      "source": [
        "X.head()"
      ],
      "execution_count": null,
      "outputs": [
        {
          "data": {
            "text/plain": [
              "0    there is manuscript evidence that austen conti...\n",
              "1    in a remarkable comparative analysis , mandaea...\n",
              "2    before persephone was released to hermes , who...\n",
              "3    cogeneration plants are commonly found in dist...\n",
              "4    geneva , ; , ; , ; ; is the second-most-populo...\n",
              "Name: cleaned_text, dtype: object"
            ]
          },
          "execution_count": 11,
          "metadata": {},
          "output_type": "execute_result"
        }
      ]
    },
    {
      "cell_type": "code",
      "metadata": {
        "id": "tn0tXJXlLe3g"
      },
      "source": [
        "def lemmatization(row):\n",
        "    #make sure nltk.download('stopwords') and nltk.download('wordnet') work \n",
        "    stop = list(stopwords.words('english'))\n",
        "    lemmatizer = WordNetLemmatizer()\n",
        "    token_words= word_tokenize(row)\n",
        "    token_words = [word for word in token_words if not word in stop]\n",
        "    stem_sentence = []\n",
        "    for word in token_words:\n",
        "        stem_sentence.append(lemmatizer.lemmatize(word))\n",
        "        stem_sentence.append(\" \")\n",
        "    return \"\".join(stem_sentence)"
      ],
      "execution_count": null,
      "outputs": []
    },
    {
      "cell_type": "code",
      "metadata": {
        "id": "GHzNGbV9Le3i"
      },
      "source": [
        "def stemmer(row):\n",
        "    #make sure nltk.download('stopwords') and nltk.download('wordnet') work \n",
        "    stop = list(stopwords.words('english'))\n",
        "    porter_stemmer = PorterStemmer()\n",
        "    token_words= word_tokenize(row)\n",
        "    token_words = [word for word in token_words if not word in stop]\n",
        "    stem_sentence = []\n",
        "    for word in token_words:\n",
        "        stem_sentence.append(porter_stemmer.stem(word))\n",
        "        stem_sentence.append(\" \")\n",
        "    return \"\".join(stem_sentence)"
      ],
      "execution_count": null,
      "outputs": []
    },
    {
      "cell_type": "code",
      "metadata": {
        "id": "WULZ_FQnLe3l"
      },
      "source": [
        "def lda_k(k,X_train_vect,X_test_vect,y_train,y_test,model):\n",
        "    X_train_select = SelectKBest(chi2, k=k).fit_transform(X_train_vect, y_train)\n",
        "    X_test_select = SelectKBest(chi2, k=k).fit_transform(X_test_vect, y_test)\n",
        "    model.fit(X_train_select.toarray(), y_train)\n",
        "    pred = model.predict(X_test_select)\n",
        "    return accuracy_score(pred, y_test)"
      ],
      "execution_count": null,
      "outputs": []
    },
    {
      "cell_type": "code",
      "metadata": {
        "id": "ytBGxycTLe3m",
        "outputId": "ce41b082-3b0e-46a9-f3ce-2db440bbb636"
      },
      "source": [
        "t0 = time.time()\n",
        "model = LinearDiscriminantAnalysis()\n",
        "k_li = np.arange(10,301,5)\n",
        "best_k = []\n",
        "best_feature = []\n",
        "for feature in [10000, 20000, 40000, 80000, 100000]:\n",
        "    tfidf = TfidfVectorizer(analyzer='word', max_features=feature, \\\n",
        "                            ngram_range=(1,2), min_df=6, max_df=0.9,)\n",
        "    \n",
        "    X_train_vect = tfidf.fit_transform(X_train)\n",
        "    X_test_vect = tfidf.fit_transform(X_test)\n",
        "    res = []\n",
        "    for k in k_li:\n",
        "        res.append(lda_k(k,X_train_vect,X_test_vect,y_train,y_test,model))\n",
        "        \n",
        "    idx = np.argmax(res)\n",
        "    max_k = k_li[idx]\n",
        "    max_feature = np.max(res)\n",
        "    best_k.append(max_k)\n",
        "    best_feature.append(max_feature)\n",
        "    \n",
        "print(best_k)\n",
        "print(best_feature)\n",
        "t1 = time.time()\n",
        "print(f\"time = {(t1-t0) /60} mins\")"
      ],
      "execution_count": null,
      "outputs": [
        {
          "name": "stdout",
          "output_type": "stream",
          "text": [
            "[25, 15, 80, 45, 55]\n",
            "[0.5968159896345706, 0.5968519807087842, 0.6037262758835809, 0.6037622669577944, 0.6073253833049403]\n",
            "time = 47.88723742167155 mins\n"
          ]
        }
      ]
    },
    {
      "cell_type": "code",
      "metadata": {
        "id": "a_X3lyXhLe3r",
        "outputId": "c7b24ee2-aedd-4895-b043-d68cea4a341e"
      },
      "source": [
        "plt.plot([10000, 20000, 40000, 80000, 100000], best_k)"
      ],
      "execution_count": null,
      "outputs": [
        {
          "data": {
            "text/plain": [
              "[<matplotlib.lines.Line2D at 0x25bdfe01f10>]"
            ]
          },
          "execution_count": 25,
          "metadata": {},
          "output_type": "execute_result"
        },
        {
          "data": {
            "image/png": "[encoded data removed]",
            "text/plain": [
              "<Figure size 432x288 with 1 Axes>"
            ]
          },
          "metadata": {
            "needs_background": "light"
          },
          "output_type": "display_data"
        }
      ]
    },
    {
      "cell_type": "code",
      "metadata": {
        "id": "-iYkressLe3u",
        "outputId": "70930f77-a013-4ca0-afc1-33f9cabf2fdf"
      },
      "source": [
        "plt.plot([10000, 20000, 40000, 80000, 100000], best_feature)"
      ],
      "execution_count": null,
      "outputs": [
        {
          "data": {
            "text/plain": [
              "[<matplotlib.lines.Line2D at 0x25bd8b9f640>]"
            ]
          },
          "execution_count": 26,
          "metadata": {},
          "output_type": "execute_result"
        },
        {
          "data": {
            "image/png": "[encoded data removed]",
            "text/plain": [
              "<Figure size 432x288 with 1 Axes>"
            ]
          },
          "metadata": {
            "needs_background": "light"
          },
          "output_type": "display_data"
        }
      ]
    },
    {
      "cell_type": "code",
      "metadata": {
        "id": "FuIneGtRLe3v",
        "outputId": "5a231014-f83d-4210-e749-b004082c765b"
      },
      "source": [
        "# with lemmatization\n",
        "\n",
        "t0 = time.time()\n",
        "model = LinearDiscriminantAnalysis()\n",
        "k_li = np.arange(10,301,5)\n",
        "best_k = []\n",
        "best_feature = []\n",
        "for feature in [10000, 20000, 40000, 80000, 100000]:\n",
        "    tfidf = TfidfVectorizer(analyzer='word', max_features=feature, ngram_range=(1,2), min_df=6, max_df=0.9,preprocessor=lemmatization)\n",
        "    X_train_vect = tfidf.fit_transform(X_train)\n",
        "    X_test_vect = tfidf.fit_transform(X_test)\n",
        "    res = []\n",
        "    for k in k_li:\n",
        "        res.append(lda_k(k,X_train_vect,X_test_vect,y_train,y_test,model))\n",
        "        \n",
        "    idx = np.argmax(res)\n",
        "    max_k = k_li[idx]\n",
        "    max_feature = np.max(res)\n",
        "    best_k.append(max_k)\n",
        "    best_feature.append(max_feature)\n",
        "    \n",
        "print(best_k)\n",
        "print(best_feature)\n",
        "t1 = time.time()\n",
        "print(f\"time = {(t1-t0) /60} mins\")"
      ],
      "execution_count": null,
      "outputs": [
        {
          "name": "stdout",
          "output_type": "stream",
          "text": [
            "[250, 250, 230, 280, 240]\n",
            "[0.5786165031072295, 0.5660556182066847, 0.5690068862921995, 0.5616407131031504, 0.5597691772440435]\n",
            "time = 70.76012953122456 mins\n"
          ]
        }
      ]
    },
    {
      "cell_type": "code",
      "metadata": {
        "id": "5ukSYMgJLe3y",
        "outputId": "b54ec503-a39a-49e2-8d6b-7bf3cae99ff8"
      },
      "source": [
        "# with stemming\n",
        "\n",
        "t0 = time.time()\n",
        "model = LinearDiscriminantAnalysis()\n",
        "k_li = np.arange(10,301,5)\n",
        "best_k = []\n",
        "best_feature = []\n",
        "for feature in [10000, 20000, 40000]:\n",
        "    tfidf = TfidfVectorizer(analyzer='word', max_features=feature, ngram_range=(1,2), min_df=6, max_df=0.9,preprocessor=stemmer)\n",
        "    X_train_vect = tfidf.fit_transform(X_train)\n",
        "    X_test_vect = tfidf.fit_transform(X_test)\n",
        "    res = []\n",
        "    for k in k_li:\n",
        "        res.append(lda_k(k,X_train_vect,X_test_vect,y_train,y_test,model))\n",
        "        \n",
        "    idx = np.argmax(res)\n",
        "    max_k = k_li[idx]\n",
        "    max_feature = np.max(res)\n",
        "    best_k.append(max_k)\n",
        "    best_feature.append(max_feature)\n",
        "    \n",
        "print(best_k)\n",
        "print(best_feature)\n",
        "t1 = time.time()\n",
        "print(f\"time = {(t1-t0) /60} mins\")"
      ],
      "execution_count": null,
      "outputs": [
        {
          "name": "stderr",
          "output_type": "stream",
          "text": [
            "Exception ignored in: <function SeekableUnicodeStreamReader.__del__ at 0x0000029CDDA594C0>\n",
            "Traceback (most recent call last):\n",
            "  File \"C:\\Users\\cmial\\anaconda3\\lib\\site-packages\\nltk\\data.py\", line 1162, in __del__\n",
            "    self.close()\n",
            "  File \"C:\\Users\\cmial\\anaconda3\\lib\\site-packages\\nltk\\data.py\", line 1191, in close\n",
            "    self.stream.close()\n",
            "KeyboardInterrupt: \n"
          ]
        },
        {
          "name": "stdout",
          "output_type": "stream",
          "text": [
            "[245, 180, 295]\n",
            "[0.5809559229311131, 0.5872183698442787, 0.5769969047676177]\n",
            "time = 171.54700932502746 mins\n"
          ]
        }
      ]
    },
    {
      "cell_type": "code",
      "metadata": {
        "id": "Qdxz53j-Le32"
      },
      "source": [
        ""
      ],
      "execution_count": null,
      "outputs": []
    },
    {
      "cell_type": "code",
      "metadata": {
        "id": "_4__eu_oLe33"
      },
      "source": [
        ""
      ],
      "execution_count": null,
      "outputs": []
    },
    {
      "cell_type": "code",
      "metadata": {
        "id": "nKzGjOoSLe33"
      },
      "source": [
        ""
      ],
      "execution_count": null,
      "outputs": []
    },
    {
      "cell_type": "code",
      "metadata": {
        "id": "D9MZrGyaLe34"
      },
      "source": [
        ""
      ],
      "execution_count": null,
      "outputs": []
    }
  ]
}