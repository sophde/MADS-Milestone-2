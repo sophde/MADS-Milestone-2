{
  "nbformat": 4,
  "nbformat_minor": 0,
  "metadata": {
    "kernelspec": {
      "display_name": "Python 3",
      "language": "python",
      "name": "python3"
    },
    "language_info": {
      "codemirror_mode": {
        "name": "ipython",
        "version": 3
      },
      "file_extension": ".py",
      "mimetype": "text/x-python",
      "name": "python",
      "nbconvert_exporter": "python",
      "pygments_lexer": "ipython3",
      "version": "3.8.5"
    },
    "colab": {
      "name": "wiki_difficulty_xgboost_tuning.ipynb",
      "provenance": [],
      "collapsed_sections": []
    },
    "accelerator": "GPU"
  },
  "cells": [
    {
      "cell_type": "code",
      "metadata": {
        "id": "KmxfQiqWLIlb"
      },
      "source": [
        "import pandas as pd\n",
        "import numpy as np\n",
        "from sklearn.model_selection import train_test_split\n",
        "from sklearn.feature_extraction.text import CountVectorizer\n",
        "from sklearn.pipeline import Pipeline\n",
        "from sklearn.naive_bayes import MultinomialNB\n",
        "from sklearn.model_selection import GridSearchCV\n",
        "from sklearn.metrics import accuracy_score\n",
        "from sklearn.feature_extraction.text import TfidfVectorizer, TfidfTransformer\n",
        "from sklearn.svm import LinearSVC\n",
        "from sklearn.svm import SVC\n",
        "import pickle\n",
        "import nltk\n",
        "from nltk.corpus import stopwords\n",
        "from nltk.stem import PorterStemmer\n",
        "from nltk.tokenize import word_tokenize\n",
        "from nltk.stem import WordNetLemmatizer\n",
        "from sklearn.naive_bayes import GaussianNB\n",
        "from sklearn.preprocessing import MinMaxScaler\n",
        "from sklearn.linear_model import LogisticRegression\n",
        "from sklearn.tree import DecisionTreeClassifier\n",
        "from sklearn.ensemble import RandomForestClassifier\n",
        "from sklearn.ensemble import GradientBoostingClassifier\n",
        "from collections import Counter\n",
        "import scipy.sparse as sp\n",
        "from scipy.sparse import hstack\n",
        "import xgboost as xgb\n",
        "import time\n",
        "from sklearn import metrics\n",
        "import matplotlib.pyplot as plt\n",
        "from sklearn.metrics import roc_curve\n",
        "from sklearn.metrics import roc_auc_score"
      ],
      "execution_count": null,
      "outputs": []
    },
    {
      "cell_type": "code",
      "metadata": {
        "colab": {
          "base_uri": "https://localhost:8080/"
        },
        "id": "y4TPQ8JPNZly",
        "outputId": "99a73b1f-9197-46e9-acd5-d8684acc6f31"
      },
      "source": [
        "from google.colab import drive\n",
        "drive.mount('/content/drive/')"
      ],
      "execution_count": null,
      "outputs": [
        {
          "output_type": "stream",
          "text": [
            "Mounted at /content/drive/\n"
          ],
          "name": "stdout"
        }
      ]
    },
    {
      "cell_type": "code",
      "metadata": {
        "colab": {
          "base_uri": "https://localhost:8080/",
          "height": 204
        },
        "id": "SPj3pTP5LIlf",
        "outputId": "08baa16f-9af7-43b0-86a7-dae29a5e03ac"
      },
      "source": [
        "data = pd.read_csv('MyDrive/Colab Notebooks/WikiLarge_Train.csv', encoding=\"utf-8\")\n",
        "data.head()"
      ],
      "execution_count": null,
      "outputs": [
        {
          "output_type": "execute_result",
          "data": {
            "text/html": [
              "<div>\n",
              "<style scoped>\n",
              "    .dataframe tbody tr th:only-of-type {\n",
              "        vertical-align: middle;\n",
              "    }\n",
              "\n",
              "    .dataframe tbody tr th {\n",
              "        vertical-align: top;\n",
              "    }\n",
              "\n",
              "    .dataframe thead th {\n",
              "        text-align: right;\n",
              "    }\n",
              "</style>\n",
              "<table border=\"1\" class=\"dataframe\">\n",
              "  <thead>\n",
              "    <tr style=\"text-align: right;\">\n",
              "      <th></th>\n",
              "      <th>original_text</th>\n",
              "      <th>label</th>\n",
              "    </tr>\n",
              "  </thead>\n",
              "  <tbody>\n",
              "    <tr>\n",
              "      <th>0</th>\n",
              "      <td>There is manuscript evidence that Austen conti...</td>\n",
              "      <td>1</td>\n",
              "    </tr>\n",
              "    <tr>\n",
              "      <th>1</th>\n",
              "      <td>In a remarkable comparative analysis , Mandaea...</td>\n",
              "      <td>1</td>\n",
              "    </tr>\n",
              "    <tr>\n",
              "      <th>2</th>\n",
              "      <td>Before Persephone was released to Hermes , who...</td>\n",
              "      <td>1</td>\n",
              "    </tr>\n",
              "    <tr>\n",
              "      <th>3</th>\n",
              "      <td>Cogeneration plants are commonly found in dist...</td>\n",
              "      <td>1</td>\n",
              "    </tr>\n",
              "    <tr>\n",
              "      <th>4</th>\n",
              "      <td>Geneva -LRB- , ; , ; , ; ; -RRB- is the second...</td>\n",
              "      <td>1</td>\n",
              "    </tr>\n",
              "  </tbody>\n",
              "</table>\n",
              "</div>"
            ],
            "text/plain": [
              "                                       original_text  label\n",
              "0  There is manuscript evidence that Austen conti...      1\n",
              "1  In a remarkable comparative analysis , Mandaea...      1\n",
              "2  Before Persephone was released to Hermes , who...      1\n",
              "3  Cogeneration plants are commonly found in dist...      1\n",
              "4  Geneva -LRB- , ; , ; , ; ; -RRB- is the second...      1"
            ]
          },
          "metadata": {
            "tags": []
          },
          "execution_count": 15
        }
      ]
    },
    {
      "cell_type": "markdown",
      "metadata": {
        "id": "wwSLMeP1LIlh"
      },
      "source": [
        "### Pre-processing"
      ]
    },
    {
      "cell_type": "code",
      "metadata": {
        "id": "Z698VvLlLIli"
      },
      "source": [
        "def clean(data):\n",
        "    # create a new column of text data, lower case all words \n",
        "    data[\"cleaned_text\"] = data['original_text'].str.lower()\n",
        "\n",
        "    # remove \"-LRB-\", \"-LRB-\", non-alphabets and non-ascii characters\n",
        "    data['cleaned_text'] = data['cleaned_text'].str.replace(\"-lrb-\", '')\n",
        "    data['cleaned_text'] = data['cleaned_text'].str.replace(\"-rrb-\", '')\n",
        "    data[\"cleaned_text\"] = data[\"cleaned_text\"].str.encode('ascii', 'ignore').str.decode('ascii')\n",
        "\n",
        "    # remove space >1\n",
        "    data[\"cleaned_text\"] = data[\"cleaned_text\"].str.replace('[\\s]{2,}', ' ')\n",
        "\n",
        "    # remove space at the begining and the end of each sentence\n",
        "    data[\"cleaned_text\"] = data[\"cleaned_text\"].str.strip()\n",
        "    return data"
      ],
      "execution_count": null,
      "outputs": []
    },
    {
      "cell_type": "code",
      "metadata": {
        "id": "gCncPe2uLIli"
      },
      "source": [
        "# cleaned data\n",
        "data = clean(data)"
      ],
      "execution_count": null,
      "outputs": []
    },
    {
      "cell_type": "code",
      "metadata": {
        "colab": {
          "base_uri": "https://localhost:8080/"
        },
        "id": "HdBzg_UkLIlj",
        "outputId": "118cacbd-20e0-4dd4-9af8-df39e79d2f37"
      },
      "source": [
        "# check no non-ascii characters\n",
        "count = 0\n",
        "for sentence in data['cleaned_text']:\n",
        "    if sentence.isascii() == False:\n",
        "        count += 1\n",
        "count"
      ],
      "execution_count": null,
      "outputs": [
        {
          "output_type": "execute_result",
          "data": {
            "text/plain": [
              "0"
            ]
          },
          "metadata": {
            "tags": []
          },
          "execution_count": 18
        }
      ]
    },
    {
      "cell_type": "code",
      "metadata": {
        "id": "bxveLr9CLIlj"
      },
      "source": [
        "def lemmatization(row):\n",
        "    #make sure nltk.download('stopwords') and nltk.download('wordnet') work \n",
        "    \n",
        "    stop = list(stopwords.words('english'))\n",
        "    lemmatizer = WordNetLemmatizer()\n",
        "    \n",
        "    token_words= word_tokenize(row)\n",
        "    token_words = [word for word in token_words if not word in stop]\n",
        "    stem_sentence = []\n",
        "    for word in token_words:\n",
        "        stem_sentence.append(lemmatizer.lemmatize(word))\n",
        "        stem_sentence.append(\" \")\n",
        "    return \"\".join(stem_sentence)"
      ],
      "execution_count": null,
      "outputs": []
    },
    {
      "cell_type": "code",
      "metadata": {
        "colab": {
          "base_uri": "https://localhost:8080/"
        },
        "id": "b_VEjUgkPPlp",
        "outputId": "6f3d69fe-50fe-4f8a-e7d5-012f8b24c19e"
      },
      "source": [
        "import nltk\n",
        "nltk.download('stopwords')"
      ],
      "execution_count": null,
      "outputs": [
        {
          "output_type": "stream",
          "text": [
            "[nltk_data] Downloading package stopwords to /root/nltk_data...\n",
            "[nltk_data]   Unzipping corpora/stopwords.zip.\n"
          ],
          "name": "stdout"
        },
        {
          "output_type": "execute_result",
          "data": {
            "text/plain": [
              "True"
            ]
          },
          "metadata": {
            "tags": []
          },
          "execution_count": 21
        }
      ]
    },
    {
      "cell_type": "code",
      "metadata": {
        "colab": {
          "base_uri": "https://localhost:8080/"
        },
        "id": "SuphmMUsPUzP",
        "outputId": "4875ca85-ec11-4353-ee77-c28e4af4de3d"
      },
      "source": [
        "import nltk\n",
        "nltk.download('punkt')"
      ],
      "execution_count": null,
      "outputs": [
        {
          "output_type": "stream",
          "text": [
            "[nltk_data] Downloading package punkt to /root/nltk_data...\n",
            "[nltk_data]   Unzipping tokenizers/punkt.zip.\n"
          ],
          "name": "stdout"
        },
        {
          "output_type": "execute_result",
          "data": {
            "text/plain": [
              "True"
            ]
          },
          "metadata": {
            "tags": []
          },
          "execution_count": 23
        }
      ]
    },
    {
      "cell_type": "code",
      "metadata": {
        "colab": {
          "base_uri": "https://localhost:8080/"
        },
        "id": "2dMHGxfGPcsT",
        "outputId": "bc336b14-f666-4dcf-8fc0-d4c698730b22"
      },
      "source": [
        "import nltk\n",
        "nltk.download('wordnet')"
      ],
      "execution_count": null,
      "outputs": [
        {
          "output_type": "stream",
          "text": [
            "[nltk_data] Downloading package wordnet to /root/nltk_data...\n",
            "[nltk_data]   Unzipping corpora/wordnet.zip.\n"
          ],
          "name": "stdout"
        },
        {
          "output_type": "execute_result",
          "data": {
            "text/plain": [
              "True"
            ]
          },
          "metadata": {
            "tags": []
          },
          "execution_count": 25
        }
      ]
    },
    {
      "cell_type": "code",
      "metadata": {
        "colab": {
          "base_uri": "https://localhost:8080/",
          "height": 204
        },
        "id": "swvFOO66LIlk",
        "outputId": "c715ae3b-f6e1-4c8e-b19d-6168f332e3f7"
      },
      "source": [
        "# length of the sentence could be a indicator of complexity\n",
        "# add a column of length to the data (this process takes a few minutes)\n",
        "\n",
        "data['length'] = data['cleaned_text'].apply(lambda x: len(lemmatization(x).strip().split(\" \")))\n",
        "data.head()"
      ],
      "execution_count": null,
      "outputs": [
        {
          "output_type": "execute_result",
          "data": {
            "text/html": [
              "<div>\n",
              "<style scoped>\n",
              "    .dataframe tbody tr th:only-of-type {\n",
              "        vertical-align: middle;\n",
              "    }\n",
              "\n",
              "    .dataframe tbody tr th {\n",
              "        vertical-align: top;\n",
              "    }\n",
              "\n",
              "    .dataframe thead th {\n",
              "        text-align: right;\n",
              "    }\n",
              "</style>\n",
              "<table border=\"1\" class=\"dataframe\">\n",
              "  <thead>\n",
              "    <tr style=\"text-align: right;\">\n",
              "      <th></th>\n",
              "      <th>original_text</th>\n",
              "      <th>label</th>\n",
              "      <th>cleaned_text</th>\n",
              "      <th>length</th>\n",
              "    </tr>\n",
              "  </thead>\n",
              "  <tbody>\n",
              "    <tr>\n",
              "      <th>0</th>\n",
              "      <td>There is manuscript evidence that Austen conti...</td>\n",
              "      <td>1</td>\n",
              "      <td>there is manuscript evidence that austen conti...</td>\n",
              "      <td>25</td>\n",
              "    </tr>\n",
              "    <tr>\n",
              "      <th>1</th>\n",
              "      <td>In a remarkable comparative analysis , Mandaea...</td>\n",
              "      <td>1</td>\n",
              "      <td>in a remarkable comparative analysis , mandaea...</td>\n",
              "      <td>17</td>\n",
              "    </tr>\n",
              "    <tr>\n",
              "      <th>2</th>\n",
              "      <td>Before Persephone was released to Hermes , who...</td>\n",
              "      <td>1</td>\n",
              "      <td>before persephone was released to hermes , who...</td>\n",
              "      <td>23</td>\n",
              "    </tr>\n",
              "    <tr>\n",
              "      <th>3</th>\n",
              "      <td>Cogeneration plants are commonly found in dist...</td>\n",
              "      <td>1</td>\n",
              "      <td>cogeneration plants are commonly found in dist...</td>\n",
              "      <td>34</td>\n",
              "    </tr>\n",
              "    <tr>\n",
              "      <th>4</th>\n",
              "      <td>Geneva -LRB- , ; , ; , ; ; -RRB- is the second...</td>\n",
              "      <td>1</td>\n",
              "      <td>geneva , ; , ; , ; ; is the second-most-populo...</td>\n",
              "      <td>19</td>\n",
              "    </tr>\n",
              "  </tbody>\n",
              "</table>\n",
              "</div>"
            ],
            "text/plain": [
              "                                       original_text  ...  length\n",
              "0  There is manuscript evidence that Austen conti...  ...      25\n",
              "1  In a remarkable comparative analysis , Mandaea...  ...      17\n",
              "2  Before Persephone was released to Hermes , who...  ...      23\n",
              "3  Cogeneration plants are commonly found in dist...  ...      34\n",
              "4  Geneva -LRB- , ; , ; , ; ; -RRB- is the second...  ...      19\n",
              "\n",
              "[5 rows x 4 columns]"
            ]
          },
          "metadata": {
            "tags": []
          },
          "execution_count": 26
        }
      ]
    },
    {
      "cell_type": "code",
      "metadata": {
        "id": "l9QNaiDCLIll"
      },
      "source": [
        "# use POS tagging to create additional features as indicators of complexity\n",
        "# In corpus linguistics, part-of-speech tagging (POS tagging or PoS tagging or POST), \n",
        "# also called grammatical tagging is the process of marking up a word in a text (corpus) as corresponding \n",
        "# to a particular part of speech, based on both its definition and its context.\n",
        "\n",
        "def pos(data):\n",
        "    pos_li = []\n",
        "    for row in data['cleaned_text']:\n",
        "        tokens = word_tokenize(row)\n",
        "        pos = nltk.pos_tag(tokens)\n",
        "        count = Counter(elem[1] for elem in pos)\n",
        "        pos_li.append(count)\n",
        "    pos_df = pd.DataFrame(pos_li)  \n",
        "    pos_df = pos_df.fillna(0)\n",
        "    return pos_df"
      ],
      "execution_count": null,
      "outputs": []
    },
    {
      "cell_type": "code",
      "metadata": {
        "colab": {
          "base_uri": "https://localhost:8080/",
          "height": 224
        },
        "id": "CFe-ho-fLIlm",
        "outputId": "889ff480-20dd-483d-f20f-632967e9a670"
      },
      "source": [
        "# run above function to get a new df of POS takes about 15mins\n",
        "# so I have saved the df in advance\n",
        "# load this file\n",
        "\n",
        "pos_df = pd.read_csv(\"MyDrive/Colab Notebooks/pos_df.csv\")\n",
        "pos_df.head()"
      ],
      "execution_count": null,
      "outputs": [
        {
          "output_type": "execute_result",
          "data": {
            "text/html": [
              "<div>\n",
              "<style scoped>\n",
              "    .dataframe tbody tr th:only-of-type {\n",
              "        vertical-align: middle;\n",
              "    }\n",
              "\n",
              "    .dataframe tbody tr th {\n",
              "        vertical-align: top;\n",
              "    }\n",
              "\n",
              "    .dataframe thead th {\n",
              "        text-align: right;\n",
              "    }\n",
              "</style>\n",
              "<table border=\"1\" class=\"dataframe\">\n",
              "  <thead>\n",
              "    <tr style=\"text-align: right;\">\n",
              "      <th></th>\n",
              "      <th>EX</th>\n",
              "      <th>VBZ</th>\n",
              "      <th>JJ</th>\n",
              "      <th>NN</th>\n",
              "      <th>WDT</th>\n",
              "      <th>VBN</th>\n",
              "      <th>TO</th>\n",
              "      <th>VB</th>\n",
              "      <th>IN</th>\n",
              "      <th>DT</th>\n",
              "      <th>NNS</th>\n",
              "      <th>RB</th>\n",
              "      <th>CD</th>\n",
              "      <th>``</th>\n",
              "      <th>,</th>\n",
              "      <th>CC</th>\n",
              "      <th>PRP$</th>\n",
              "      <th>VBD</th>\n",
              "      <th>.</th>\n",
              "      <th>POS</th>\n",
              "      <th>WP</th>\n",
              "      <th>PRP</th>\n",
              "      <th>VBG</th>\n",
              "      <th>VBP</th>\n",
              "      <th>:</th>\n",
              "      <th>RBS</th>\n",
              "      <th>WRB</th>\n",
              "      <th>NNP</th>\n",
              "      <th>JJS</th>\n",
              "      <th>MD</th>\n",
              "      <th>JJR</th>\n",
              "      <th>RP</th>\n",
              "      <th>RBR</th>\n",
              "      <th>#</th>\n",
              "      <th>FW</th>\n",
              "      <th>''</th>\n",
              "      <th>SYM</th>\n",
              "      <th>WP$</th>\n",
              "      <th>$</th>\n",
              "      <th>PDT</th>\n",
              "      <th>UH</th>\n",
              "      <th>NNPS</th>\n",
              "      <th>LS</th>\n",
              "    </tr>\n",
              "  </thead>\n",
              "  <tbody>\n",
              "    <tr>\n",
              "      <th>0</th>\n",
              "      <td>1.0</td>\n",
              "      <td>2.0</td>\n",
              "      <td>2.0</td>\n",
              "      <td>5.0</td>\n",
              "      <td>1.0</td>\n",
              "      <td>1.0</td>\n",
              "      <td>1.0</td>\n",
              "      <td>1.0</td>\n",
              "      <td>4.0</td>\n",
              "      <td>2.0</td>\n",
              "      <td>3.0</td>\n",
              "      <td>6.0</td>\n",
              "      <td>3.0</td>\n",
              "      <td>1.0</td>\n",
              "      <td>3.0</td>\n",
              "      <td>3.0</td>\n",
              "      <td>1.0</td>\n",
              "      <td>1.0</td>\n",
              "      <td>1.0</td>\n",
              "      <td>0.0</td>\n",
              "      <td>0.0</td>\n",
              "      <td>0.0</td>\n",
              "      <td>0.0</td>\n",
              "      <td>0.0</td>\n",
              "      <td>0.0</td>\n",
              "      <td>0.0</td>\n",
              "      <td>0.0</td>\n",
              "      <td>0.0</td>\n",
              "      <td>0.0</td>\n",
              "      <td>0.0</td>\n",
              "      <td>0.0</td>\n",
              "      <td>0.0</td>\n",
              "      <td>0.0</td>\n",
              "      <td>0.0</td>\n",
              "      <td>0.0</td>\n",
              "      <td>0.0</td>\n",
              "      <td>0.0</td>\n",
              "      <td>0.0</td>\n",
              "      <td>0.0</td>\n",
              "      <td>0.0</td>\n",
              "      <td>0.0</td>\n",
              "      <td>0.0</td>\n",
              "      <td>0.0</td>\n",
              "    </tr>\n",
              "    <tr>\n",
              "      <th>1</th>\n",
              "      <td>0.0</td>\n",
              "      <td>0.0</td>\n",
              "      <td>4.0</td>\n",
              "      <td>6.0</td>\n",
              "      <td>0.0</td>\n",
              "      <td>1.0</td>\n",
              "      <td>1.0</td>\n",
              "      <td>1.0</td>\n",
              "      <td>3.0</td>\n",
              "      <td>1.0</td>\n",
              "      <td>0.0</td>\n",
              "      <td>1.0</td>\n",
              "      <td>0.0</td>\n",
              "      <td>0.0</td>\n",
              "      <td>1.0</td>\n",
              "      <td>0.0</td>\n",
              "      <td>0.0</td>\n",
              "      <td>2.0</td>\n",
              "      <td>1.0</td>\n",
              "      <td>1.0</td>\n",
              "      <td>0.0</td>\n",
              "      <td>0.0</td>\n",
              "      <td>0.0</td>\n",
              "      <td>0.0</td>\n",
              "      <td>0.0</td>\n",
              "      <td>0.0</td>\n",
              "      <td>0.0</td>\n",
              "      <td>0.0</td>\n",
              "      <td>0.0</td>\n",
              "      <td>0.0</td>\n",
              "      <td>0.0</td>\n",
              "      <td>0.0</td>\n",
              "      <td>0.0</td>\n",
              "      <td>0.0</td>\n",
              "      <td>0.0</td>\n",
              "      <td>0.0</td>\n",
              "      <td>0.0</td>\n",
              "      <td>0.0</td>\n",
              "      <td>0.0</td>\n",
              "      <td>0.0</td>\n",
              "      <td>0.0</td>\n",
              "      <td>0.0</td>\n",
              "      <td>0.0</td>\n",
              "    </tr>\n",
              "    <tr>\n",
              "      <th>2</th>\n",
              "      <td>0.0</td>\n",
              "      <td>1.0</td>\n",
              "      <td>0.0</td>\n",
              "      <td>5.0</td>\n",
              "      <td>1.0</td>\n",
              "      <td>3.0</td>\n",
              "      <td>5.0</td>\n",
              "      <td>2.0</td>\n",
              "      <td>3.0</td>\n",
              "      <td>4.0</td>\n",
              "      <td>2.0</td>\n",
              "      <td>0.0</td>\n",
              "      <td>2.0</td>\n",
              "      <td>0.0</td>\n",
              "      <td>3.0</td>\n",
              "      <td>1.0</td>\n",
              "      <td>1.0</td>\n",
              "      <td>4.0</td>\n",
              "      <td>1.0</td>\n",
              "      <td>0.0</td>\n",
              "      <td>1.0</td>\n",
              "      <td>2.0</td>\n",
              "      <td>3.0</td>\n",
              "      <td>0.0</td>\n",
              "      <td>0.0</td>\n",
              "      <td>0.0</td>\n",
              "      <td>0.0</td>\n",
              "      <td>0.0</td>\n",
              "      <td>0.0</td>\n",
              "      <td>0.0</td>\n",
              "      <td>0.0</td>\n",
              "      <td>0.0</td>\n",
              "      <td>0.0</td>\n",
              "      <td>0.0</td>\n",
              "      <td>0.0</td>\n",
              "      <td>0.0</td>\n",
              "      <td>0.0</td>\n",
              "      <td>0.0</td>\n",
              "      <td>0.0</td>\n",
              "      <td>0.0</td>\n",
              "      <td>0.0</td>\n",
              "      <td>0.0</td>\n",
              "      <td>0.0</td>\n",
              "    </tr>\n",
              "    <tr>\n",
              "      <th>3</th>\n",
              "      <td>0.0</td>\n",
              "      <td>0.0</td>\n",
              "      <td>2.0</td>\n",
              "      <td>9.0</td>\n",
              "      <td>0.0</td>\n",
              "      <td>1.0</td>\n",
              "      <td>0.0</td>\n",
              "      <td>0.0</td>\n",
              "      <td>3.0</td>\n",
              "      <td>0.0</td>\n",
              "      <td>11.0</td>\n",
              "      <td>1.0</td>\n",
              "      <td>0.0</td>\n",
              "      <td>0.0</td>\n",
              "      <td>6.0</td>\n",
              "      <td>1.0</td>\n",
              "      <td>0.0</td>\n",
              "      <td>1.0</td>\n",
              "      <td>1.0</td>\n",
              "      <td>0.0</td>\n",
              "      <td>0.0</td>\n",
              "      <td>0.0</td>\n",
              "      <td>2.0</td>\n",
              "      <td>1.0</td>\n",
              "      <td>0.0</td>\n",
              "      <td>0.0</td>\n",
              "      <td>0.0</td>\n",
              "      <td>0.0</td>\n",
              "      <td>0.0</td>\n",
              "      <td>0.0</td>\n",
              "      <td>0.0</td>\n",
              "      <td>0.0</td>\n",
              "      <td>0.0</td>\n",
              "      <td>0.0</td>\n",
              "      <td>0.0</td>\n",
              "      <td>0.0</td>\n",
              "      <td>0.0</td>\n",
              "      <td>0.0</td>\n",
              "      <td>0.0</td>\n",
              "      <td>0.0</td>\n",
              "      <td>0.0</td>\n",
              "      <td>0.0</td>\n",
              "      <td>0.0</td>\n",
              "    </tr>\n",
              "    <tr>\n",
              "      <th>4</th>\n",
              "      <td>0.0</td>\n",
              "      <td>2.0</td>\n",
              "      <td>3.0</td>\n",
              "      <td>7.0</td>\n",
              "      <td>0.0</td>\n",
              "      <td>0.0</td>\n",
              "      <td>0.0</td>\n",
              "      <td>0.0</td>\n",
              "      <td>4.0</td>\n",
              "      <td>3.0</td>\n",
              "      <td>0.0</td>\n",
              "      <td>0.0</td>\n",
              "      <td>0.0</td>\n",
              "      <td>0.0</td>\n",
              "      <td>3.0</td>\n",
              "      <td>1.0</td>\n",
              "      <td>0.0</td>\n",
              "      <td>0.0</td>\n",
              "      <td>1.0</td>\n",
              "      <td>0.0</td>\n",
              "      <td>0.0</td>\n",
              "      <td>0.0</td>\n",
              "      <td>1.0</td>\n",
              "      <td>0.0</td>\n",
              "      <td>4.0</td>\n",
              "      <td>1.0</td>\n",
              "      <td>0.0</td>\n",
              "      <td>0.0</td>\n",
              "      <td>0.0</td>\n",
              "      <td>0.0</td>\n",
              "      <td>0.0</td>\n",
              "      <td>0.0</td>\n",
              "      <td>0.0</td>\n",
              "      <td>0.0</td>\n",
              "      <td>0.0</td>\n",
              "      <td>0.0</td>\n",
              "      <td>0.0</td>\n",
              "      <td>0.0</td>\n",
              "      <td>0.0</td>\n",
              "      <td>0.0</td>\n",
              "      <td>0.0</td>\n",
              "      <td>0.0</td>\n",
              "      <td>0.0</td>\n",
              "    </tr>\n",
              "  </tbody>\n",
              "</table>\n",
              "</div>"
            ],
            "text/plain": [
              "    EX  VBZ   JJ   NN  WDT  VBN   TO  ...  SYM  WP$    $  PDT   UH  NNPS   LS\n",
              "0  1.0  2.0  2.0  5.0  1.0  1.0  1.0  ...  0.0  0.0  0.0  0.0  0.0   0.0  0.0\n",
              "1  0.0  0.0  4.0  6.0  0.0  1.0  1.0  ...  0.0  0.0  0.0  0.0  0.0   0.0  0.0\n",
              "2  0.0  1.0  0.0  5.0  1.0  3.0  5.0  ...  0.0  0.0  0.0  0.0  0.0   0.0  0.0\n",
              "3  0.0  0.0  2.0  9.0  0.0  1.0  0.0  ...  0.0  0.0  0.0  0.0  0.0   0.0  0.0\n",
              "4  0.0  2.0  3.0  7.0  0.0  0.0  0.0  ...  0.0  0.0  0.0  0.0  0.0   0.0  0.0\n",
              "\n",
              "[5 rows x 43 columns]"
            ]
          },
          "metadata": {
            "tags": []
          },
          "execution_count": 31
        }
      ]
    },
    {
      "cell_type": "code",
      "metadata": {
        "colab": {
          "base_uri": "https://localhost:8080/",
          "height": 224
        },
        "id": "PXbaeEuXLIln",
        "outputId": "07ed0ed2-cbe7-4a5e-8e7f-16a8686121dd"
      },
      "source": [
        "# the same for WikiLarge_Train data\n",
        "# make sure it has the same order of columns as the train data\n",
        "\n",
        "cols = pos_df.columns\n",
        "pos_test_df = pd.read_csv(\"MyDrive/Colab Notebooks/pos_test_df.csv\")\n",
        "pos_test_df = pos_test_df[cols]\n",
        "pos_test_df.head()"
      ],
      "execution_count": null,
      "outputs": [
        {
          "output_type": "execute_result",
          "data": {
            "text/html": [
              "<div>\n",
              "<style scoped>\n",
              "    .dataframe tbody tr th:only-of-type {\n",
              "        vertical-align: middle;\n",
              "    }\n",
              "\n",
              "    .dataframe tbody tr th {\n",
              "        vertical-align: top;\n",
              "    }\n",
              "\n",
              "    .dataframe thead th {\n",
              "        text-align: right;\n",
              "    }\n",
              "</style>\n",
              "<table border=\"1\" class=\"dataframe\">\n",
              "  <thead>\n",
              "    <tr style=\"text-align: right;\">\n",
              "      <th></th>\n",
              "      <th>EX</th>\n",
              "      <th>VBZ</th>\n",
              "      <th>JJ</th>\n",
              "      <th>NN</th>\n",
              "      <th>WDT</th>\n",
              "      <th>VBN</th>\n",
              "      <th>TO</th>\n",
              "      <th>VB</th>\n",
              "      <th>IN</th>\n",
              "      <th>DT</th>\n",
              "      <th>NNS</th>\n",
              "      <th>RB</th>\n",
              "      <th>CD</th>\n",
              "      <th>``</th>\n",
              "      <th>,</th>\n",
              "      <th>CC</th>\n",
              "      <th>PRP$</th>\n",
              "      <th>VBD</th>\n",
              "      <th>.</th>\n",
              "      <th>POS</th>\n",
              "      <th>WP</th>\n",
              "      <th>PRP</th>\n",
              "      <th>VBG</th>\n",
              "      <th>VBP</th>\n",
              "      <th>:</th>\n",
              "      <th>RBS</th>\n",
              "      <th>WRB</th>\n",
              "      <th>NNP</th>\n",
              "      <th>JJS</th>\n",
              "      <th>MD</th>\n",
              "      <th>JJR</th>\n",
              "      <th>RP</th>\n",
              "      <th>RBR</th>\n",
              "      <th>#</th>\n",
              "      <th>FW</th>\n",
              "      <th>''</th>\n",
              "      <th>SYM</th>\n",
              "      <th>WP$</th>\n",
              "      <th>$</th>\n",
              "      <th>PDT</th>\n",
              "      <th>UH</th>\n",
              "      <th>NNPS</th>\n",
              "      <th>LS</th>\n",
              "    </tr>\n",
              "  </thead>\n",
              "  <tbody>\n",
              "    <tr>\n",
              "      <th>0</th>\n",
              "      <td>0.0</td>\n",
              "      <td>0.0</td>\n",
              "      <td>0.0</td>\n",
              "      <td>1.0</td>\n",
              "      <td>0.0</td>\n",
              "      <td>0.0</td>\n",
              "      <td>0.0</td>\n",
              "      <td>0.0</td>\n",
              "      <td>0.0</td>\n",
              "      <td>0.0</td>\n",
              "      <td>0.0</td>\n",
              "      <td>0.0</td>\n",
              "      <td>0.0</td>\n",
              "      <td>0.0</td>\n",
              "      <td>0.0</td>\n",
              "      <td>0.0</td>\n",
              "      <td>0.0</td>\n",
              "      <td>0.0</td>\n",
              "      <td>0.0</td>\n",
              "      <td>0.0</td>\n",
              "      <td>0.0</td>\n",
              "      <td>0.0</td>\n",
              "      <td>0.0</td>\n",
              "      <td>0.0</td>\n",
              "      <td>0.0</td>\n",
              "      <td>0.0</td>\n",
              "      <td>0.0</td>\n",
              "      <td>0.0</td>\n",
              "      <td>0.0</td>\n",
              "      <td>0.0</td>\n",
              "      <td>0.0</td>\n",
              "      <td>0.0</td>\n",
              "      <td>0.0</td>\n",
              "      <td>0.0</td>\n",
              "      <td>0.0</td>\n",
              "      <td>0.0</td>\n",
              "      <td>0.0</td>\n",
              "      <td>0.0</td>\n",
              "      <td>0.0</td>\n",
              "      <td>0.0</td>\n",
              "      <td>0.0</td>\n",
              "      <td>0.0</td>\n",
              "      <td>0.0</td>\n",
              "    </tr>\n",
              "    <tr>\n",
              "      <th>1</th>\n",
              "      <td>0.0</td>\n",
              "      <td>0.0</td>\n",
              "      <td>0.0</td>\n",
              "      <td>1.0</td>\n",
              "      <td>0.0</td>\n",
              "      <td>0.0</td>\n",
              "      <td>0.0</td>\n",
              "      <td>0.0</td>\n",
              "      <td>0.0</td>\n",
              "      <td>0.0</td>\n",
              "      <td>0.0</td>\n",
              "      <td>0.0</td>\n",
              "      <td>0.0</td>\n",
              "      <td>0.0</td>\n",
              "      <td>0.0</td>\n",
              "      <td>0.0</td>\n",
              "      <td>0.0</td>\n",
              "      <td>0.0</td>\n",
              "      <td>0.0</td>\n",
              "      <td>0.0</td>\n",
              "      <td>0.0</td>\n",
              "      <td>0.0</td>\n",
              "      <td>0.0</td>\n",
              "      <td>0.0</td>\n",
              "      <td>0.0</td>\n",
              "      <td>0.0</td>\n",
              "      <td>0.0</td>\n",
              "      <td>0.0</td>\n",
              "      <td>0.0</td>\n",
              "      <td>0.0</td>\n",
              "      <td>0.0</td>\n",
              "      <td>0.0</td>\n",
              "      <td>0.0</td>\n",
              "      <td>0.0</td>\n",
              "      <td>0.0</td>\n",
              "      <td>0.0</td>\n",
              "      <td>0.0</td>\n",
              "      <td>0.0</td>\n",
              "      <td>0.0</td>\n",
              "      <td>0.0</td>\n",
              "      <td>0.0</td>\n",
              "      <td>0.0</td>\n",
              "      <td>0.0</td>\n",
              "    </tr>\n",
              "    <tr>\n",
              "      <th>2</th>\n",
              "      <td>0.0</td>\n",
              "      <td>0.0</td>\n",
              "      <td>0.0</td>\n",
              "      <td>1.0</td>\n",
              "      <td>0.0</td>\n",
              "      <td>0.0</td>\n",
              "      <td>0.0</td>\n",
              "      <td>0.0</td>\n",
              "      <td>0.0</td>\n",
              "      <td>0.0</td>\n",
              "      <td>0.0</td>\n",
              "      <td>0.0</td>\n",
              "      <td>0.0</td>\n",
              "      <td>0.0</td>\n",
              "      <td>0.0</td>\n",
              "      <td>0.0</td>\n",
              "      <td>0.0</td>\n",
              "      <td>0.0</td>\n",
              "      <td>0.0</td>\n",
              "      <td>0.0</td>\n",
              "      <td>0.0</td>\n",
              "      <td>0.0</td>\n",
              "      <td>0.0</td>\n",
              "      <td>0.0</td>\n",
              "      <td>0.0</td>\n",
              "      <td>0.0</td>\n",
              "      <td>0.0</td>\n",
              "      <td>0.0</td>\n",
              "      <td>0.0</td>\n",
              "      <td>0.0</td>\n",
              "      <td>0.0</td>\n",
              "      <td>0.0</td>\n",
              "      <td>0.0</td>\n",
              "      <td>0.0</td>\n",
              "      <td>0.0</td>\n",
              "      <td>0.0</td>\n",
              "      <td>0.0</td>\n",
              "      <td>0.0</td>\n",
              "      <td>0.0</td>\n",
              "      <td>0.0</td>\n",
              "      <td>0.0</td>\n",
              "      <td>0.0</td>\n",
              "      <td>0.0</td>\n",
              "    </tr>\n",
              "    <tr>\n",
              "      <th>3</th>\n",
              "      <td>0.0</td>\n",
              "      <td>0.0</td>\n",
              "      <td>0.0</td>\n",
              "      <td>1.0</td>\n",
              "      <td>0.0</td>\n",
              "      <td>0.0</td>\n",
              "      <td>0.0</td>\n",
              "      <td>0.0</td>\n",
              "      <td>0.0</td>\n",
              "      <td>0.0</td>\n",
              "      <td>0.0</td>\n",
              "      <td>0.0</td>\n",
              "      <td>0.0</td>\n",
              "      <td>0.0</td>\n",
              "      <td>0.0</td>\n",
              "      <td>0.0</td>\n",
              "      <td>0.0</td>\n",
              "      <td>0.0</td>\n",
              "      <td>0.0</td>\n",
              "      <td>0.0</td>\n",
              "      <td>0.0</td>\n",
              "      <td>0.0</td>\n",
              "      <td>0.0</td>\n",
              "      <td>0.0</td>\n",
              "      <td>0.0</td>\n",
              "      <td>0.0</td>\n",
              "      <td>0.0</td>\n",
              "      <td>0.0</td>\n",
              "      <td>0.0</td>\n",
              "      <td>0.0</td>\n",
              "      <td>0.0</td>\n",
              "      <td>0.0</td>\n",
              "      <td>0.0</td>\n",
              "      <td>0.0</td>\n",
              "      <td>0.0</td>\n",
              "      <td>0.0</td>\n",
              "      <td>0.0</td>\n",
              "      <td>0.0</td>\n",
              "      <td>0.0</td>\n",
              "      <td>0.0</td>\n",
              "      <td>0.0</td>\n",
              "      <td>0.0</td>\n",
              "      <td>0.0</td>\n",
              "    </tr>\n",
              "    <tr>\n",
              "      <th>4</th>\n",
              "      <td>0.0</td>\n",
              "      <td>0.0</td>\n",
              "      <td>0.0</td>\n",
              "      <td>0.0</td>\n",
              "      <td>0.0</td>\n",
              "      <td>0.0</td>\n",
              "      <td>0.0</td>\n",
              "      <td>0.0</td>\n",
              "      <td>0.0</td>\n",
              "      <td>0.0</td>\n",
              "      <td>0.0</td>\n",
              "      <td>0.0</td>\n",
              "      <td>1.0</td>\n",
              "      <td>0.0</td>\n",
              "      <td>0.0</td>\n",
              "      <td>0.0</td>\n",
              "      <td>0.0</td>\n",
              "      <td>0.0</td>\n",
              "      <td>0.0</td>\n",
              "      <td>0.0</td>\n",
              "      <td>0.0</td>\n",
              "      <td>0.0</td>\n",
              "      <td>0.0</td>\n",
              "      <td>0.0</td>\n",
              "      <td>0.0</td>\n",
              "      <td>0.0</td>\n",
              "      <td>0.0</td>\n",
              "      <td>0.0</td>\n",
              "      <td>0.0</td>\n",
              "      <td>0.0</td>\n",
              "      <td>0.0</td>\n",
              "      <td>0.0</td>\n",
              "      <td>0.0</td>\n",
              "      <td>0.0</td>\n",
              "      <td>0.0</td>\n",
              "      <td>0.0</td>\n",
              "      <td>0.0</td>\n",
              "      <td>0.0</td>\n",
              "      <td>0.0</td>\n",
              "      <td>0.0</td>\n",
              "      <td>0.0</td>\n",
              "      <td>0.0</td>\n",
              "      <td>0.0</td>\n",
              "    </tr>\n",
              "  </tbody>\n",
              "</table>\n",
              "</div>"
            ],
            "text/plain": [
              "    EX  VBZ   JJ   NN  WDT  VBN   TO  ...  SYM  WP$    $  PDT   UH  NNPS   LS\n",
              "0  0.0  0.0  0.0  1.0  0.0  0.0  0.0  ...  0.0  0.0  0.0  0.0  0.0   0.0  0.0\n",
              "1  0.0  0.0  0.0  1.0  0.0  0.0  0.0  ...  0.0  0.0  0.0  0.0  0.0   0.0  0.0\n",
              "2  0.0  0.0  0.0  1.0  0.0  0.0  0.0  ...  0.0  0.0  0.0  0.0  0.0   0.0  0.0\n",
              "3  0.0  0.0  0.0  1.0  0.0  0.0  0.0  ...  0.0  0.0  0.0  0.0  0.0   0.0  0.0\n",
              "4  0.0  0.0  0.0  0.0  0.0  0.0  0.0  ...  0.0  0.0  0.0  0.0  0.0   0.0  0.0\n",
              "\n",
              "[5 rows x 43 columns]"
            ]
          },
          "metadata": {
            "tags": []
          },
          "execution_count": 32
        }
      ]
    },
    {
      "cell_type": "markdown",
      "metadata": {
        "id": "ohukxh01LIlo"
      },
      "source": [
        "xgboost model"
      ]
    },
    {
      "cell_type": "markdown",
      "metadata": {
        "id": "ueQtMAAhQ6Kw"
      },
      "source": [
        "1. tuning the xgboost model using a pipeline and hold parameters in tfidf constant max_features=10000, ngram_range=(1,3), min_df=6, max_df=0.85"
      ]
    },
    {
      "cell_type": "code",
      "metadata": {
        "id": "EmLEASLkLIlp"
      },
      "source": [
        "X = data[['cleaned_text', 'length']]\n",
        "y = data['label']"
      ],
      "execution_count": null,
      "outputs": []
    },
    {
      "cell_type": "code",
      "metadata": {
        "id": "ps7366qPLIlp"
      },
      "source": [
        "# train dataset 80%, test dataset 20%\n",
        "X_train, X_test, y_train, y_test = train_test_split(X, y, test_size=0.2, random_state=42)"
      ],
      "execution_count": null,
      "outputs": []
    },
    {
      "cell_type": "code",
      "metadata": {
        "id": "0NKBCrysLIlp"
      },
      "source": [
        "# vectorize the text data (this cell takes a while to run)\n",
        "tfidf = TfidfVectorizer(analyzer='word', max_features=10000, ngram_range=(1,3), min_df=6, max_df=0.85,\n",
        "                     preprocessor=lemmatization)\n",
        "\n",
        "X_train_text_tfidf = tfidf.fit_transform(X_train['cleaned_text'])\n",
        "X_test_text_tfidf = tfidf.transform(X_test['cleaned_text'])"
      ],
      "execution_count": null,
      "outputs": []
    },
    {
      "cell_type": "code",
      "metadata": {
        "id": "DdJOmFFTLIlq"
      },
      "source": [
        "vocab = tfidf.vocabulary_ \n",
        "names = tfidf.get_feature_names()"
      ],
      "execution_count": null,
      "outputs": []
    },
    {
      "cell_type": "code",
      "metadata": {
        "id": "2jZWz8ZvLIlq"
      },
      "source": [
        "# increase the weight of those words from the additional dataset\n",
        "# in the document term matrix\n",
        "\n",
        "dale_chall = pd.read_csv(\"MyDrive/Colab Notebooks/dale_chall.txt\", header = None)\n",
        "dale_list = dale_chall[0].values\n",
        "# dale_list\n",
        "\n",
        "for w in dale_list:\n",
        "    if w in names:\n",
        "        index = vocab[w]\n",
        "        X_train_text_tfidf[:, index] *= 3\n",
        "        X_test_text_tfidf[:, index] *= 3      "
      ],
      "execution_count": null,
      "outputs": []
    },
    {
      "cell_type": "code",
      "metadata": {
        "id": "H-145geGLIlr"
      },
      "source": [
        "# combine document term matrix with the length column\n",
        "X_train_text_length = hstack([X_train_text_tfidf, X_train[\"length\"].to_numpy().reshape(-1,1)])\n",
        "X_test_text_length = hstack([X_test_text_tfidf, X_test[\"length\"].to_numpy().reshape(-1,1)])"
      ],
      "execution_count": null,
      "outputs": []
    },
    {
      "cell_type": "code",
      "metadata": {
        "id": "BcT3-OmiLIlr"
      },
      "source": [
        "# combine above (X_train_text_length and X_test_text_length) with pos df\n",
        "# first split pos df to 80/20 then stack the data \n",
        "X_pos = pos_df\n",
        "y = data['label']\n",
        "X_train_pos, X_test_pos, y_train_pos, y_test_pos = train_test_split(X_pos, y, test_size=0.2, random_state=42)\n",
        "# pos_sparse = sp.csr_matrix(pos_df.values)\n",
        "\n",
        "X_train_text_poslength = hstack([X_train_text_length, X_train_pos])\n",
        "X_test_text_poslength = hstack([X_test_text_length, X_test_pos])"
      ],
      "execution_count": null,
      "outputs": []
    },
    {
      "cell_type": "code",
      "metadata": {
        "id": "g5s1-OPLRdWb"
      },
      "source": [
        "clf = xgb.XGBClassifier()"
      ],
      "execution_count": null,
      "outputs": []
    },
    {
      "cell_type": "code",
      "metadata": {
        "id": "3FfSoYJ3R8VP"
      },
      "source": [
        "params = [{\"clf__n_estimators\":[1000], #[100,500,1000],\n",
        "           \"clf__max_depth\":[35], #[20,30,40],\n",
        "           \"clf__learning_rate\":[0.01], #[0.1,0.01],\n",
        "          \"clf__subsample\":[0.8], #[0.8,1],\n",
        "           \"clf__colsample_bytree\":[0.6], #[0.6,0.8,1],\n",
        "           \"clf__gamma\":[1],\n",
        "           \"clf__objective\":['binary:logistic'],\n",
        "            \"clf__reg_alpha \":[0.3],\n",
        "           \"clf__scale_pos_weight\": [1] \n",
        "}]"
      ],
      "execution_count": null,
      "outputs": []
    },
    {
      "cell_type": "code",
      "metadata": {
        "id": "bG7OJRV8T_BL"
      },
      "source": [
        "grid_search1 = GridSearchCV(clf, params, cv=5, n_jobs=1)"
      ],
      "execution_count": null,
      "outputs": []
    },
    {
      "cell_type": "code",
      "metadata": {
        "colab": {
          "base_uri": "https://localhost:8080/"
        },
        "id": "6gn9mjKYUeE-",
        "outputId": "ea0d0feb-2430-4eff-b455-cdf3f019be48"
      },
      "source": [
        "t0 = time.time()\n",
        "xg_model1 = grid_search1.fit(X_train_text_poslength, y_train)\n",
        "t1 = time.time()\n",
        "print(f\"time = {(t1-t0) /60} mins\")"
      ],
      "execution_count": null,
      "outputs": [
        {
          "output_type": "stream",
          "text": [
            "time = 4.739090236028035 mins\n"
          ],
          "name": "stdout"
        }
      ]
    },
    {
      "cell_type": "code",
      "metadata": {
        "colab": {
          "base_uri": "https://localhost:8080/"
        },
        "id": "z0kWpajnZEtQ",
        "outputId": "97a331d1-10d7-404b-e2f6-9d31861f3082"
      },
      "source": [
        "print(xg_model1.best_score_)\n",
        "print(xg_model1.best_params_)"
      ],
      "execution_count": null,
      "outputs": [
        {
          "output_type": "stream",
          "text": [
            "0.6789996887312203\n",
            "{'clf__colsample_bytree': 0.6, 'clf__gamma': 1, 'clf__learning_rate': 0.01, 'clf__max_depth': 35, 'clf__n_estimators': 1000, 'clf__objective': 'binary:logistic', 'clf__reg_alpha ': 0.3, 'clf__scale_pos_weight': 1, 'clf__subsample': 0.8}\n"
          ],
          "name": "stdout"
        }
      ]
    },
    {
      "cell_type": "code",
      "metadata": {
        "colab": {
          "base_uri": "https://localhost:8080/"
        },
        "id": "RsfhrN84W7UI",
        "outputId": "05c77b20-4111-492b-a45a-73355c58eb7a"
      },
      "source": [
        "preds_pos = xg_model1.predict(X_test_text_poslength)\n",
        "preds_pos"
      ],
      "execution_count": null,
      "outputs": [
        {
          "output_type": "execute_result",
          "data": {
            "text/plain": [
              "array([1, 0, 0, ..., 1, 0, 0])"
            ]
          },
          "metadata": {
            "tags": []
          },
          "execution_count": 85
        }
      ]
    },
    {
      "cell_type": "code",
      "metadata": {
        "colab": {
          "base_uri": "https://localhost:8080/"
        },
        "id": "Qr6qlcYPXDxt",
        "outputId": "fe1392ca-8800-409e-c84c-0fe6528f53ff"
      },
      "source": [
        "accuracy_score(y_test, preds_pos)"
      ],
      "execution_count": null,
      "outputs": [
        {
          "output_type": "execute_result",
          "data": {
            "text/plain": [
              "0.6806272044532956"
            ]
          },
          "metadata": {
            "tags": []
          },
          "execution_count": 86
        }
      ]
    },
    {
      "cell_type": "code",
      "metadata": {
        "colab": {
          "base_uri": "https://localhost:8080/"
        },
        "id": "H8EJxsztZt5C",
        "outputId": "fc8fe528-8fe9-4298-f388-558fb1541bee"
      },
      "source": [
        "print(metrics.classification_report(y_test, preds_pos))"
      ],
      "execution_count": null,
      "outputs": [
        {
          "output_type": "stream",
          "text": [
            "              precision    recall  f1-score   support\n",
            "\n",
            "           0       0.68      0.67      0.68     41549\n",
            "           1       0.68      0.69      0.69     41805\n",
            "\n",
            "    accuracy                           0.68     83354\n",
            "   macro avg       0.68      0.68      0.68     83354\n",
            "weighted avg       0.68      0.68      0.68     83354\n",
            "\n"
          ],
          "name": "stdout"
        }
      ]
    },
    {
      "cell_type": "code",
      "metadata": {
        "id": "VaXxDxLWbcdI"
      },
      "source": [
        "prob_0 = xg_model1.predict_proba(X_test_text_poslength)[:,0]\n",
        "prob_1 = xg_model1.predict_proba(X_test_text_poslength)[:,1]"
      ],
      "execution_count": null,
      "outputs": []
    },
    {
      "cell_type": "code",
      "metadata": {
        "id": "xUi3EdaeY3H1"
      },
      "source": [
        "# calculate roc curves\n",
        "fpr1, tpr1, _ = roc_curve(y_test, prob_1)"
      ],
      "execution_count": null,
      "outputs": []
    },
    {
      "cell_type": "code",
      "metadata": {
        "colab": {
          "base_uri": "https://localhost:8080/",
          "height": 312
        },
        "id": "ITsfnR53Y2_m",
        "outputId": "d8592e6d-2955-4821-fa65-15351b239b46"
      },
      "source": [
        "plt.plot(fpr1, tpr1, label='class1')\n",
        "plt.plot([0, 1], [0, 1], color='navy', lw=2, linestyle='--')\n",
        "plt.xlim([0.0, 1.0])\n",
        "plt.ylim([0.0, 1.05])\n",
        "plt.xlabel('False Positive Rate')\n",
        "plt.ylabel('True Positive Rate')\n",
        "plt.title('ROC curve')\n",
        "plt.legend()"
      ],
      "execution_count": null,
      "outputs": [
        {
          "output_type": "execute_result",
          "data": {
            "text/plain": [
              "<matplotlib.legend.Legend at 0x7f592451da90>"
            ]
          },
          "metadata": {
            "tags": []
          },
          "execution_count": 90
        },
        {
          "output_type": "display_data",
          "data": {
            "image/png": "[encoded data removed]",
            "text/plain": [
              "<Figure size 432x288 with 1 Axes>"
            ]
          },
          "metadata": {
            "tags": [],
            "needs_background": "light"
          }
        }
      ]
    },
    {
      "cell_type": "code",
      "metadata": {
        "id": "25a_9mR3Y2vj"
      },
      "source": [
        "from sklearn.metrics import precision_recall_curve\n",
        "precision, recall, thresholds = precision_recall_curve(y_test, prob_1)"
      ],
      "execution_count": null,
      "outputs": []
    },
    {
      "cell_type": "code",
      "metadata": {
        "colab": {
          "base_uri": "https://localhost:8080/",
          "height": 329
        },
        "id": "nxZmn6hbY2it",
        "outputId": "356f41f5-c02a-4cdb-e3c8-8335c5239043"
      },
      "source": [
        "plt.plot(recall, precision)\n",
        "# plt.plot([0, 1], [0, 1], color='navy', lw=2, linestyle='--')\n",
        "plt.xlim([0.0, 1.0])\n",
        "plt.ylim([0.0, 1.05])\n",
        "plt.xlabel('recall (class 1)')\n",
        "plt.ylabel('precision (class1)')\n",
        "plt.title('ROC curve')\n",
        "plt.legend()"
      ],
      "execution_count": null,
      "outputs": [
        {
          "output_type": "stream",
          "text": [
            "No handles with labels found to put in legend.\n"
          ],
          "name": "stderr"
        },
        {
          "output_type": "execute_result",
          "data": {
            "text/plain": [
              "<matplotlib.legend.Legend at 0x7f59151bebd0>"
            ]
          },
          "metadata": {
            "tags": []
          },
          "execution_count": 107
        },
        {
          "output_type": "display_data",
          "data": {
            "image/png": "[encoded data removed]",
            "text/plain": [
              "<Figure size 432x288 with 1 Axes>"
            ]
          },
          "metadata": {
            "tags": [],
            "needs_background": "light"
          }
        }
      ]
    },
    {
      "cell_type": "markdown",
      "metadata": {
        "id": "yDFP3rwjgyQq"
      },
      "source": [
        "2. tuning the xgboost model using a pipeline and hold parameters in tfidf constant max_features=20000, ngram_range=(1,2), min_df=9, max_df=0.9"
      ]
    },
    {
      "cell_type": "code",
      "metadata": {
        "id": "d2ql50VhgOuf"
      },
      "source": [
        "tfidf1 = TfidfVectorizer(analyzer='word', max_features=20000, ngram_range=(1,2), min_df=8, max_df=0.9,\n",
        "                     preprocessor=lemmatization)\n",
        "\n",
        "X_train_text_tfidf1 = tfidf1.fit_transform(X_train['cleaned_text'])\n",
        "X_test_text_tfidf1 = tfidf1.transform(X_test['cleaned_text'])\n",
        "\n",
        "vocab1 = tfidf1.vocabulary_ \n",
        "names1 = tfidf1.get_feature_names()"
      ],
      "execution_count": null,
      "outputs": []
    },
    {
      "cell_type": "code",
      "metadata": {
        "id": "Ss2Kaz6mgQfy"
      },
      "source": [
        "# combine document term matrix with the length column\n",
        "X_train_text_length1 = hstack([X_train_text_tfidf1, X_train[\"length\"].to_numpy().reshape(-1,1)])\n",
        "X_test_text_length1 = hstack([X_test_text_tfidf1, X_test[\"length\"].to_numpy().reshape(-1,1)])"
      ],
      "execution_count": null,
      "outputs": []
    },
    {
      "cell_type": "code",
      "metadata": {
        "id": "_EWGZySrgQZm"
      },
      "source": [
        "# combine above (X_train_text_length and X_test_text_length) with pos df\n",
        "# first split pos df to 80/20 then stack the data \n",
        "X_pos = pos_df\n",
        "y = data['label']\n",
        "X_train_pos, X_test_pos, y_train_pos, y_test_pos = train_test_split(X_pos, y, test_size=0.2, random_state=42)\n",
        "# pos_sparse = sp.csr_matrix(pos_df.values)\n",
        "\n",
        "X_train_text_poslength1 = hstack([X_train_text_length1, X_train_pos])\n",
        "X_test_text_poslength1 = hstack([X_test_text_length1, X_test_pos])"
      ],
      "execution_count": null,
      "outputs": []
    },
    {
      "cell_type": "code",
      "metadata": {
        "id": "42zHbQdGgQSp"
      },
      "source": [
        "params1 = [{\"clf__n_estimators\":[1000],#[2000,4000],\n",
        "           \"clf__max_depth\":[30,35],\n",
        "           \"clf__learning_rate\":[0.1,0.01],\n",
        "          \"clf__subsample\":[0.8],\n",
        "           \"clf__colsample_bytree\":[0.6],\n",
        "           \"clf__gamma\":[1],\n",
        "           \"clf__objective\":['binary:logistic'],\n",
        "            \"clf__reg_alpha \":[0.3],\n",
        "           \"clf__scale_pos_weight\": [1] \n",
        "}]"
      ],
      "execution_count": null,
      "outputs": []
    },
    {
      "cell_type": "code",
      "metadata": {
        "id": "LRvwocDygPtY"
      },
      "source": [
        "grid_search2 = GridSearchCV(clf, params1, cv=5, n_jobs=1)"
      ],
      "execution_count": null,
      "outputs": []
    },
    {
      "cell_type": "code",
      "metadata": {
        "colab": {
          "base_uri": "https://localhost:8080/"
        },
        "id": "jo_uaQT1gOn1",
        "outputId": "11b25fe0-a38f-4eea-a343-6c1ffacc43ad"
      },
      "source": [
        "t0 = time.time()\n",
        "xg_model2 = grid_search2.fit(X_train_text_poslength1, y_train)\n",
        "t1 = time.time()\n",
        "print(f\"time = {(t1-t0) /60} mins\")"
      ],
      "execution_count": null,
      "outputs": [
        {
          "output_type": "stream",
          "text": [
            "time = 17.398496814568837 mins\n"
          ],
          "name": "stdout"
        }
      ]
    },
    {
      "cell_type": "code",
      "metadata": {
        "colab": {
          "base_uri": "https://localhost:8080/"
        },
        "id": "7J6uXH8UiUsH",
        "outputId": "9d2f112e-dd52-4e07-affc-bf10ebdff462"
      },
      "source": [
        "print(xg_model2.best_score_)\n",
        "print(xg_model2.best_params_)"
      ],
      "execution_count": null,
      "outputs": [
        {
          "output_type": "stream",
          "text": [
            "0.6791526523798677\n",
            "{'clf__colsample_bytree': 0.6, 'clf__gamma': 1, 'clf__learning_rate': 0.1, 'clf__max_depth': 30, 'clf__n_estimators': 1000, 'clf__objective': 'binary:logistic', 'clf__reg_alpha ': 0.3, 'clf__scale_pos_weight': 1, 'clf__subsample': 0.8}\n"
          ],
          "name": "stdout"
        }
      ]
    },
    {
      "cell_type": "code",
      "metadata": {
        "colab": {
          "base_uri": "https://localhost:8080/"
        },
        "id": "3zr2q0zviUzC",
        "outputId": "341c1359-e552-40e6-bc19-f8756d53fb48"
      },
      "source": [
        "preds_pos2 = xg_model2.predict(X_test_text_poslength1)\n",
        "accuracy_score(y_test, preds_pos2)"
      ],
      "execution_count": null,
      "outputs": [
        {
          "output_type": "execute_result",
          "data": {
            "text/plain": [
              "0.6802073085874704"
            ]
          },
          "metadata": {
            "tags": []
          },
          "execution_count": 129
        }
      ]
    },
    {
      "cell_type": "code",
      "metadata": {
        "id": "EcRu5CHEiU33"
      },
      "source": [
        "# write a loop to check how max_feature affects accuracy\n",
        "\n",
        "def maxfeature_eval(features,X_train,X_test,pos_df,data):    \n",
        "  tfidf = TfidfVectorizer(analyzer='word', max_features=features, ngram_range=(1,2), min_df=6, max_df=0.9,)\n",
        "                    #  preprocessor=lemmatization)\n",
        "  X_train_text_tfidf = tfidf.fit_transform(X_train['cleaned_text'])\n",
        "  X_test_text_tfidf = tfidf.transform(X_test['cleaned_text'])\n",
        "  X_train_text_length = hstack([X_train_text_tfidf, X_train[\"length\"].to_numpy().reshape(-1,1)])\n",
        "  X_test_text_length = hstack([X_test_text_tfidf, X_test[\"length\"].to_numpy().reshape(-1,1)])\n",
        "  X_pos = pos_df\n",
        "  y = data['label']\n",
        "  X_train_pos, X_test_pos, y_train_pos, y_test_pos = train_test_split(X_pos, y, test_size=0.2, random_state=42)\n",
        "\n",
        "  X_train_text_poslength = hstack([X_train_text_length, X_train_pos])\n",
        "  X_test_text_poslength = hstack([X_test_text_length, X_test_pos])\n",
        "  return X_train_text_poslength, X_test_text_poslength\n"
      ],
      "execution_count": null,
      "outputs": []
    },
    {
      "cell_type": "code",
      "metadata": {
        "id": "x9zN7z1UiU87"
      },
      "source": [
        "params2 = [{\"clf__n_estimators\":[1000],#[2000,4000],\n",
        "           \"clf__max_depth\":[25,30],\n",
        "           \"clf__learning_rate\":[0.01],\n",
        "          \"clf__subsample\":[0.8],\n",
        "           \"clf__colsample_bytree\":[0.6],\n",
        "           \"clf__gamma\":[1],\n",
        "           \"clf__objective\":['binary:logistic'],\n",
        "            \"clf__reg_alpha \":[0.3],\n",
        "           \"clf__scale_pos_weight\": [1] \n",
        "}]"
      ],
      "execution_count": null,
      "outputs": []
    },
    {
      "cell_type": "code",
      "metadata": {
        "id": "Fd_vTP_IgOeu"
      },
      "source": [
        "clf = xgb.XGBClassifier()\n",
        "grid_search3 = GridSearchCV(clf, params2, cv=5, n_jobs=1)"
      ],
      "execution_count": null,
      "outputs": []
    },
    {
      "cell_type": "code",
      "metadata": {
        "colab": {
          "base_uri": "https://localhost:8080/"
        },
        "id": "yHuzUGnVhtsc",
        "outputId": "abca534f-80fa-4cf9-cd47-140f01b1856a"
      },
      "source": [
        "res = []\n",
        "for feature in [5000, 10000, 15000, 20000, 25000, 30000, 40000, 50000]:\n",
        "  res.append(maxfeature_eval(feature,X_train,X_test,pos_df,data))\n",
        "len(res)"
      ],
      "execution_count": null,
      "outputs": [
        {
          "output_type": "execute_result",
          "data": {
            "text/plain": [
              "8"
            ]
          },
          "metadata": {
            "tags": []
          },
          "execution_count": 138
        }
      ]
    },
    {
      "cell_type": "code",
      "metadata": {
        "colab": {
          "base_uri": "https://localhost:8080/"
        },
        "id": "8mHZvzBdjCRd",
        "outputId": "c38e7bb5-b11d-412c-b9cc-e2c555f08ca4"
      },
      "source": [
        "# get the first item in the tuple\n",
        "res_f = []\n",
        "for t in res:\n",
        "  res_f.append(t[0])\n",
        "len(res_f)"
      ],
      "execution_count": null,
      "outputs": [
        {
          "output_type": "execute_result",
          "data": {
            "text/plain": [
              "8"
            ]
          },
          "metadata": {
            "tags": []
          },
          "execution_count": 140
        }
      ]
    },
    {
      "cell_type": "code",
      "metadata": {
        "colab": {
          "base_uri": "https://localhost:8080/"
        },
        "id": "sssVx6giCM2p",
        "outputId": "e4d6e8ac-cfac-4288-f4c1-674072149897"
      },
      "source": [
        "res_f"
      ],
      "execution_count": null,
      "outputs": [
        {
          "output_type": "execute_result",
          "data": {
            "text/plain": [
              "[<333414x5044 sparse matrix of type '<class 'numpy.float64'>'\n",
              " \twith 9007946 stored elements in COOrdinate format>,\n",
              " <333414x10044 sparse matrix of type '<class 'numpy.float64'>'\n",
              " \twith 9693283 stored elements in COOrdinate format>,\n",
              " <333414x15044 sparse matrix of type '<class 'numpy.float64'>'\n",
              " \twith 10088562 stored elements in COOrdinate format>,\n",
              " <333414x20044 sparse matrix of type '<class 'numpy.float64'>'\n",
              " \twith 10365887 stored elements in COOrdinate format>,\n",
              " <333414x25044 sparse matrix of type '<class 'numpy.float64'>'\n",
              " \twith 10578893 stored elements in COOrdinate format>,\n",
              " <333414x30044 sparse matrix of type '<class 'numpy.float64'>'\n",
              " \twith 10751810 stored elements in COOrdinate format>,\n",
              " <333414x40044 sparse matrix of type '<class 'numpy.float64'>'\n",
              " \twith 11022263 stored elements in COOrdinate format>,\n",
              " <333414x50044 sparse matrix of type '<class 'numpy.float64'>'\n",
              " \twith 11230015 stored elements in COOrdinate format>]"
            ]
          },
          "metadata": {
            "tags": []
          },
          "execution_count": 147
        }
      ]
    },
    {
      "cell_type": "code",
      "metadata": {
        "id": "44m-YhFvCyy_"
      },
      "source": [
        "test = grid_search3.fit(res_f[0], y_train)"
      ],
      "execution_count": null,
      "outputs": []
    },
    {
      "cell_type": "code",
      "metadata": {
        "colab": {
          "base_uri": "https://localhost:8080/"
        },
        "id": "WNFD0biUDkwH",
        "outputId": "7213aeb1-7394-42bd-80d7-b9fc8dcb2cd6"
      },
      "source": [
        "test.best_score_"
      ],
      "execution_count": null,
      "outputs": [
        {
          "output_type": "execute_result",
          "data": {
            "text/plain": [
              "0.6816330513405907"
            ]
          },
          "metadata": {
            "tags": []
          },
          "execution_count": 149
        }
      ]
    },
    {
      "cell_type": "code",
      "metadata": {
        "id": "1Wi-RwWZGZey"
      },
      "source": [
        "test1 = grid_search3.fit(res_f[1], y_train)"
      ],
      "execution_count": null,
      "outputs": []
    },
    {
      "cell_type": "code",
      "metadata": {
        "colab": {
          "base_uri": "https://localhost:8080/"
        },
        "id": "iUgMHeG0GffI",
        "outputId": "8a69b41f-f342-4c09-b3de-231370de51f3"
      },
      "source": [
        "test1.best_score_"
      ],
      "execution_count": null,
      "outputs": [
        {
          "output_type": "execute_result",
          "data": {
            "text/plain": [
              "0.6817380257118492"
            ]
          },
          "metadata": {
            "tags": []
          },
          "execution_count": 155
        }
      ]
    },
    {
      "cell_type": "code",
      "metadata": {
        "colab": {
          "base_uri": "https://localhost:8080/"
        },
        "id": "BoJZtr_OJ65R",
        "outputId": "1fb06c66-7c8b-4622-f28b-096302e9b213"
      },
      "source": [
        "test2 = grid_search3.fit(res_f[2], y_train)\n",
        "test2.best_score_"
      ],
      "execution_count": null,
      "outputs": [
        {
          "output_type": "execute_result",
          "data": {
            "text/plain": [
              "0.6816150547599806"
            ]
          },
          "metadata": {
            "tags": []
          },
          "execution_count": 156
        }
      ]
    },
    {
      "cell_type": "code",
      "metadata": {
        "colab": {
          "base_uri": "https://localhost:8080/"
        },
        "id": "9EMGoCPHNQL7",
        "outputId": "d3141fcc-fd7d-4ca7-915c-39b6a483e47c"
      },
      "source": [
        "test3 = grid_search3.fit(res_f[3], y_train)\n",
        "test3.best_score_"
      ],
      "execution_count": null,
      "outputs": [
        {
          "output_type": "execute_result",
          "data": {
            "text/plain": [
              "0.6813991075320825"
            ]
          },
          "metadata": {
            "tags": []
          },
          "execution_count": 157
        }
      ]
    },
    {
      "cell_type": "code",
      "metadata": {
        "id": "G4r54DfyQ9no"
      },
      "source": [
        "test4 = grid_search3.fit(res_f[7], y_train)\n",
        "test4.best_score_"
      ],
      "execution_count": null,
      "outputs": []
    },
    {
      "cell_type": "code",
      "metadata": {
        "colab": {
          "base_uri": "https://localhost:8080/"
        },
        "id": "Rw-zlsKChePu",
        "outputId": "96b3bc41-371d-441c-d178-49aa45bf3dc8"
      },
      "source": [
        "t0 = time.time()\n",
        "best_models = []\n",
        "for x in res_f:\n",
        "  xg_model2 = grid_search3.fit(x, y_train)\n",
        "  best_models.append(xg_model2)\n",
        "  t1 = time.time()\n",
        "  print(f\"time = {(t1-t0) /60} mins\")"
      ],
      "execution_count": null,
      "outputs": [
        {
          "output_type": "stream",
          "text": [
            "time = 12.15883785088857 mins\n",
            "time = 25.568058653672537 mins\n",
            "time = 39.646129322052005 mins\n",
            "time = 54.349635223547615 mins\n",
            "time = 69.47328737179438 mins\n",
            "time = 85.02292761405309 mins\n",
            "time = 101.19039036432902 mins\n",
            "time = 117.91441212097804 mins\n"
          ],
          "name": "stdout"
        }
      ]
    },
    {
      "cell_type": "code",
      "metadata": {
        "colab": {
          "base_uri": "https://localhost:8080/"
        },
        "id": "gsPBIieml1D5",
        "outputId": "bc2e931d-4ef5-4758-b9dc-8bd030cd6c34"
      },
      "source": [
        "len(best_models)"
      ],
      "execution_count": null,
      "outputs": [
        {
          "output_type": "execute_result",
          "data": {
            "text/plain": [
              "8"
            ]
          },
          "metadata": {
            "tags": []
          },
          "execution_count": 142
        }
      ]
    },
    {
      "cell_type": "code",
      "metadata": {
        "id": "RGkhgg9EzdBm"
      },
      "source": [
        ""
      ],
      "execution_count": null,
      "outputs": []
    },
    {
      "cell_type": "code",
      "metadata": {
        "id": "3FpD88yOzc6T"
      },
      "source": [
        ""
      ],
      "execution_count": null,
      "outputs": []
    },
    {
      "cell_type": "code",
      "metadata": {
        "id": "E2hEh8efzcyx"
      },
      "source": [
        ""
      ],
      "execution_count": null,
      "outputs": []
    },
    {
      "cell_type": "code",
      "metadata": {
        "id": "wsgObDtEzcqz"
      },
      "source": [
        ""
      ],
      "execution_count": null,
      "outputs": []
    },
    {
      "cell_type": "code",
      "metadata": {
        "id": "qXB7y7zPzcYx"
      },
      "source": [
        ""
      ],
      "execution_count": null,
      "outputs": []
    },
    {
      "cell_type": "code",
      "metadata": {
        "id": "E0-Q_UXQLIlr"
      },
      "source": [
        "# now we have the input data ready. we can fit the model\n",
        "\n",
        "model_pos = xgb.XGBClassifier(#num_class=2, \n",
        "                      scale_pos_weight=1,\n",
        "                      learning_rate=0.01,  \n",
        "                      colsample_bytree = 0.6,\n",
        "                      subsample = 0.8,\n",
        "                      objective='binary:logistic', \n",
        "                      n_estimators=1000, \n",
        "                      reg_alpha = 0.3,\n",
        "                      max_depth=35, \n",
        "                      gamma=1)"
      ],
      "execution_count": null,
      "outputs": []
    },
    {
      "cell_type": "code",
      "metadata": {
        "id": "HNPtYK0FLIls"
      },
      "source": [
        "# it takes hours to run 800 iterations. so I have saved the trained model \n",
        "# comment out below to save time\n",
        "eval_set = [(X_train_text_poslength, y_train), (X_test_text_poslength, y_test)]\n",
        "eval_metric = [\"error\"]"
      ],
      "execution_count": null,
      "outputs": []
    },
    {
      "cell_type": "code",
      "metadata": {
        "id": "FK1YeErLLIls",
        "outputId": "d3c1f893-2d11-48af-8d6b-bcd86e0761a3"
      },
      "source": [
        "model_pos.fit(X_train_text_poslength, y_train, eval_metric=eval_metric, \n",
        "              eval_set=eval_set, verbose=True)"
      ],
      "execution_count": null,
      "outputs": [
        {
          "output_type": "stream",
          "text": [
            "[0]\tvalidation_0-error:0.27906\tvalidation_1-error:0.32307\n",
            "[1]\tvalidation_0-error:0.24443\tvalidation_1-error:0.31877\n",
            "[2]\tvalidation_0-error:0.24227\tvalidation_1-error:0.31159\n",
            "[3]\tvalidation_0-error:0.23402\tvalidation_1-error:0.30638\n",
            "[4]\tvalidation_0-error:0.23591\tvalidation_1-error:0.30278\n",
            "[5]\tvalidation_0-error:0.23525\tvalidation_1-error:0.30206\n",
            "[6]\tvalidation_0-error:0.22972\tvalidation_1-error:0.30044\n",
            "[7]\tvalidation_0-error:0.22870\tvalidation_1-error:0.29905\n",
            "[8]\tvalidation_0-error:0.22886\tvalidation_1-error:0.29731\n",
            "[9]\tvalidation_0-error:0.23010\tvalidation_1-error:0.29683\n",
            "[10]\tvalidation_0-error:0.23061\tvalidation_1-error:0.29658\n",
            "[11]\tvalidation_0-error:0.22848\tvalidation_1-error:0.29490\n",
            "[12]\tvalidation_0-error:0.22626\tvalidation_1-error:0.29461\n",
            "[13]\tvalidation_0-error:0.22711\tvalidation_1-error:0.29412\n",
            "[14]\tvalidation_0-error:0.22639\tvalidation_1-error:0.29388\n",
            "[15]\tvalidation_0-error:0.22440\tvalidation_1-error:0.29363\n",
            "[16]\tvalidation_0-error:0.22517\tvalidation_1-error:0.29350\n",
            "[17]\tvalidation_0-error:0.22407\tvalidation_1-error:0.29328\n",
            "[18]\tvalidation_0-error:0.22415\tvalidation_1-error:0.29306\n",
            "[19]\tvalidation_0-error:0.22455\tvalidation_1-error:0.29317\n",
            "[20]\tvalidation_0-error:0.22328\tvalidation_1-error:0.29303\n",
            "[21]\tvalidation_0-error:0.22238\tvalidation_1-error:0.29252\n",
            "[22]\tvalidation_0-error:0.22168\tvalidation_1-error:0.29351\n",
            "[23]\tvalidation_0-error:0.22193\tvalidation_1-error:0.29312\n",
            "[24]\tvalidation_0-error:0.22265\tvalidation_1-error:0.29250\n",
            "[25]\tvalidation_0-error:0.22178\tvalidation_1-error:0.29219\n",
            "[26]\tvalidation_0-error:0.22113\tvalidation_1-error:0.29228\n",
            "[27]\tvalidation_0-error:0.22184\tvalidation_1-error:0.29216\n",
            "[28]\tvalidation_0-error:0.22111\tvalidation_1-error:0.29176\n",
            "[29]\tvalidation_0-error:0.22004\tvalidation_1-error:0.29122\n",
            "[30]\tvalidation_0-error:0.22006\tvalidation_1-error:0.29117\n",
            "[31]\tvalidation_0-error:0.21960\tvalidation_1-error:0.29083\n",
            "[32]\tvalidation_0-error:0.22007\tvalidation_1-error:0.29141\n",
            "[33]\tvalidation_0-error:0.21974\tvalidation_1-error:0.29099\n",
            "[34]\tvalidation_0-error:0.21954\tvalidation_1-error:0.29042\n",
            "[35]\tvalidation_0-error:0.21799\tvalidation_1-error:0.29086\n",
            "[36]\tvalidation_0-error:0.21851\tvalidation_1-error:0.29063\n",
            "[37]\tvalidation_0-error:0.21858\tvalidation_1-error:0.29083\n",
            "[38]\tvalidation_0-error:0.21839\tvalidation_1-error:0.29047\n",
            "[39]\tvalidation_0-error:0.21832\tvalidation_1-error:0.29048\n",
            "[40]\tvalidation_0-error:0.21781\tvalidation_1-error:0.29035\n",
            "[41]\tvalidation_0-error:0.21761\tvalidation_1-error:0.29021\n",
            "[42]\tvalidation_0-error:0.21678\tvalidation_1-error:0.28955\n",
            "[43]\tvalidation_0-error:0.21651\tvalidation_1-error:0.28975\n",
            "[44]\tvalidation_0-error:0.21674\tvalidation_1-error:0.28960\n",
            "[45]\tvalidation_0-error:0.21654\tvalidation_1-error:0.28954\n",
            "[46]\tvalidation_0-error:0.21660\tvalidation_1-error:0.28954\n",
            "[47]\tvalidation_0-error:0.21661\tvalidation_1-error:0.28948\n",
            "[48]\tvalidation_0-error:0.21588\tvalidation_1-error:0.28955\n",
            "[49]\tvalidation_0-error:0.21600\tvalidation_1-error:0.28962\n",
            "[50]\tvalidation_0-error:0.21627\tvalidation_1-error:0.28943\n",
            "[51]\tvalidation_0-error:0.21622\tvalidation_1-error:0.28939\n",
            "[52]\tvalidation_0-error:0.21575\tvalidation_1-error:0.28957\n",
            "[53]\tvalidation_0-error:0.21588\tvalidation_1-error:0.28939\n",
            "[54]\tvalidation_0-error:0.21552\tvalidation_1-error:0.28883\n",
            "[55]\tvalidation_0-error:0.21566\tvalidation_1-error:0.28865\n",
            "[56]\tvalidation_0-error:0.21548\tvalidation_1-error:0.28850\n",
            "[57]\tvalidation_0-error:0.21603\tvalidation_1-error:0.28901\n",
            "[58]\tvalidation_0-error:0.21581\tvalidation_1-error:0.28904\n",
            "[59]\tvalidation_0-error:0.21586\tvalidation_1-error:0.28888\n",
            "[60]\tvalidation_0-error:0.21562\tvalidation_1-error:0.28879\n",
            "[61]\tvalidation_0-error:0.21508\tvalidation_1-error:0.28832\n",
            "[62]\tvalidation_0-error:0.21489\tvalidation_1-error:0.28861\n",
            "[63]\tvalidation_0-error:0.21466\tvalidation_1-error:0.28831\n",
            "[64]\tvalidation_0-error:0.21449\tvalidation_1-error:0.28866\n",
            "[65]\tvalidation_0-error:0.21401\tvalidation_1-error:0.28846\n",
            "[66]\tvalidation_0-error:0.21423\tvalidation_1-error:0.28823\n",
            "[67]\tvalidation_0-error:0.21400\tvalidation_1-error:0.28830\n",
            "[68]\tvalidation_0-error:0.21405\tvalidation_1-error:0.28825\n",
            "[69]\tvalidation_0-error:0.21413\tvalidation_1-error:0.28801\n",
            "[70]\tvalidation_0-error:0.21389\tvalidation_1-error:0.28816\n",
            "[71]\tvalidation_0-error:0.21399\tvalidation_1-error:0.28813\n",
            "[72]\tvalidation_0-error:0.21414\tvalidation_1-error:0.28804\n",
            "[73]\tvalidation_0-error:0.21381\tvalidation_1-error:0.28773\n",
            "[74]\tvalidation_0-error:0.21346\tvalidation_1-error:0.28745\n",
            "[75]\tvalidation_0-error:0.21266\tvalidation_1-error:0.28750\n",
            "[76]\tvalidation_0-error:0.21225\tvalidation_1-error:0.28758\n",
            "[77]\tvalidation_0-error:0.21247\tvalidation_1-error:0.28762\n",
            "[78]\tvalidation_0-error:0.21254\tvalidation_1-error:0.28785\n",
            "[79]\tvalidation_0-error:0.21241\tvalidation_1-error:0.28779\n",
            "[80]\tvalidation_0-error:0.21250\tvalidation_1-error:0.28748\n",
            "[81]\tvalidation_0-error:0.21235\tvalidation_1-error:0.28714\n",
            "[82]\tvalidation_0-error:0.21192\tvalidation_1-error:0.28729\n",
            "[83]\tvalidation_0-error:0.21163\tvalidation_1-error:0.28687\n",
            "[84]\tvalidation_0-error:0.21124\tvalidation_1-error:0.28680\n",
            "[85]\tvalidation_0-error:0.21096\tvalidation_1-error:0.28682\n",
            "[86]\tvalidation_0-error:0.21079\tvalidation_1-error:0.28673\n",
            "[87]\tvalidation_0-error:0.21111\tvalidation_1-error:0.28674\n",
            "[88]\tvalidation_0-error:0.21116\tvalidation_1-error:0.28672\n",
            "[89]\tvalidation_0-error:0.21059\tvalidation_1-error:0.28630\n",
            "[90]\tvalidation_0-error:0.21058\tvalidation_1-error:0.28608\n",
            "[91]\tvalidation_0-error:0.20993\tvalidation_1-error:0.28612\n",
            "[92]\tvalidation_0-error:0.21000\tvalidation_1-error:0.28604\n",
            "[93]\tvalidation_0-error:0.20970\tvalidation_1-error:0.28582\n",
            "[94]\tvalidation_0-error:0.20938\tvalidation_1-error:0.28573\n",
            "[95]\tvalidation_0-error:0.20921\tvalidation_1-error:0.28553\n",
            "[96]\tvalidation_0-error:0.20911\tvalidation_1-error:0.28543\n",
            "[97]\tvalidation_0-error:0.20904\tvalidation_1-error:0.28551\n",
            "[98]\tvalidation_0-error:0.20892\tvalidation_1-error:0.28548\n",
            "[99]\tvalidation_0-error:0.20889\tvalidation_1-error:0.28528\n",
            "[100]\tvalidation_0-error:0.20877\tvalidation_1-error:0.28514\n",
            "[101]\tvalidation_0-error:0.20834\tvalidation_1-error:0.28542\n",
            "[102]\tvalidation_0-error:0.20810\tvalidation_1-error:0.28522\n",
            "[103]\tvalidation_0-error:0.20807\tvalidation_1-error:0.28522\n",
            "[104]\tvalidation_0-error:0.20792\tvalidation_1-error:0.28525\n",
            "[105]\tvalidation_0-error:0.20782\tvalidation_1-error:0.28535\n",
            "[106]\tvalidation_0-error:0.20779\tvalidation_1-error:0.28537\n",
            "[107]\tvalidation_0-error:0.20786\tvalidation_1-error:0.28529\n",
            "[108]\tvalidation_0-error:0.20764\tvalidation_1-error:0.28502\n",
            "[109]\tvalidation_0-error:0.20769\tvalidation_1-error:0.28497\n",
            "[110]\tvalidation_0-error:0.20732\tvalidation_1-error:0.28510\n",
            "[111]\tvalidation_0-error:0.20692\tvalidation_1-error:0.28501\n",
            "[112]\tvalidation_0-error:0.20681\tvalidation_1-error:0.28498\n",
            "[113]\tvalidation_0-error:0.20664\tvalidation_1-error:0.28491\n",
            "[114]\tvalidation_0-error:0.20636\tvalidation_1-error:0.28511\n",
            "[115]\tvalidation_0-error:0.20622\tvalidation_1-error:0.28489\n",
            "[116]\tvalidation_0-error:0.20584\tvalidation_1-error:0.28453\n",
            "[117]\tvalidation_0-error:0.20546\tvalidation_1-error:0.28476\n",
            "[118]\tvalidation_0-error:0.20526\tvalidation_1-error:0.28462\n",
            "[119]\tvalidation_0-error:0.20519\tvalidation_1-error:0.28447\n",
            "[120]\tvalidation_0-error:0.20509\tvalidation_1-error:0.28456\n",
            "[121]\tvalidation_0-error:0.20513\tvalidation_1-error:0.28432\n",
            "[122]\tvalidation_0-error:0.20509\tvalidation_1-error:0.28429\n",
            "[123]\tvalidation_0-error:0.20475\tvalidation_1-error:0.28425\n",
            "[124]\tvalidation_0-error:0.20452\tvalidation_1-error:0.28441\n",
            "[125]\tvalidation_0-error:0.20453\tvalidation_1-error:0.28440\n",
            "[126]\tvalidation_0-error:0.20467\tvalidation_1-error:0.28421\n",
            "[127]\tvalidation_0-error:0.20468\tvalidation_1-error:0.28439\n",
            "[128]\tvalidation_0-error:0.20445\tvalidation_1-error:0.28407\n",
            "[129]\tvalidation_0-error:0.20448\tvalidation_1-error:0.28398\n",
            "[130]\tvalidation_0-error:0.20425\tvalidation_1-error:0.28391\n",
            "[131]\tvalidation_0-error:0.20412\tvalidation_1-error:0.28386\n",
            "[132]\tvalidation_0-error:0.20413\tvalidation_1-error:0.28391\n",
            "[133]\tvalidation_0-error:0.20386\tvalidation_1-error:0.28384\n",
            "[134]\tvalidation_0-error:0.20377\tvalidation_1-error:0.28393\n",
            "[135]\tvalidation_0-error:0.20360\tvalidation_1-error:0.28398\n",
            "[136]\tvalidation_0-error:0.20359\tvalidation_1-error:0.28408\n",
            "[137]\tvalidation_0-error:0.20344\tvalidation_1-error:0.28395\n",
            "[138]\tvalidation_0-error:0.20325\tvalidation_1-error:0.28391\n"
          ],
          "name": "stdout"
        },
        {
          "output_type": "stream",
          "text": [
            "[139]\tvalidation_0-error:0.20308\tvalidation_1-error:0.28385\n",
            "[140]\tvalidation_0-error:0.20280\tvalidation_1-error:0.28367\n",
            "[141]\tvalidation_0-error:0.20256\tvalidation_1-error:0.28366\n",
            "[142]\tvalidation_0-error:0.20239\tvalidation_1-error:0.28374\n",
            "[143]\tvalidation_0-error:0.20220\tvalidation_1-error:0.28354\n",
            "[144]\tvalidation_0-error:0.20203\tvalidation_1-error:0.28351\n",
            "[145]\tvalidation_0-error:0.20171\tvalidation_1-error:0.28331\n",
            "[146]\tvalidation_0-error:0.20164\tvalidation_1-error:0.28349\n",
            "[147]\tvalidation_0-error:0.20146\tvalidation_1-error:0.28343\n",
            "[148]\tvalidation_0-error:0.20145\tvalidation_1-error:0.28343\n",
            "[149]\tvalidation_0-error:0.20121\tvalidation_1-error:0.28335\n",
            "[150]\tvalidation_0-error:0.20104\tvalidation_1-error:0.28279\n",
            "[151]\tvalidation_0-error:0.20077\tvalidation_1-error:0.28287\n",
            "[152]\tvalidation_0-error:0.20059\tvalidation_1-error:0.28285\n",
            "[153]\tvalidation_0-error:0.20049\tvalidation_1-error:0.28294\n",
            "[154]\tvalidation_0-error:0.20019\tvalidation_1-error:0.28275\n",
            "[155]\tvalidation_0-error:0.20010\tvalidation_1-error:0.28259\n",
            "[156]\tvalidation_0-error:0.19993\tvalidation_1-error:0.28242\n",
            "[157]\tvalidation_0-error:0.19989\tvalidation_1-error:0.28221\n",
            "[158]\tvalidation_0-error:0.19987\tvalidation_1-error:0.28227\n",
            "[159]\tvalidation_0-error:0.19964\tvalidation_1-error:0.28213\n",
            "[160]\tvalidation_0-error:0.19949\tvalidation_1-error:0.28198\n",
            "[161]\tvalidation_0-error:0.19935\tvalidation_1-error:0.28203\n",
            "[162]\tvalidation_0-error:0.19920\tvalidation_1-error:0.28192\n",
            "[163]\tvalidation_0-error:0.19899\tvalidation_1-error:0.28195\n",
            "[164]\tvalidation_0-error:0.19897\tvalidation_1-error:0.28203\n",
            "[165]\tvalidation_0-error:0.19894\tvalidation_1-error:0.28217\n",
            "[166]\tvalidation_0-error:0.19859\tvalidation_1-error:0.28219\n",
            "[167]\tvalidation_0-error:0.19847\tvalidation_1-error:0.28211\n",
            "[168]\tvalidation_0-error:0.19852\tvalidation_1-error:0.28203\n",
            "[169]\tvalidation_0-error:0.19830\tvalidation_1-error:0.28215\n",
            "[170]\tvalidation_0-error:0.19812\tvalidation_1-error:0.28197\n",
            "[171]\tvalidation_0-error:0.19802\tvalidation_1-error:0.28199\n",
            "[172]\tvalidation_0-error:0.19792\tvalidation_1-error:0.28181\n",
            "[173]\tvalidation_0-error:0.19772\tvalidation_1-error:0.28187\n",
            "[174]\tvalidation_0-error:0.19756\tvalidation_1-error:0.28188\n",
            "[175]\tvalidation_0-error:0.19747\tvalidation_1-error:0.28186\n",
            "[176]\tvalidation_0-error:0.19739\tvalidation_1-error:0.28174\n",
            "[177]\tvalidation_0-error:0.19745\tvalidation_1-error:0.28164\n",
            "[178]\tvalidation_0-error:0.19733\tvalidation_1-error:0.28176\n",
            "[179]\tvalidation_0-error:0.19709\tvalidation_1-error:0.28162\n",
            "[180]\tvalidation_0-error:0.19699\tvalidation_1-error:0.28177\n",
            "[181]\tvalidation_0-error:0.19682\tvalidation_1-error:0.28167\n",
            "[182]\tvalidation_0-error:0.19686\tvalidation_1-error:0.28164\n",
            "[183]\tvalidation_0-error:0.19661\tvalidation_1-error:0.28144\n",
            "[184]\tvalidation_0-error:0.19644\tvalidation_1-error:0.28129\n",
            "[185]\tvalidation_0-error:0.19652\tvalidation_1-error:0.28129\n",
            "[186]\tvalidation_0-error:0.19631\tvalidation_1-error:0.28126\n",
            "[187]\tvalidation_0-error:0.19614\tvalidation_1-error:0.28119\n",
            "[188]\tvalidation_0-error:0.19604\tvalidation_1-error:0.28123\n",
            "[189]\tvalidation_0-error:0.19605\tvalidation_1-error:0.28120\n",
            "[190]\tvalidation_0-error:0.19595\tvalidation_1-error:0.28125\n",
            "[191]\tvalidation_0-error:0.19579\tvalidation_1-error:0.28126\n",
            "[192]\tvalidation_0-error:0.19581\tvalidation_1-error:0.28105\n",
            "[193]\tvalidation_0-error:0.19576\tvalidation_1-error:0.28099\n",
            "[194]\tvalidation_0-error:0.19570\tvalidation_1-error:0.28097\n",
            "[195]\tvalidation_0-error:0.19553\tvalidation_1-error:0.28107\n",
            "[196]\tvalidation_0-error:0.19547\tvalidation_1-error:0.28109\n",
            "[197]\tvalidation_0-error:0.19549\tvalidation_1-error:0.28117\n",
            "[198]\tvalidation_0-error:0.19535\tvalidation_1-error:0.28099\n",
            "[199]\tvalidation_0-error:0.19526\tvalidation_1-error:0.28107\n",
            "[200]\tvalidation_0-error:0.19520\tvalidation_1-error:0.28092\n",
            "[201]\tvalidation_0-error:0.19509\tvalidation_1-error:0.28079\n",
            "[202]\tvalidation_0-error:0.19506\tvalidation_1-error:0.28102\n",
            "[203]\tvalidation_0-error:0.19498\tvalidation_1-error:0.28091\n",
            "[204]\tvalidation_0-error:0.19489\tvalidation_1-error:0.28061\n",
            "[205]\tvalidation_0-error:0.19479\tvalidation_1-error:0.28055\n",
            "[206]\tvalidation_0-error:0.19471\tvalidation_1-error:0.28056\n",
            "[207]\tvalidation_0-error:0.19462\tvalidation_1-error:0.28049\n",
            "[208]\tvalidation_0-error:0.19447\tvalidation_1-error:0.28063\n",
            "[209]\tvalidation_0-error:0.19437\tvalidation_1-error:0.28059\n",
            "[210]\tvalidation_0-error:0.19429\tvalidation_1-error:0.28050\n",
            "[211]\tvalidation_0-error:0.19414\tvalidation_1-error:0.28056\n",
            "[212]\tvalidation_0-error:0.19411\tvalidation_1-error:0.28045\n",
            "[213]\tvalidation_0-error:0.19420\tvalidation_1-error:0.28055\n",
            "[214]\tvalidation_0-error:0.19405\tvalidation_1-error:0.28035\n",
            "[215]\tvalidation_0-error:0.19403\tvalidation_1-error:0.28031\n",
            "[216]\tvalidation_0-error:0.19394\tvalidation_1-error:0.28031\n",
            "[217]\tvalidation_0-error:0.19380\tvalidation_1-error:0.28020\n",
            "[218]\tvalidation_0-error:0.19380\tvalidation_1-error:0.28014\n",
            "[219]\tvalidation_0-error:0.19374\tvalidation_1-error:0.28008\n",
            "[220]\tvalidation_0-error:0.19370\tvalidation_1-error:0.28025\n",
            "[221]\tvalidation_0-error:0.19363\tvalidation_1-error:0.28018\n",
            "[222]\tvalidation_0-error:0.19337\tvalidation_1-error:0.28021\n",
            "[223]\tvalidation_0-error:0.19335\tvalidation_1-error:0.28021\n",
            "[224]\tvalidation_0-error:0.19331\tvalidation_1-error:0.28019\n",
            "[225]\tvalidation_0-error:0.19317\tvalidation_1-error:0.28002\n",
            "[226]\tvalidation_0-error:0.19308\tvalidation_1-error:0.27981\n",
            "[227]\tvalidation_0-error:0.19304\tvalidation_1-error:0.27975\n",
            "[228]\tvalidation_0-error:0.19291\tvalidation_1-error:0.27960\n",
            "[229]\tvalidation_0-error:0.19284\tvalidation_1-error:0.27960\n",
            "[230]\tvalidation_0-error:0.19275\tvalidation_1-error:0.27954\n",
            "[231]\tvalidation_0-error:0.19266\tvalidation_1-error:0.27948\n",
            "[232]\tvalidation_0-error:0.19255\tvalidation_1-error:0.27941\n",
            "[233]\tvalidation_0-error:0.19242\tvalidation_1-error:0.27930\n",
            "[234]\tvalidation_0-error:0.19212\tvalidation_1-error:0.27941\n",
            "[235]\tvalidation_0-error:0.19201\tvalidation_1-error:0.27929\n",
            "[236]\tvalidation_0-error:0.19182\tvalidation_1-error:0.27955\n",
            "[237]\tvalidation_0-error:0.19173\tvalidation_1-error:0.27947\n",
            "[238]\tvalidation_0-error:0.19165\tvalidation_1-error:0.27929\n",
            "[239]\tvalidation_0-error:0.19148\tvalidation_1-error:0.27931\n",
            "[240]\tvalidation_0-error:0.19144\tvalidation_1-error:0.27929\n",
            "[241]\tvalidation_0-error:0.19132\tvalidation_1-error:0.27924\n",
            "[242]\tvalidation_0-error:0.19128\tvalidation_1-error:0.27920\n",
            "[243]\tvalidation_0-error:0.19118\tvalidation_1-error:0.27911\n",
            "[244]\tvalidation_0-error:0.19111\tvalidation_1-error:0.27911\n",
            "[245]\tvalidation_0-error:0.19100\tvalidation_1-error:0.27898\n",
            "[246]\tvalidation_0-error:0.19089\tvalidation_1-error:0.27900\n",
            "[247]\tvalidation_0-error:0.19087\tvalidation_1-error:0.27904\n",
            "[248]\tvalidation_0-error:0.19073\tvalidation_1-error:0.27896\n",
            "[249]\tvalidation_0-error:0.19058\tvalidation_1-error:0.27876\n",
            "[250]\tvalidation_0-error:0.19038\tvalidation_1-error:0.27880\n",
            "[251]\tvalidation_0-error:0.19029\tvalidation_1-error:0.27874\n",
            "[252]\tvalidation_0-error:0.19021\tvalidation_1-error:0.27877\n",
            "[253]\tvalidation_0-error:0.19024\tvalidation_1-error:0.27871\n",
            "[254]\tvalidation_0-error:0.19007\tvalidation_1-error:0.27852\n",
            "[255]\tvalidation_0-error:0.19010\tvalidation_1-error:0.27855\n",
            "[256]\tvalidation_0-error:0.18998\tvalidation_1-error:0.27852\n",
            "[257]\tvalidation_0-error:0.18985\tvalidation_1-error:0.27842\n",
            "[258]\tvalidation_0-error:0.18980\tvalidation_1-error:0.27844\n",
            "[259]\tvalidation_0-error:0.18970\tvalidation_1-error:0.27840\n",
            "[260]\tvalidation_0-error:0.18959\tvalidation_1-error:0.27830\n",
            "[261]\tvalidation_0-error:0.18955\tvalidation_1-error:0.27825\n",
            "[262]\tvalidation_0-error:0.18947\tvalidation_1-error:0.27815\n",
            "[263]\tvalidation_0-error:0.18940\tvalidation_1-error:0.27818\n",
            "[264]\tvalidation_0-error:0.18928\tvalidation_1-error:0.27820\n",
            "[265]\tvalidation_0-error:0.18917\tvalidation_1-error:0.27818\n",
            "[266]\tvalidation_0-error:0.18907\tvalidation_1-error:0.27815\n",
            "[267]\tvalidation_0-error:0.18906\tvalidation_1-error:0.27820\n",
            "[268]\tvalidation_0-error:0.18905\tvalidation_1-error:0.27816\n",
            "[269]\tvalidation_0-error:0.18908\tvalidation_1-error:0.27820\n",
            "[270]\tvalidation_0-error:0.18904\tvalidation_1-error:0.27815\n",
            "[271]\tvalidation_0-error:0.18901\tvalidation_1-error:0.27805\n",
            "[272]\tvalidation_0-error:0.18898\tvalidation_1-error:0.27802\n",
            "[273]\tvalidation_0-error:0.18898\tvalidation_1-error:0.27805\n",
            "[274]\tvalidation_0-error:0.18888\tvalidation_1-error:0.27796\n",
            "[275]\tvalidation_0-error:0.18873\tvalidation_1-error:0.27786\n"
          ],
          "name": "stdout"
        },
        {
          "output_type": "stream",
          "text": [
            "[276]\tvalidation_0-error:0.18861\tvalidation_1-error:0.27781\n",
            "[277]\tvalidation_0-error:0.18855\tvalidation_1-error:0.27774\n",
            "[278]\tvalidation_0-error:0.18847\tvalidation_1-error:0.27766\n",
            "[279]\tvalidation_0-error:0.18848\tvalidation_1-error:0.27755\n",
            "[280]\tvalidation_0-error:0.18845\tvalidation_1-error:0.27750\n",
            "[281]\tvalidation_0-error:0.18841\tvalidation_1-error:0.27743\n",
            "[282]\tvalidation_0-error:0.18829\tvalidation_1-error:0.27746\n",
            "[283]\tvalidation_0-error:0.18826\tvalidation_1-error:0.27747\n",
            "[284]\tvalidation_0-error:0.18812\tvalidation_1-error:0.27758\n",
            "[285]\tvalidation_0-error:0.18806\tvalidation_1-error:0.27752\n",
            "[286]\tvalidation_0-error:0.18793\tvalidation_1-error:0.27762\n",
            "[287]\tvalidation_0-error:0.18783\tvalidation_1-error:0.27755\n",
            "[288]\tvalidation_0-error:0.18784\tvalidation_1-error:0.27748\n",
            "[289]\tvalidation_0-error:0.18774\tvalidation_1-error:0.27733\n",
            "[290]\tvalidation_0-error:0.18757\tvalidation_1-error:0.27736\n",
            "[291]\tvalidation_0-error:0.18758\tvalidation_1-error:0.27737\n",
            "[292]\tvalidation_0-error:0.18756\tvalidation_1-error:0.27738\n",
            "[293]\tvalidation_0-error:0.18746\tvalidation_1-error:0.27756\n",
            "[294]\tvalidation_0-error:0.18735\tvalidation_1-error:0.27733\n",
            "[295]\tvalidation_0-error:0.18724\tvalidation_1-error:0.27738\n",
            "[296]\tvalidation_0-error:0.18711\tvalidation_1-error:0.27726\n",
            "[297]\tvalidation_0-error:0.18706\tvalidation_1-error:0.27724\n",
            "[298]\tvalidation_0-error:0.18694\tvalidation_1-error:0.27718\n",
            "[299]\tvalidation_0-error:0.18697\tvalidation_1-error:0.27724\n",
            "[300]\tvalidation_0-error:0.18697\tvalidation_1-error:0.27720\n",
            "[301]\tvalidation_0-error:0.18692\tvalidation_1-error:0.27715\n",
            "[302]\tvalidation_0-error:0.18687\tvalidation_1-error:0.27706\n",
            "[303]\tvalidation_0-error:0.18683\tvalidation_1-error:0.27705\n",
            "[304]\tvalidation_0-error:0.18669\tvalidation_1-error:0.27694\n",
            "[305]\tvalidation_0-error:0.18655\tvalidation_1-error:0.27701\n",
            "[306]\tvalidation_0-error:0.18646\tvalidation_1-error:0.27694\n",
            "[307]\tvalidation_0-error:0.18640\tvalidation_1-error:0.27693\n",
            "[308]\tvalidation_0-error:0.18623\tvalidation_1-error:0.27700\n",
            "[309]\tvalidation_0-error:0.18621\tvalidation_1-error:0.27698\n",
            "[310]\tvalidation_0-error:0.18611\tvalidation_1-error:0.27703\n",
            "[311]\tvalidation_0-error:0.18607\tvalidation_1-error:0.27696\n",
            "[312]\tvalidation_0-error:0.18593\tvalidation_1-error:0.27688\n",
            "[313]\tvalidation_0-error:0.18594\tvalidation_1-error:0.27688\n",
            "[314]\tvalidation_0-error:0.18594\tvalidation_1-error:0.27693\n",
            "[315]\tvalidation_0-error:0.18587\tvalidation_1-error:0.27686\n",
            "[316]\tvalidation_0-error:0.18584\tvalidation_1-error:0.27683\n",
            "[317]\tvalidation_0-error:0.18576\tvalidation_1-error:0.27678\n",
            "[318]\tvalidation_0-error:0.18572\tvalidation_1-error:0.27671\n",
            "[319]\tvalidation_0-error:0.18563\tvalidation_1-error:0.27663\n",
            "[320]\tvalidation_0-error:0.18560\tvalidation_1-error:0.27659\n",
            "[321]\tvalidation_0-error:0.18559\tvalidation_1-error:0.27661\n",
            "[322]\tvalidation_0-error:0.18555\tvalidation_1-error:0.27663\n",
            "[323]\tvalidation_0-error:0.18552\tvalidation_1-error:0.27652\n",
            "[324]\tvalidation_0-error:0.18549\tvalidation_1-error:0.27647\n",
            "[325]\tvalidation_0-error:0.18537\tvalidation_1-error:0.27649\n",
            "[326]\tvalidation_0-error:0.18532\tvalidation_1-error:0.27651\n",
            "[327]\tvalidation_0-error:0.18528\tvalidation_1-error:0.27651\n",
            "[328]\tvalidation_0-error:0.18525\tvalidation_1-error:0.27645\n",
            "[329]\tvalidation_0-error:0.18516\tvalidation_1-error:0.27635\n",
            "[330]\tvalidation_0-error:0.18510\tvalidation_1-error:0.27635\n",
            "[331]\tvalidation_0-error:0.18504\tvalidation_1-error:0.27641\n",
            "[332]\tvalidation_0-error:0.18492\tvalidation_1-error:0.27640\n",
            "[333]\tvalidation_0-error:0.18490\tvalidation_1-error:0.27635\n",
            "[334]\tvalidation_0-error:0.18481\tvalidation_1-error:0.27622\n",
            "[335]\tvalidation_0-error:0.18477\tvalidation_1-error:0.27617\n",
            "[336]\tvalidation_0-error:0.18472\tvalidation_1-error:0.27622\n",
            "[337]\tvalidation_0-error:0.18465\tvalidation_1-error:0.27616\n",
            "[338]\tvalidation_0-error:0.18465\tvalidation_1-error:0.27611\n",
            "[339]\tvalidation_0-error:0.18459\tvalidation_1-error:0.27614\n",
            "[340]\tvalidation_0-error:0.18451\tvalidation_1-error:0.27621\n",
            "[341]\tvalidation_0-error:0.18437\tvalidation_1-error:0.27628\n",
            "[342]\tvalidation_0-error:0.18437\tvalidation_1-error:0.27628\n",
            "[343]\tvalidation_0-error:0.18440\tvalidation_1-error:0.27611\n",
            "[344]\tvalidation_0-error:0.18437\tvalidation_1-error:0.27615\n",
            "[345]\tvalidation_0-error:0.18432\tvalidation_1-error:0.27612\n",
            "[346]\tvalidation_0-error:0.18419\tvalidation_1-error:0.27608\n",
            "[347]\tvalidation_0-error:0.18406\tvalidation_1-error:0.27603\n",
            "[348]\tvalidation_0-error:0.18401\tvalidation_1-error:0.27603\n",
            "[349]\tvalidation_0-error:0.18395\tvalidation_1-error:0.27596\n",
            "[350]\tvalidation_0-error:0.18395\tvalidation_1-error:0.27604\n",
            "[351]\tvalidation_0-error:0.18394\tvalidation_1-error:0.27596\n",
            "[352]\tvalidation_0-error:0.18388\tvalidation_1-error:0.27598\n",
            "[353]\tvalidation_0-error:0.18380\tvalidation_1-error:0.27598\n",
            "[354]\tvalidation_0-error:0.18375\tvalidation_1-error:0.27596\n",
            "[355]\tvalidation_0-error:0.18369\tvalidation_1-error:0.27598\n",
            "[356]\tvalidation_0-error:0.18358\tvalidation_1-error:0.27582\n",
            "[357]\tvalidation_0-error:0.18357\tvalidation_1-error:0.27582\n",
            "[358]\tvalidation_0-error:0.18352\tvalidation_1-error:0.27591\n",
            "[359]\tvalidation_0-error:0.18345\tvalidation_1-error:0.27593\n",
            "[360]\tvalidation_0-error:0.18339\tvalidation_1-error:0.27603\n",
            "[361]\tvalidation_0-error:0.18338\tvalidation_1-error:0.27597\n",
            "[362]\tvalidation_0-error:0.18330\tvalidation_1-error:0.27591\n",
            "[363]\tvalidation_0-error:0.18332\tvalidation_1-error:0.27573\n",
            "[364]\tvalidation_0-error:0.18324\tvalidation_1-error:0.27575\n",
            "[365]\tvalidation_0-error:0.18319\tvalidation_1-error:0.27580\n",
            "[366]\tvalidation_0-error:0.18314\tvalidation_1-error:0.27566\n",
            "[367]\tvalidation_0-error:0.18307\tvalidation_1-error:0.27558\n",
            "[368]\tvalidation_0-error:0.18299\tvalidation_1-error:0.27570\n",
            "[369]\tvalidation_0-error:0.18293\tvalidation_1-error:0.27561\n",
            "[370]\tvalidation_0-error:0.18287\tvalidation_1-error:0.27561\n",
            "[371]\tvalidation_0-error:0.18272\tvalidation_1-error:0.27548\n",
            "[372]\tvalidation_0-error:0.18270\tvalidation_1-error:0.27558\n",
            "[373]\tvalidation_0-error:0.18262\tvalidation_1-error:0.27549\n",
            "[374]\tvalidation_0-error:0.18257\tvalidation_1-error:0.27566\n",
            "[375]\tvalidation_0-error:0.18251\tvalidation_1-error:0.27562\n",
            "[376]\tvalidation_0-error:0.18243\tvalidation_1-error:0.27554\n",
            "[377]\tvalidation_0-error:0.18237\tvalidation_1-error:0.27542\n",
            "[378]\tvalidation_0-error:0.18228\tvalidation_1-error:0.27531\n",
            "[379]\tvalidation_0-error:0.18224\tvalidation_1-error:0.27536\n",
            "[380]\tvalidation_0-error:0.18223\tvalidation_1-error:0.27531\n",
            "[381]\tvalidation_0-error:0.18216\tvalidation_1-error:0.27525\n",
            "[382]\tvalidation_0-error:0.18215\tvalidation_1-error:0.27520\n",
            "[383]\tvalidation_0-error:0.18211\tvalidation_1-error:0.27518\n",
            "[384]\tvalidation_0-error:0.18208\tvalidation_1-error:0.27512\n",
            "[385]\tvalidation_0-error:0.18206\tvalidation_1-error:0.27513\n",
            "[386]\tvalidation_0-error:0.18204\tvalidation_1-error:0.27514\n",
            "[387]\tvalidation_0-error:0.18195\tvalidation_1-error:0.27510\n",
            "[388]\tvalidation_0-error:0.18193\tvalidation_1-error:0.27513\n",
            "[389]\tvalidation_0-error:0.18189\tvalidation_1-error:0.27519\n",
            "[390]\tvalidation_0-error:0.18189\tvalidation_1-error:0.27524\n",
            "[391]\tvalidation_0-error:0.18180\tvalidation_1-error:0.27521\n",
            "[392]\tvalidation_0-error:0.18171\tvalidation_1-error:0.27510\n",
            "[393]\tvalidation_0-error:0.18161\tvalidation_1-error:0.27513\n",
            "[394]\tvalidation_0-error:0.18153\tvalidation_1-error:0.27507\n",
            "[395]\tvalidation_0-error:0.18145\tvalidation_1-error:0.27507\n",
            "[396]\tvalidation_0-error:0.18147\tvalidation_1-error:0.27498\n",
            "[397]\tvalidation_0-error:0.18144\tvalidation_1-error:0.27492\n",
            "[398]\tvalidation_0-error:0.18139\tvalidation_1-error:0.27494\n",
            "[399]\tvalidation_0-error:0.18133\tvalidation_1-error:0.27498\n",
            "[400]\tvalidation_0-error:0.18120\tvalidation_1-error:0.27503\n",
            "[401]\tvalidation_0-error:0.18113\tvalidation_1-error:0.27506\n",
            "[402]\tvalidation_0-error:0.18112\tvalidation_1-error:0.27503\n",
            "[403]\tvalidation_0-error:0.18108\tvalidation_1-error:0.27503\n",
            "[404]\tvalidation_0-error:0.18102\tvalidation_1-error:0.27503\n",
            "[405]\tvalidation_0-error:0.18095\tvalidation_1-error:0.27506\n",
            "[406]\tvalidation_0-error:0.18089\tvalidation_1-error:0.27508\n",
            "[407]\tvalidation_0-error:0.18082\tvalidation_1-error:0.27513\n",
            "[408]\tvalidation_0-error:0.18075\tvalidation_1-error:0.27514\n",
            "[409]\tvalidation_0-error:0.18070\tvalidation_1-error:0.27501\n",
            "[410]\tvalidation_0-error:0.18066\tvalidation_1-error:0.27501\n",
            "[411]\tvalidation_0-error:0.18058\tvalidation_1-error:0.27508\n",
            "[412]\tvalidation_0-error:0.18055\tvalidation_1-error:0.27498\n"
          ],
          "name": "stdout"
        },
        {
          "output_type": "stream",
          "text": [
            "[413]\tvalidation_0-error:0.18055\tvalidation_1-error:0.27497\n",
            "[414]\tvalidation_0-error:0.18053\tvalidation_1-error:0.27503\n",
            "[415]\tvalidation_0-error:0.18049\tvalidation_1-error:0.27501\n",
            "[416]\tvalidation_0-error:0.18048\tvalidation_1-error:0.27501\n",
            "[417]\tvalidation_0-error:0.18047\tvalidation_1-error:0.27486\n",
            "[418]\tvalidation_0-error:0.18041\tvalidation_1-error:0.27494\n",
            "[419]\tvalidation_0-error:0.18029\tvalidation_1-error:0.27491\n",
            "[420]\tvalidation_0-error:0.18029\tvalidation_1-error:0.27497\n",
            "[421]\tvalidation_0-error:0.18019\tvalidation_1-error:0.27490\n",
            "[422]\tvalidation_0-error:0.18012\tvalidation_1-error:0.27482\n",
            "[423]\tvalidation_0-error:0.18007\tvalidation_1-error:0.27492\n",
            "[424]\tvalidation_0-error:0.18001\tvalidation_1-error:0.27484\n",
            "[425]\tvalidation_0-error:0.17995\tvalidation_1-error:0.27485\n",
            "[426]\tvalidation_0-error:0.17987\tvalidation_1-error:0.27477\n",
            "[427]\tvalidation_0-error:0.17975\tvalidation_1-error:0.27466\n",
            "[428]\tvalidation_0-error:0.17968\tvalidation_1-error:0.27456\n",
            "[429]\tvalidation_0-error:0.17966\tvalidation_1-error:0.27454\n",
            "[430]\tvalidation_0-error:0.17957\tvalidation_1-error:0.27454\n",
            "[431]\tvalidation_0-error:0.17948\tvalidation_1-error:0.27453\n",
            "[432]\tvalidation_0-error:0.17946\tvalidation_1-error:0.27448\n",
            "[433]\tvalidation_0-error:0.17945\tvalidation_1-error:0.27452\n",
            "[434]\tvalidation_0-error:0.17938\tvalidation_1-error:0.27446\n",
            "[435]\tvalidation_0-error:0.17938\tvalidation_1-error:0.27440\n",
            "[436]\tvalidation_0-error:0.17931\tvalidation_1-error:0.27438\n",
            "[437]\tvalidation_0-error:0.17927\tvalidation_1-error:0.27436\n",
            "[438]\tvalidation_0-error:0.17927\tvalidation_1-error:0.27434\n",
            "[439]\tvalidation_0-error:0.17926\tvalidation_1-error:0.27435\n",
            "[440]\tvalidation_0-error:0.17921\tvalidation_1-error:0.27438\n",
            "[441]\tvalidation_0-error:0.17911\tvalidation_1-error:0.27440\n",
            "[442]\tvalidation_0-error:0.17906\tvalidation_1-error:0.27447\n",
            "[443]\tvalidation_0-error:0.17901\tvalidation_1-error:0.27444\n",
            "[444]\tvalidation_0-error:0.17899\tvalidation_1-error:0.27441\n",
            "[445]\tvalidation_0-error:0.17897\tvalidation_1-error:0.27434\n",
            "[446]\tvalidation_0-error:0.17893\tvalidation_1-error:0.27431\n",
            "[447]\tvalidation_0-error:0.17887\tvalidation_1-error:0.27430\n",
            "[448]\tvalidation_0-error:0.17884\tvalidation_1-error:0.27420\n",
            "[449]\tvalidation_0-error:0.17883\tvalidation_1-error:0.27420\n",
            "[450]\tvalidation_0-error:0.17880\tvalidation_1-error:0.27419\n",
            "[451]\tvalidation_0-error:0.17878\tvalidation_1-error:0.27413\n",
            "[452]\tvalidation_0-error:0.17872\tvalidation_1-error:0.27417\n",
            "[453]\tvalidation_0-error:0.17868\tvalidation_1-error:0.27422\n",
            "[454]\tvalidation_0-error:0.17863\tvalidation_1-error:0.27424\n",
            "[455]\tvalidation_0-error:0.17853\tvalidation_1-error:0.27412\n",
            "[456]\tvalidation_0-error:0.17844\tvalidation_1-error:0.27416\n",
            "[457]\tvalidation_0-error:0.17834\tvalidation_1-error:0.27419\n",
            "[458]\tvalidation_0-error:0.17828\tvalidation_1-error:0.27423\n",
            "[459]\tvalidation_0-error:0.17824\tvalidation_1-error:0.27425\n",
            "[460]\tvalidation_0-error:0.17819\tvalidation_1-error:0.27420\n",
            "[461]\tvalidation_0-error:0.17813\tvalidation_1-error:0.27416\n",
            "[462]\tvalidation_0-error:0.17807\tvalidation_1-error:0.27417\n",
            "[463]\tvalidation_0-error:0.17802\tvalidation_1-error:0.27416\n",
            "[464]\tvalidation_0-error:0.17794\tvalidation_1-error:0.27418\n",
            "[465]\tvalidation_0-error:0.17787\tvalidation_1-error:0.27422\n",
            "[466]\tvalidation_0-error:0.17783\tvalidation_1-error:0.27422\n",
            "[467]\tvalidation_0-error:0.17770\tvalidation_1-error:0.27428\n",
            "[468]\tvalidation_0-error:0.17765\tvalidation_1-error:0.27429\n",
            "[469]\tvalidation_0-error:0.17761\tvalidation_1-error:0.27426\n",
            "[470]\tvalidation_0-error:0.17758\tvalidation_1-error:0.27430\n",
            "[471]\tvalidation_0-error:0.17749\tvalidation_1-error:0.27425\n",
            "[472]\tvalidation_0-error:0.17746\tvalidation_1-error:0.27419\n",
            "[473]\tvalidation_0-error:0.17742\tvalidation_1-error:0.27416\n",
            "[474]\tvalidation_0-error:0.17734\tvalidation_1-error:0.27416\n",
            "[475]\tvalidation_0-error:0.17734\tvalidation_1-error:0.27411\n",
            "[476]\tvalidation_0-error:0.17730\tvalidation_1-error:0.27412\n",
            "[477]\tvalidation_0-error:0.17729\tvalidation_1-error:0.27418\n",
            "[478]\tvalidation_0-error:0.17722\tvalidation_1-error:0.27414\n",
            "[479]\tvalidation_0-error:0.17719\tvalidation_1-error:0.27408\n",
            "[480]\tvalidation_0-error:0.17710\tvalidation_1-error:0.27413\n",
            "[481]\tvalidation_0-error:0.17708\tvalidation_1-error:0.27399\n",
            "[482]\tvalidation_0-error:0.17703\tvalidation_1-error:0.27404\n",
            "[483]\tvalidation_0-error:0.17698\tvalidation_1-error:0.27392\n",
            "[484]\tvalidation_0-error:0.17698\tvalidation_1-error:0.27390\n",
            "[485]\tvalidation_0-error:0.17695\tvalidation_1-error:0.27388\n",
            "[486]\tvalidation_0-error:0.17695\tvalidation_1-error:0.27386\n",
            "[487]\tvalidation_0-error:0.17687\tvalidation_1-error:0.27378\n",
            "[488]\tvalidation_0-error:0.17684\tvalidation_1-error:0.27380\n",
            "[489]\tvalidation_0-error:0.17681\tvalidation_1-error:0.27376\n",
            "[490]\tvalidation_0-error:0.17671\tvalidation_1-error:0.27370\n",
            "[491]\tvalidation_0-error:0.17671\tvalidation_1-error:0.27370\n",
            "[492]\tvalidation_0-error:0.17664\tvalidation_1-error:0.27371\n",
            "[493]\tvalidation_0-error:0.17657\tvalidation_1-error:0.27366\n",
            "[494]\tvalidation_0-error:0.17648\tvalidation_1-error:0.27356\n",
            "[495]\tvalidation_0-error:0.17637\tvalidation_1-error:0.27358\n",
            "[496]\tvalidation_0-error:0.17632\tvalidation_1-error:0.27369\n",
            "[497]\tvalidation_0-error:0.17628\tvalidation_1-error:0.27372\n",
            "[498]\tvalidation_0-error:0.17625\tvalidation_1-error:0.27366\n",
            "[499]\tvalidation_0-error:0.17621\tvalidation_1-error:0.27368\n",
            "[500]\tvalidation_0-error:0.17617\tvalidation_1-error:0.27368\n",
            "[501]\tvalidation_0-error:0.17614\tvalidation_1-error:0.27363\n",
            "[502]\tvalidation_0-error:0.17608\tvalidation_1-error:0.27356\n",
            "[503]\tvalidation_0-error:0.17607\tvalidation_1-error:0.27356\n",
            "[504]\tvalidation_0-error:0.17600\tvalidation_1-error:0.27351\n",
            "[505]\tvalidation_0-error:0.17595\tvalidation_1-error:0.27347\n",
            "[506]\tvalidation_0-error:0.17590\tvalidation_1-error:0.27336\n",
            "[507]\tvalidation_0-error:0.17584\tvalidation_1-error:0.27342\n",
            "[508]\tvalidation_0-error:0.17577\tvalidation_1-error:0.27351\n",
            "[509]\tvalidation_0-error:0.17577\tvalidation_1-error:0.27348\n",
            "[510]\tvalidation_0-error:0.17571\tvalidation_1-error:0.27350\n",
            "[511]\tvalidation_0-error:0.17566\tvalidation_1-error:0.27347\n",
            "[512]\tvalidation_0-error:0.17557\tvalidation_1-error:0.27340\n",
            "[513]\tvalidation_0-error:0.17558\tvalidation_1-error:0.27345\n",
            "[514]\tvalidation_0-error:0.17549\tvalidation_1-error:0.27335\n",
            "[515]\tvalidation_0-error:0.17542\tvalidation_1-error:0.27326\n",
            "[516]\tvalidation_0-error:0.17535\tvalidation_1-error:0.27321\n",
            "[517]\tvalidation_0-error:0.17529\tvalidation_1-error:0.27320\n",
            "[518]\tvalidation_0-error:0.17525\tvalidation_1-error:0.27324\n",
            "[519]\tvalidation_0-error:0.17525\tvalidation_1-error:0.27326\n",
            "[520]\tvalidation_0-error:0.17525\tvalidation_1-error:0.27329\n",
            "[521]\tvalidation_0-error:0.17519\tvalidation_1-error:0.27332\n",
            "[522]\tvalidation_0-error:0.17516\tvalidation_1-error:0.27328\n",
            "[523]\tvalidation_0-error:0.17510\tvalidation_1-error:0.27328\n",
            "[524]\tvalidation_0-error:0.17508\tvalidation_1-error:0.27327\n",
            "[525]\tvalidation_0-error:0.17501\tvalidation_1-error:0.27326\n",
            "[526]\tvalidation_0-error:0.17498\tvalidation_1-error:0.27323\n",
            "[527]\tvalidation_0-error:0.17492\tvalidation_1-error:0.27308\n",
            "[528]\tvalidation_0-error:0.17491\tvalidation_1-error:0.27311\n",
            "[529]\tvalidation_0-error:0.17486\tvalidation_1-error:0.27309\n",
            "[530]\tvalidation_0-error:0.17487\tvalidation_1-error:0.27314\n",
            "[531]\tvalidation_0-error:0.17487\tvalidation_1-error:0.27310\n",
            "[532]\tvalidation_0-error:0.17487\tvalidation_1-error:0.27309\n",
            "[533]\tvalidation_0-error:0.17481\tvalidation_1-error:0.27306\n",
            "[534]\tvalidation_0-error:0.17477\tvalidation_1-error:0.27302\n",
            "[535]\tvalidation_0-error:0.17474\tvalidation_1-error:0.27299\n",
            "[536]\tvalidation_0-error:0.17468\tvalidation_1-error:0.27292\n",
            "[537]\tvalidation_0-error:0.17468\tvalidation_1-error:0.27294\n",
            "[538]\tvalidation_0-error:0.17464\tvalidation_1-error:0.27299\n",
            "[539]\tvalidation_0-error:0.17458\tvalidation_1-error:0.27298\n",
            "[540]\tvalidation_0-error:0.17454\tvalidation_1-error:0.27299\n",
            "[541]\tvalidation_0-error:0.17452\tvalidation_1-error:0.27300\n",
            "[542]\tvalidation_0-error:0.17450\tvalidation_1-error:0.27300\n",
            "[543]\tvalidation_0-error:0.17442\tvalidation_1-error:0.27302\n",
            "[544]\tvalidation_0-error:0.17438\tvalidation_1-error:0.27294\n",
            "[545]\tvalidation_0-error:0.17434\tvalidation_1-error:0.27291\n",
            "[546]\tvalidation_0-error:0.17425\tvalidation_1-error:0.27278\n",
            "[547]\tvalidation_0-error:0.17423\tvalidation_1-error:0.27280\n",
            "[548]\tvalidation_0-error:0.17419\tvalidation_1-error:0.27278\n",
            "[549]\tvalidation_0-error:0.17415\tvalidation_1-error:0.27273\n"
          ],
          "name": "stdout"
        },
        {
          "output_type": "stream",
          "text": [
            "[550]\tvalidation_0-error:0.17414\tvalidation_1-error:0.27270\n",
            "[551]\tvalidation_0-error:0.17410\tvalidation_1-error:0.27275\n",
            "[552]\tvalidation_0-error:0.17406\tvalidation_1-error:0.27274\n",
            "[553]\tvalidation_0-error:0.17400\tvalidation_1-error:0.27272\n",
            "[554]\tvalidation_0-error:0.17388\tvalidation_1-error:0.27270\n",
            "[555]\tvalidation_0-error:0.17381\tvalidation_1-error:0.27272\n",
            "[556]\tvalidation_0-error:0.17380\tvalidation_1-error:0.27273\n",
            "[557]\tvalidation_0-error:0.17378\tvalidation_1-error:0.27270\n",
            "[558]\tvalidation_0-error:0.17372\tvalidation_1-error:0.27268\n",
            "[559]\tvalidation_0-error:0.17368\tvalidation_1-error:0.27266\n",
            "[560]\tvalidation_0-error:0.17367\tvalidation_1-error:0.27267\n",
            "[561]\tvalidation_0-error:0.17360\tvalidation_1-error:0.27257\n",
            "[562]\tvalidation_0-error:0.17357\tvalidation_1-error:0.27257\n",
            "[563]\tvalidation_0-error:0.17352\tvalidation_1-error:0.27254\n",
            "[564]\tvalidation_0-error:0.17347\tvalidation_1-error:0.27252\n",
            "[565]\tvalidation_0-error:0.17341\tvalidation_1-error:0.27255\n",
            "[566]\tvalidation_0-error:0.17336\tvalidation_1-error:0.27248\n",
            "[567]\tvalidation_0-error:0.17333\tvalidation_1-error:0.27252\n",
            "[568]\tvalidation_0-error:0.17327\tvalidation_1-error:0.27251\n",
            "[569]\tvalidation_0-error:0.17323\tvalidation_1-error:0.27250\n",
            "[570]\tvalidation_0-error:0.17320\tvalidation_1-error:0.27246\n",
            "[571]\tvalidation_0-error:0.17319\tvalidation_1-error:0.27248\n",
            "[572]\tvalidation_0-error:0.17314\tvalidation_1-error:0.27243\n",
            "[573]\tvalidation_0-error:0.17311\tvalidation_1-error:0.27242\n",
            "[574]\tvalidation_0-error:0.17306\tvalidation_1-error:0.27240\n",
            "[575]\tvalidation_0-error:0.17302\tvalidation_1-error:0.27237\n",
            "[576]\tvalidation_0-error:0.17296\tvalidation_1-error:0.27233\n",
            "[577]\tvalidation_0-error:0.17288\tvalidation_1-error:0.27233\n",
            "[578]\tvalidation_0-error:0.17283\tvalidation_1-error:0.27231\n",
            "[579]\tvalidation_0-error:0.17283\tvalidation_1-error:0.27234\n",
            "[580]\tvalidation_0-error:0.17268\tvalidation_1-error:0.27232\n",
            "[581]\tvalidation_0-error:0.17267\tvalidation_1-error:0.27226\n",
            "[582]\tvalidation_0-error:0.17264\tvalidation_1-error:0.27225\n",
            "[583]\tvalidation_0-error:0.17258\tvalidation_1-error:0.27224\n",
            "[584]\tvalidation_0-error:0.17254\tvalidation_1-error:0.27225\n",
            "[585]\tvalidation_0-error:0.17251\tvalidation_1-error:0.27220\n",
            "[586]\tvalidation_0-error:0.17248\tvalidation_1-error:0.27222\n",
            "[587]\tvalidation_0-error:0.17248\tvalidation_1-error:0.27228\n",
            "[588]\tvalidation_0-error:0.17245\tvalidation_1-error:0.27218\n",
            "[589]\tvalidation_0-error:0.17237\tvalidation_1-error:0.27210\n",
            "[590]\tvalidation_0-error:0.17233\tvalidation_1-error:0.27212\n",
            "[591]\tvalidation_0-error:0.17226\tvalidation_1-error:0.27200\n",
            "[592]\tvalidation_0-error:0.17222\tvalidation_1-error:0.27207\n",
            "[593]\tvalidation_0-error:0.17219\tvalidation_1-error:0.27206\n",
            "[594]\tvalidation_0-error:0.17212\tvalidation_1-error:0.27219\n",
            "[595]\tvalidation_0-error:0.17207\tvalidation_1-error:0.27232\n",
            "[596]\tvalidation_0-error:0.17200\tvalidation_1-error:0.27224\n",
            "[597]\tvalidation_0-error:0.17196\tvalidation_1-error:0.27215\n",
            "[598]\tvalidation_0-error:0.17194\tvalidation_1-error:0.27208\n",
            "[599]\tvalidation_0-error:0.17190\tvalidation_1-error:0.27209\n",
            "[600]\tvalidation_0-error:0.17188\tvalidation_1-error:0.27207\n",
            "[601]\tvalidation_0-error:0.17183\tvalidation_1-error:0.27203\n",
            "[602]\tvalidation_0-error:0.17180\tvalidation_1-error:0.27204\n",
            "[603]\tvalidation_0-error:0.17175\tvalidation_1-error:0.27203\n",
            "[604]\tvalidation_0-error:0.17167\tvalidation_1-error:0.27200\n",
            "[605]\tvalidation_0-error:0.17161\tvalidation_1-error:0.27202\n",
            "[606]\tvalidation_0-error:0.17157\tvalidation_1-error:0.27201\n",
            "[607]\tvalidation_0-error:0.17155\tvalidation_1-error:0.27190\n",
            "[608]\tvalidation_0-error:0.17147\tvalidation_1-error:0.27188\n",
            "[609]\tvalidation_0-error:0.17146\tvalidation_1-error:0.27187\n",
            "[610]\tvalidation_0-error:0.17142\tvalidation_1-error:0.27178\n",
            "[611]\tvalidation_0-error:0.17142\tvalidation_1-error:0.27182\n",
            "[612]\tvalidation_0-error:0.17139\tvalidation_1-error:0.27187\n",
            "[613]\tvalidation_0-error:0.17137\tvalidation_1-error:0.27189\n",
            "[614]\tvalidation_0-error:0.17134\tvalidation_1-error:0.27191\n",
            "[615]\tvalidation_0-error:0.17127\tvalidation_1-error:0.27200\n",
            "[616]\tvalidation_0-error:0.17127\tvalidation_1-error:0.27200\n",
            "[617]\tvalidation_0-error:0.17118\tvalidation_1-error:0.27195\n",
            "[618]\tvalidation_0-error:0.17111\tvalidation_1-error:0.27202\n",
            "[619]\tvalidation_0-error:0.17109\tvalidation_1-error:0.27200\n",
            "[620]\tvalidation_0-error:0.17103\tvalidation_1-error:0.27198\n",
            "[621]\tvalidation_0-error:0.17098\tvalidation_1-error:0.27196\n",
            "[622]\tvalidation_0-error:0.17095\tvalidation_1-error:0.27197\n",
            "[623]\tvalidation_0-error:0.17092\tvalidation_1-error:0.27184\n",
            "[624]\tvalidation_0-error:0.17087\tvalidation_1-error:0.27184\n",
            "[625]\tvalidation_0-error:0.17084\tvalidation_1-error:0.27184\n",
            "[626]\tvalidation_0-error:0.17078\tvalidation_1-error:0.27181\n",
            "[627]\tvalidation_0-error:0.17072\tvalidation_1-error:0.27181\n",
            "[628]\tvalidation_0-error:0.17069\tvalidation_1-error:0.27176\n",
            "[629]\tvalidation_0-error:0.17064\tvalidation_1-error:0.27176\n",
            "[630]\tvalidation_0-error:0.17061\tvalidation_1-error:0.27173\n",
            "[631]\tvalidation_0-error:0.17056\tvalidation_1-error:0.27167\n",
            "[632]\tvalidation_0-error:0.17050\tvalidation_1-error:0.27170\n",
            "[633]\tvalidation_0-error:0.17047\tvalidation_1-error:0.27177\n",
            "[634]\tvalidation_0-error:0.17044\tvalidation_1-error:0.27172\n",
            "[635]\tvalidation_0-error:0.17042\tvalidation_1-error:0.27171\n",
            "[636]\tvalidation_0-error:0.17040\tvalidation_1-error:0.27171\n",
            "[637]\tvalidation_0-error:0.17038\tvalidation_1-error:0.27171\n",
            "[638]\tvalidation_0-error:0.17036\tvalidation_1-error:0.27163\n",
            "[639]\tvalidation_0-error:0.17030\tvalidation_1-error:0.27165\n",
            "[640]\tvalidation_0-error:0.17029\tvalidation_1-error:0.27164\n",
            "[641]\tvalidation_0-error:0.17023\tvalidation_1-error:0.27159\n",
            "[642]\tvalidation_0-error:0.17021\tvalidation_1-error:0.27155\n",
            "[643]\tvalidation_0-error:0.17016\tvalidation_1-error:0.27159\n",
            "[644]\tvalidation_0-error:0.17011\tvalidation_1-error:0.27155\n",
            "[645]\tvalidation_0-error:0.17005\tvalidation_1-error:0.27153\n",
            "[646]\tvalidation_0-error:0.17004\tvalidation_1-error:0.27152\n",
            "[647]\tvalidation_0-error:0.17001\tvalidation_1-error:0.27141\n",
            "[648]\tvalidation_0-error:0.16998\tvalidation_1-error:0.27140\n",
            "[649]\tvalidation_0-error:0.16994\tvalidation_1-error:0.27146\n",
            "[650]\tvalidation_0-error:0.16991\tvalidation_1-error:0.27150\n",
            "[651]\tvalidation_0-error:0.16985\tvalidation_1-error:0.27148\n",
            "[652]\tvalidation_0-error:0.16983\tvalidation_1-error:0.27147\n",
            "[653]\tvalidation_0-error:0.16980\tvalidation_1-error:0.27152\n",
            "[654]\tvalidation_0-error:0.16975\tvalidation_1-error:0.27158\n",
            "[655]\tvalidation_0-error:0.16969\tvalidation_1-error:0.27152\n",
            "[656]\tvalidation_0-error:0.16967\tvalidation_1-error:0.27155\n",
            "[657]\tvalidation_0-error:0.16961\tvalidation_1-error:0.27157\n",
            "[658]\tvalidation_0-error:0.16955\tvalidation_1-error:0.27153\n",
            "[659]\tvalidation_0-error:0.16951\tvalidation_1-error:0.27146\n",
            "[660]\tvalidation_0-error:0.16947\tvalidation_1-error:0.27144\n",
            "[661]\tvalidation_0-error:0.16947\tvalidation_1-error:0.27148\n",
            "[662]\tvalidation_0-error:0.16944\tvalidation_1-error:0.27147\n",
            "[663]\tvalidation_0-error:0.16942\tvalidation_1-error:0.27138\n",
            "[664]\tvalidation_0-error:0.16935\tvalidation_1-error:0.27134\n",
            "[665]\tvalidation_0-error:0.16933\tvalidation_1-error:0.27142\n",
            "[666]\tvalidation_0-error:0.16931\tvalidation_1-error:0.27138\n",
            "[667]\tvalidation_0-error:0.16930\tvalidation_1-error:0.27141\n",
            "[668]\tvalidation_0-error:0.16925\tvalidation_1-error:0.27137\n",
            "[669]\tvalidation_0-error:0.16925\tvalidation_1-error:0.27143\n",
            "[670]\tvalidation_0-error:0.16922\tvalidation_1-error:0.27144\n",
            "[671]\tvalidation_0-error:0.16918\tvalidation_1-error:0.27147\n",
            "[672]\tvalidation_0-error:0.16915\tvalidation_1-error:0.27147\n",
            "[673]\tvalidation_0-error:0.16915\tvalidation_1-error:0.27143\n",
            "[674]\tvalidation_0-error:0.16913\tvalidation_1-error:0.27137\n",
            "[675]\tvalidation_0-error:0.16908\tvalidation_1-error:0.27134\n",
            "[676]\tvalidation_0-error:0.16905\tvalidation_1-error:0.27137\n",
            "[677]\tvalidation_0-error:0.16901\tvalidation_1-error:0.27134\n",
            "[678]\tvalidation_0-error:0.16900\tvalidation_1-error:0.27128\n",
            "[679]\tvalidation_0-error:0.16896\tvalidation_1-error:0.27122\n",
            "[680]\tvalidation_0-error:0.16893\tvalidation_1-error:0.27125\n",
            "[681]\tvalidation_0-error:0.16887\tvalidation_1-error:0.27120\n",
            "[682]\tvalidation_0-error:0.16888\tvalidation_1-error:0.27116\n",
            "[683]\tvalidation_0-error:0.16882\tvalidation_1-error:0.27126\n",
            "[684]\tvalidation_0-error:0.16872\tvalidation_1-error:0.27122\n",
            "[685]\tvalidation_0-error:0.16871\tvalidation_1-error:0.27122\n",
            "[686]\tvalidation_0-error:0.16864\tvalidation_1-error:0.27119\n"
          ],
          "name": "stdout"
        },
        {
          "output_type": "stream",
          "text": [
            "[687]\tvalidation_0-error:0.16856\tvalidation_1-error:0.27117\n",
            "[688]\tvalidation_0-error:0.16854\tvalidation_1-error:0.27111\n",
            "[689]\tvalidation_0-error:0.16848\tvalidation_1-error:0.27105\n",
            "[690]\tvalidation_0-error:0.16848\tvalidation_1-error:0.27104\n",
            "[691]\tvalidation_0-error:0.16841\tvalidation_1-error:0.27106\n",
            "[692]\tvalidation_0-error:0.16838\tvalidation_1-error:0.27107\n",
            "[693]\tvalidation_0-error:0.16839\tvalidation_1-error:0.27106\n",
            "[694]\tvalidation_0-error:0.16836\tvalidation_1-error:0.27111\n",
            "[695]\tvalidation_0-error:0.16828\tvalidation_1-error:0.27111\n",
            "[696]\tvalidation_0-error:0.16824\tvalidation_1-error:0.27103\n",
            "[697]\tvalidation_0-error:0.16822\tvalidation_1-error:0.27109\n",
            "[698]\tvalidation_0-error:0.16817\tvalidation_1-error:0.27109\n",
            "[699]\tvalidation_0-error:0.16813\tvalidation_1-error:0.27106\n",
            "[700]\tvalidation_0-error:0.16808\tvalidation_1-error:0.27103\n",
            "[701]\tvalidation_0-error:0.16804\tvalidation_1-error:0.27103\n",
            "[702]\tvalidation_0-error:0.16800\tvalidation_1-error:0.27103\n",
            "[703]\tvalidation_0-error:0.16797\tvalidation_1-error:0.27099\n",
            "[704]\tvalidation_0-error:0.16792\tvalidation_1-error:0.27097\n",
            "[705]\tvalidation_0-error:0.16787\tvalidation_1-error:0.27088\n",
            "[706]\tvalidation_0-error:0.16779\tvalidation_1-error:0.27085\n",
            "[707]\tvalidation_0-error:0.16776\tvalidation_1-error:0.27082\n",
            "[708]\tvalidation_0-error:0.16772\tvalidation_1-error:0.27087\n",
            "[709]\tvalidation_0-error:0.16773\tvalidation_1-error:0.27083\n",
            "[710]\tvalidation_0-error:0.16768\tvalidation_1-error:0.27086\n",
            "[711]\tvalidation_0-error:0.16766\tvalidation_1-error:0.27088\n",
            "[712]\tvalidation_0-error:0.16758\tvalidation_1-error:0.27089\n",
            "[713]\tvalidation_0-error:0.16752\tvalidation_1-error:0.27085\n",
            "[714]\tvalidation_0-error:0.16748\tvalidation_1-error:0.27078\n",
            "[715]\tvalidation_0-error:0.16741\tvalidation_1-error:0.27070\n",
            "[716]\tvalidation_0-error:0.16736\tvalidation_1-error:0.27069\n",
            "[717]\tvalidation_0-error:0.16730\tvalidation_1-error:0.27063\n",
            "[718]\tvalidation_0-error:0.16731\tvalidation_1-error:0.27069\n",
            "[719]\tvalidation_0-error:0.16728\tvalidation_1-error:0.27060\n",
            "[720]\tvalidation_0-error:0.16722\tvalidation_1-error:0.27057\n",
            "[721]\tvalidation_0-error:0.16715\tvalidation_1-error:0.27051\n",
            "[722]\tvalidation_0-error:0.16714\tvalidation_1-error:0.27053\n",
            "[723]\tvalidation_0-error:0.16712\tvalidation_1-error:0.27051\n",
            "[724]\tvalidation_0-error:0.16709\tvalidation_1-error:0.27052\n",
            "[725]\tvalidation_0-error:0.16704\tvalidation_1-error:0.27054\n",
            "[726]\tvalidation_0-error:0.16699\tvalidation_1-error:0.27046\n",
            "[727]\tvalidation_0-error:0.16698\tvalidation_1-error:0.27046\n",
            "[728]\tvalidation_0-error:0.16694\tvalidation_1-error:0.27044\n",
            "[729]\tvalidation_0-error:0.16691\tvalidation_1-error:0.27045\n",
            "[730]\tvalidation_0-error:0.16688\tvalidation_1-error:0.27041\n",
            "[731]\tvalidation_0-error:0.16686\tvalidation_1-error:0.27034\n",
            "[732]\tvalidation_0-error:0.16681\tvalidation_1-error:0.27035\n",
            "[733]\tvalidation_0-error:0.16679\tvalidation_1-error:0.27033\n",
            "[734]\tvalidation_0-error:0.16675\tvalidation_1-error:0.27037\n",
            "[735]\tvalidation_0-error:0.16674\tvalidation_1-error:0.27037\n",
            "[736]\tvalidation_0-error:0.16673\tvalidation_1-error:0.27029\n",
            "[737]\tvalidation_0-error:0.16668\tvalidation_1-error:0.27028\n",
            "[738]\tvalidation_0-error:0.16666\tvalidation_1-error:0.27028\n",
            "[739]\tvalidation_0-error:0.16662\tvalidation_1-error:0.27025\n",
            "[740]\tvalidation_0-error:0.16655\tvalidation_1-error:0.27028\n",
            "[741]\tvalidation_0-error:0.16653\tvalidation_1-error:0.27025\n",
            "[742]\tvalidation_0-error:0.16651\tvalidation_1-error:0.27019\n",
            "[743]\tvalidation_0-error:0.16645\tvalidation_1-error:0.27014\n",
            "[744]\tvalidation_0-error:0.16641\tvalidation_1-error:0.27006\n",
            "[745]\tvalidation_0-error:0.16635\tvalidation_1-error:0.26999\n",
            "[746]\tvalidation_0-error:0.16630\tvalidation_1-error:0.27002\n",
            "[747]\tvalidation_0-error:0.16623\tvalidation_1-error:0.27009\n",
            "[748]\tvalidation_0-error:0.16621\tvalidation_1-error:0.27013\n",
            "[749]\tvalidation_0-error:0.16616\tvalidation_1-error:0.27016\n",
            "[750]\tvalidation_0-error:0.16614\tvalidation_1-error:0.27013\n",
            "[751]\tvalidation_0-error:0.16611\tvalidation_1-error:0.27004\n",
            "[752]\tvalidation_0-error:0.16610\tvalidation_1-error:0.26999\n",
            "[753]\tvalidation_0-error:0.16608\tvalidation_1-error:0.27000\n",
            "[754]\tvalidation_0-error:0.16603\tvalidation_1-error:0.27003\n",
            "[755]\tvalidation_0-error:0.16601\tvalidation_1-error:0.27002\n",
            "[756]\tvalidation_0-error:0.16597\tvalidation_1-error:0.26998\n",
            "[757]\tvalidation_0-error:0.16590\tvalidation_1-error:0.26997\n",
            "[758]\tvalidation_0-error:0.16588\tvalidation_1-error:0.26987\n",
            "[759]\tvalidation_0-error:0.16583\tvalidation_1-error:0.26990\n",
            "[760]\tvalidation_0-error:0.16582\tvalidation_1-error:0.26986\n",
            "[761]\tvalidation_0-error:0.16579\tvalidation_1-error:0.26984\n",
            "[762]\tvalidation_0-error:0.16576\tvalidation_1-error:0.26990\n",
            "[763]\tvalidation_0-error:0.16574\tvalidation_1-error:0.26994\n",
            "[764]\tvalidation_0-error:0.16563\tvalidation_1-error:0.26980\n",
            "[765]\tvalidation_0-error:0.16559\tvalidation_1-error:0.26981\n",
            "[766]\tvalidation_0-error:0.16557\tvalidation_1-error:0.26985\n",
            "[767]\tvalidation_0-error:0.16557\tvalidation_1-error:0.26981\n",
            "[768]\tvalidation_0-error:0.16551\tvalidation_1-error:0.26980\n",
            "[769]\tvalidation_0-error:0.16548\tvalidation_1-error:0.26980\n",
            "[770]\tvalidation_0-error:0.16545\tvalidation_1-error:0.26975\n",
            "[771]\tvalidation_0-error:0.16541\tvalidation_1-error:0.26965\n",
            "[772]\tvalidation_0-error:0.16538\tvalidation_1-error:0.26963\n",
            "[773]\tvalidation_0-error:0.16535\tvalidation_1-error:0.26957\n",
            "[774]\tvalidation_0-error:0.16533\tvalidation_1-error:0.26950\n",
            "[775]\tvalidation_0-error:0.16529\tvalidation_1-error:0.26951\n",
            "[776]\tvalidation_0-error:0.16526\tvalidation_1-error:0.26953\n",
            "[777]\tvalidation_0-error:0.16520\tvalidation_1-error:0.26960\n",
            "[778]\tvalidation_0-error:0.16518\tvalidation_1-error:0.26968\n",
            "[779]\tvalidation_0-error:0.16518\tvalidation_1-error:0.26967\n",
            "[780]\tvalidation_0-error:0.16516\tvalidation_1-error:0.26967\n",
            "[781]\tvalidation_0-error:0.16513\tvalidation_1-error:0.26963\n",
            "[782]\tvalidation_0-error:0.16507\tvalidation_1-error:0.26961\n",
            "[783]\tvalidation_0-error:0.16501\tvalidation_1-error:0.26963\n",
            "[784]\tvalidation_0-error:0.16498\tvalidation_1-error:0.26965\n",
            "[785]\tvalidation_0-error:0.16496\tvalidation_1-error:0.26960\n",
            "[786]\tvalidation_0-error:0.16489\tvalidation_1-error:0.26959\n",
            "[787]\tvalidation_0-error:0.16486\tvalidation_1-error:0.26968\n",
            "[788]\tvalidation_0-error:0.16483\tvalidation_1-error:0.26968\n",
            "[789]\tvalidation_0-error:0.16481\tvalidation_1-error:0.26969\n",
            "[790]\tvalidation_0-error:0.16475\tvalidation_1-error:0.26974\n",
            "[791]\tvalidation_0-error:0.16474\tvalidation_1-error:0.26970\n",
            "[792]\tvalidation_0-error:0.16470\tvalidation_1-error:0.26970\n",
            "[793]\tvalidation_0-error:0.16466\tvalidation_1-error:0.26970\n",
            "[794]\tvalidation_0-error:0.16464\tvalidation_1-error:0.26973\n",
            "[795]\tvalidation_0-error:0.16460\tvalidation_1-error:0.26974\n",
            "[796]\tvalidation_0-error:0.16455\tvalidation_1-error:0.26972\n",
            "[797]\tvalidation_0-error:0.16453\tvalidation_1-error:0.26974\n",
            "[798]\tvalidation_0-error:0.16450\tvalidation_1-error:0.26969\n",
            "[799]\tvalidation_0-error:0.16445\tvalidation_1-error:0.26966\n",
            "[800]\tvalidation_0-error:0.16439\tvalidation_1-error:0.26963\n",
            "[801]\tvalidation_0-error:0.16437\tvalidation_1-error:0.26966\n",
            "[802]\tvalidation_0-error:0.16434\tvalidation_1-error:0.26968\n",
            "[803]\tvalidation_0-error:0.16428\tvalidation_1-error:0.26966\n",
            "[804]\tvalidation_0-error:0.16422\tvalidation_1-error:0.26966\n",
            "[805]\tvalidation_0-error:0.16418\tvalidation_1-error:0.26967\n",
            "[806]\tvalidation_0-error:0.16417\tvalidation_1-error:0.26963\n",
            "[807]\tvalidation_0-error:0.16414\tvalidation_1-error:0.26968\n",
            "[808]\tvalidation_0-error:0.16414\tvalidation_1-error:0.26969\n",
            "[809]\tvalidation_0-error:0.16410\tvalidation_1-error:0.26966\n",
            "[810]\tvalidation_0-error:0.16402\tvalidation_1-error:0.26961\n",
            "[811]\tvalidation_0-error:0.16401\tvalidation_1-error:0.26959\n",
            "[812]\tvalidation_0-error:0.16397\tvalidation_1-error:0.26956\n",
            "[813]\tvalidation_0-error:0.16392\tvalidation_1-error:0.26955\n",
            "[814]\tvalidation_0-error:0.16387\tvalidation_1-error:0.26954\n",
            "[815]\tvalidation_0-error:0.16385\tvalidation_1-error:0.26955\n",
            "[816]\tvalidation_0-error:0.16382\tvalidation_1-error:0.26955\n",
            "[817]\tvalidation_0-error:0.16374\tvalidation_1-error:0.26954\n",
            "[818]\tvalidation_0-error:0.16370\tvalidation_1-error:0.26948\n",
            "[819]\tvalidation_0-error:0.16363\tvalidation_1-error:0.26936\n",
            "[820]\tvalidation_0-error:0.16359\tvalidation_1-error:0.26939\n",
            "[821]\tvalidation_0-error:0.16354\tvalidation_1-error:0.26942\n",
            "[822]\tvalidation_0-error:0.16353\tvalidation_1-error:0.26949\n",
            "[823]\tvalidation_0-error:0.16350\tvalidation_1-error:0.26943\n"
          ],
          "name": "stdout"
        },
        {
          "output_type": "stream",
          "text": [
            "[824]\tvalidation_0-error:0.16346\tvalidation_1-error:0.26949\n",
            "[825]\tvalidation_0-error:0.16342\tvalidation_1-error:0.26943\n",
            "[826]\tvalidation_0-error:0.16341\tvalidation_1-error:0.26947\n",
            "[827]\tvalidation_0-error:0.16339\tvalidation_1-error:0.26948\n",
            "[828]\tvalidation_0-error:0.16336\tvalidation_1-error:0.26945\n",
            "[829]\tvalidation_0-error:0.16331\tvalidation_1-error:0.26944\n",
            "[830]\tvalidation_0-error:0.16331\tvalidation_1-error:0.26945\n",
            "[831]\tvalidation_0-error:0.16330\tvalidation_1-error:0.26941\n",
            "[832]\tvalidation_0-error:0.16329\tvalidation_1-error:0.26941\n",
            "[833]\tvalidation_0-error:0.16321\tvalidation_1-error:0.26943\n",
            "[834]\tvalidation_0-error:0.16318\tvalidation_1-error:0.26935\n",
            "[835]\tvalidation_0-error:0.16316\tvalidation_1-error:0.26935\n",
            "[836]\tvalidation_0-error:0.16313\tvalidation_1-error:0.26939\n",
            "[837]\tvalidation_0-error:0.16307\tvalidation_1-error:0.26941\n",
            "[838]\tvalidation_0-error:0.16304\tvalidation_1-error:0.26941\n",
            "[839]\tvalidation_0-error:0.16302\tvalidation_1-error:0.26937\n",
            "[840]\tvalidation_0-error:0.16299\tvalidation_1-error:0.26947\n",
            "[841]\tvalidation_0-error:0.16293\tvalidation_1-error:0.26945\n",
            "[842]\tvalidation_0-error:0.16289\tvalidation_1-error:0.26947\n",
            "[843]\tvalidation_0-error:0.16285\tvalidation_1-error:0.26944\n",
            "[844]\tvalidation_0-error:0.16280\tvalidation_1-error:0.26948\n",
            "[845]\tvalidation_0-error:0.16278\tvalidation_1-error:0.26949\n",
            "[846]\tvalidation_0-error:0.16277\tvalidation_1-error:0.26948\n",
            "[847]\tvalidation_0-error:0.16273\tvalidation_1-error:0.26949\n",
            "[848]\tvalidation_0-error:0.16273\tvalidation_1-error:0.26953\n",
            "[849]\tvalidation_0-error:0.16268\tvalidation_1-error:0.26957\n",
            "[850]\tvalidation_0-error:0.16264\tvalidation_1-error:0.26956\n",
            "[851]\tvalidation_0-error:0.16261\tvalidation_1-error:0.26943\n",
            "[852]\tvalidation_0-error:0.16259\tvalidation_1-error:0.26947\n",
            "[853]\tvalidation_0-error:0.16251\tvalidation_1-error:0.26945\n",
            "[854]\tvalidation_0-error:0.16250\tvalidation_1-error:0.26949\n",
            "[855]\tvalidation_0-error:0.16246\tvalidation_1-error:0.26950\n",
            "[856]\tvalidation_0-error:0.16243\tvalidation_1-error:0.26953\n",
            "[857]\tvalidation_0-error:0.16237\tvalidation_1-error:0.26948\n",
            "[858]\tvalidation_0-error:0.16229\tvalidation_1-error:0.26947\n",
            "[859]\tvalidation_0-error:0.16229\tvalidation_1-error:0.26945\n",
            "[860]\tvalidation_0-error:0.16225\tvalidation_1-error:0.26943\n",
            "[861]\tvalidation_0-error:0.16223\tvalidation_1-error:0.26944\n",
            "[862]\tvalidation_0-error:0.16220\tvalidation_1-error:0.26936\n",
            "[863]\tvalidation_0-error:0.16219\tvalidation_1-error:0.26933\n",
            "[864]\tvalidation_0-error:0.16213\tvalidation_1-error:0.26932\n",
            "[865]\tvalidation_0-error:0.16207\tvalidation_1-error:0.26933\n",
            "[866]\tvalidation_0-error:0.16204\tvalidation_1-error:0.26933\n",
            "[867]\tvalidation_0-error:0.16201\tvalidation_1-error:0.26935\n",
            "[868]\tvalidation_0-error:0.16199\tvalidation_1-error:0.26933\n",
            "[869]\tvalidation_0-error:0.16197\tvalidation_1-error:0.26933\n",
            "[870]\tvalidation_0-error:0.16192\tvalidation_1-error:0.26926\n",
            "[871]\tvalidation_0-error:0.16184\tvalidation_1-error:0.26922\n",
            "[872]\tvalidation_0-error:0.16180\tvalidation_1-error:0.26918\n",
            "[873]\tvalidation_0-error:0.16177\tvalidation_1-error:0.26921\n",
            "[874]\tvalidation_0-error:0.16169\tvalidation_1-error:0.26927\n",
            "[875]\tvalidation_0-error:0.16166\tvalidation_1-error:0.26926\n",
            "[876]\tvalidation_0-error:0.16164\tvalidation_1-error:0.26926\n",
            "[877]\tvalidation_0-error:0.16159\tvalidation_1-error:0.26928\n",
            "[878]\tvalidation_0-error:0.16157\tvalidation_1-error:0.26931\n",
            "[879]\tvalidation_0-error:0.16148\tvalidation_1-error:0.26926\n",
            "[880]\tvalidation_0-error:0.16142\tvalidation_1-error:0.26926\n",
            "[881]\tvalidation_0-error:0.16139\tvalidation_1-error:0.26922\n",
            "[882]\tvalidation_0-error:0.16138\tvalidation_1-error:0.26919\n",
            "[883]\tvalidation_0-error:0.16136\tvalidation_1-error:0.26920\n",
            "[884]\tvalidation_0-error:0.16133\tvalidation_1-error:0.26924\n",
            "[885]\tvalidation_0-error:0.16132\tvalidation_1-error:0.26928\n",
            "[886]\tvalidation_0-error:0.16130\tvalidation_1-error:0.26925\n",
            "[887]\tvalidation_0-error:0.16126\tvalidation_1-error:0.26922\n",
            "[888]\tvalidation_0-error:0.16125\tvalidation_1-error:0.26920\n",
            "[889]\tvalidation_0-error:0.16123\tvalidation_1-error:0.26915\n",
            "[890]\tvalidation_0-error:0.16120\tvalidation_1-error:0.26916\n",
            "[891]\tvalidation_0-error:0.16118\tvalidation_1-error:0.26913\n",
            "[892]\tvalidation_0-error:0.16116\tvalidation_1-error:0.26910\n",
            "[893]\tvalidation_0-error:0.16114\tvalidation_1-error:0.26908\n",
            "[894]\tvalidation_0-error:0.16111\tvalidation_1-error:0.26904\n",
            "[895]\tvalidation_0-error:0.16111\tvalidation_1-error:0.26902\n",
            "[896]\tvalidation_0-error:0.16108\tvalidation_1-error:0.26904\n",
            "[897]\tvalidation_0-error:0.16105\tvalidation_1-error:0.26906\n",
            "[898]\tvalidation_0-error:0.16101\tvalidation_1-error:0.26904\n",
            "[899]\tvalidation_0-error:0.16094\tvalidation_1-error:0.26908\n",
            "[900]\tvalidation_0-error:0.16086\tvalidation_1-error:0.26908\n",
            "[901]\tvalidation_0-error:0.16084\tvalidation_1-error:0.26912\n",
            "[902]\tvalidation_0-error:0.16082\tvalidation_1-error:0.26908\n",
            "[903]\tvalidation_0-error:0.16080\tvalidation_1-error:0.26912\n",
            "[904]\tvalidation_0-error:0.16078\tvalidation_1-error:0.26909\n",
            "[905]\tvalidation_0-error:0.16078\tvalidation_1-error:0.26916\n",
            "[906]\tvalidation_0-error:0.16077\tvalidation_1-error:0.26914\n",
            "[907]\tvalidation_0-error:0.16073\tvalidation_1-error:0.26909\n",
            "[908]\tvalidation_0-error:0.16069\tvalidation_1-error:0.26906\n",
            "[909]\tvalidation_0-error:0.16071\tvalidation_1-error:0.26903\n",
            "[910]\tvalidation_0-error:0.16068\tvalidation_1-error:0.26903\n",
            "[911]\tvalidation_0-error:0.16065\tvalidation_1-error:0.26904\n",
            "[912]\tvalidation_0-error:0.16062\tvalidation_1-error:0.26902\n",
            "[913]\tvalidation_0-error:0.16062\tvalidation_1-error:0.26908\n",
            "[914]\tvalidation_0-error:0.16060\tvalidation_1-error:0.26912\n",
            "[915]\tvalidation_0-error:0.16059\tvalidation_1-error:0.26906\n",
            "[916]\tvalidation_0-error:0.16058\tvalidation_1-error:0.26908\n",
            "[917]\tvalidation_0-error:0.16057\tvalidation_1-error:0.26908\n",
            "[918]\tvalidation_0-error:0.16050\tvalidation_1-error:0.26908\n",
            "[919]\tvalidation_0-error:0.16047\tvalidation_1-error:0.26910\n",
            "[920]\tvalidation_0-error:0.16045\tvalidation_1-error:0.26907\n",
            "[921]\tvalidation_0-error:0.16041\tvalidation_1-error:0.26915\n",
            "[922]\tvalidation_0-error:0.16037\tvalidation_1-error:0.26920\n",
            "[923]\tvalidation_0-error:0.16035\tvalidation_1-error:0.26918\n",
            "[924]\tvalidation_0-error:0.16035\tvalidation_1-error:0.26919\n",
            "[925]\tvalidation_0-error:0.16030\tvalidation_1-error:0.26921\n",
            "[926]\tvalidation_0-error:0.16028\tvalidation_1-error:0.26922\n",
            "[927]\tvalidation_0-error:0.16022\tvalidation_1-error:0.26921\n",
            "[928]\tvalidation_0-error:0.16021\tvalidation_1-error:0.26919\n",
            "[929]\tvalidation_0-error:0.16018\tvalidation_1-error:0.26922\n",
            "[930]\tvalidation_0-error:0.16016\tvalidation_1-error:0.26925\n",
            "[931]\tvalidation_0-error:0.16012\tvalidation_1-error:0.26916\n",
            "[932]\tvalidation_0-error:0.16009\tvalidation_1-error:0.26920\n",
            "[933]\tvalidation_0-error:0.16007\tvalidation_1-error:0.26915\n",
            "[934]\tvalidation_0-error:0.16003\tvalidation_1-error:0.26916\n",
            "[935]\tvalidation_0-error:0.16000\tvalidation_1-error:0.26918\n",
            "[936]\tvalidation_0-error:0.15999\tvalidation_1-error:0.26916\n",
            "[937]\tvalidation_0-error:0.15997\tvalidation_1-error:0.26914\n",
            "[938]\tvalidation_0-error:0.15992\tvalidation_1-error:0.26915\n",
            "[939]\tvalidation_0-error:0.15985\tvalidation_1-error:0.26914\n",
            "[940]\tvalidation_0-error:0.15981\tvalidation_1-error:0.26909\n",
            "[941]\tvalidation_0-error:0.15977\tvalidation_1-error:0.26908\n",
            "[942]\tvalidation_0-error:0.15973\tvalidation_1-error:0.26902\n",
            "[943]\tvalidation_0-error:0.15973\tvalidation_1-error:0.26903\n",
            "[944]\tvalidation_0-error:0.15972\tvalidation_1-error:0.26903\n",
            "[945]\tvalidation_0-error:0.15969\tvalidation_1-error:0.26904\n",
            "[946]\tvalidation_0-error:0.15966\tvalidation_1-error:0.26908\n",
            "[947]\tvalidation_0-error:0.15965\tvalidation_1-error:0.26909\n",
            "[948]\tvalidation_0-error:0.15960\tvalidation_1-error:0.26910\n",
            "[949]\tvalidation_0-error:0.15953\tvalidation_1-error:0.26912\n",
            "[950]\tvalidation_0-error:0.15951\tvalidation_1-error:0.26915\n",
            "[951]\tvalidation_0-error:0.15945\tvalidation_1-error:0.26913\n",
            "[952]\tvalidation_0-error:0.15948\tvalidation_1-error:0.26915\n",
            "[953]\tvalidation_0-error:0.15946\tvalidation_1-error:0.26912\n",
            "[954]\tvalidation_0-error:0.15940\tvalidation_1-error:0.26910\n",
            "[955]\tvalidation_0-error:0.15939\tvalidation_1-error:0.26910\n",
            "[956]\tvalidation_0-error:0.15935\tvalidation_1-error:0.26908\n",
            "[957]\tvalidation_0-error:0.15935\tvalidation_1-error:0.26912\n",
            "[958]\tvalidation_0-error:0.15932\tvalidation_1-error:0.26907\n",
            "[959]\tvalidation_0-error:0.15930\tvalidation_1-error:0.26912\n",
            "[960]\tvalidation_0-error:0.15928\tvalidation_1-error:0.26904\n"
          ],
          "name": "stdout"
        },
        {
          "output_type": "stream",
          "text": [
            "[961]\tvalidation_0-error:0.15924\tvalidation_1-error:0.26909\n",
            "[962]\tvalidation_0-error:0.15920\tvalidation_1-error:0.26907\n",
            "[963]\tvalidation_0-error:0.15913\tvalidation_1-error:0.26912\n",
            "[964]\tvalidation_0-error:0.15910\tvalidation_1-error:0.26909\n",
            "[965]\tvalidation_0-error:0.15906\tvalidation_1-error:0.26913\n",
            "[966]\tvalidation_0-error:0.15902\tvalidation_1-error:0.26914\n",
            "[967]\tvalidation_0-error:0.15898\tvalidation_1-error:0.26918\n",
            "[968]\tvalidation_0-error:0.15894\tvalidation_1-error:0.26920\n",
            "[969]\tvalidation_0-error:0.15896\tvalidation_1-error:0.26918\n",
            "[970]\tvalidation_0-error:0.15894\tvalidation_1-error:0.26918\n",
            "[971]\tvalidation_0-error:0.15889\tvalidation_1-error:0.26915\n",
            "[972]\tvalidation_0-error:0.15887\tvalidation_1-error:0.26915\n",
            "[973]\tvalidation_0-error:0.15887\tvalidation_1-error:0.26916\n",
            "[974]\tvalidation_0-error:0.15880\tvalidation_1-error:0.26920\n",
            "[975]\tvalidation_0-error:0.15877\tvalidation_1-error:0.26922\n",
            "[976]\tvalidation_0-error:0.15871\tvalidation_1-error:0.26926\n",
            "[977]\tvalidation_0-error:0.15866\tvalidation_1-error:0.26926\n",
            "[978]\tvalidation_0-error:0.15863\tvalidation_1-error:0.26924\n",
            "[979]\tvalidation_0-error:0.15860\tvalidation_1-error:0.26924\n",
            "[980]\tvalidation_0-error:0.15860\tvalidation_1-error:0.26920\n",
            "[981]\tvalidation_0-error:0.15859\tvalidation_1-error:0.26922\n",
            "[982]\tvalidation_0-error:0.15860\tvalidation_1-error:0.26928\n",
            "[983]\tvalidation_0-error:0.15857\tvalidation_1-error:0.26927\n",
            "[984]\tvalidation_0-error:0.15854\tvalidation_1-error:0.26921\n",
            "[985]\tvalidation_0-error:0.15853\tvalidation_1-error:0.26925\n",
            "[986]\tvalidation_0-error:0.15848\tvalidation_1-error:0.26921\n",
            "[987]\tvalidation_0-error:0.15845\tvalidation_1-error:0.26920\n",
            "[988]\tvalidation_0-error:0.15842\tvalidation_1-error:0.26919\n",
            "[989]\tvalidation_0-error:0.15840\tvalidation_1-error:0.26914\n",
            "[990]\tvalidation_0-error:0.15839\tvalidation_1-error:0.26909\n",
            "[991]\tvalidation_0-error:0.15834\tvalidation_1-error:0.26903\n",
            "[992]\tvalidation_0-error:0.15830\tvalidation_1-error:0.26908\n",
            "[993]\tvalidation_0-error:0.15822\tvalidation_1-error:0.26906\n",
            "[994]\tvalidation_0-error:0.15818\tvalidation_1-error:0.26902\n",
            "[995]\tvalidation_0-error:0.15814\tvalidation_1-error:0.26907\n",
            "[996]\tvalidation_0-error:0.15814\tvalidation_1-error:0.26907\n",
            "[997]\tvalidation_0-error:0.15811\tvalidation_1-error:0.26908\n",
            "[998]\tvalidation_0-error:0.15810\tvalidation_1-error:0.26908\n",
            "[999]\tvalidation_0-error:0.15809\tvalidation_1-error:0.26906\n"
          ],
          "name": "stdout"
        },
        {
          "output_type": "execute_result",
          "data": {
            "text/plain": [
              "XGBClassifier(base_score=0.5, booster='gbtree', colsample_bylevel=1,\n",
              "              colsample_bynode=1, colsample_bytree=0.6, gamma=1, gpu_id=-1,\n",
              "              importance_type='gain', interaction_constraints='',\n",
              "              learning_rate=0.01, max_delta_step=0, max_depth=35,\n",
              "              min_child_weight=1, missing=nan, monotone_constraints='()',\n",
              "              n_estimators=1000, n_jobs=4, num_parallel_tree=1, random_state=0,\n",
              "              reg_alpha=0.3, reg_lambda=1, scale_pos_weight=1, subsample=0.8,\n",
              "              tree_method='exact', validate_parameters=1, verbosity=None)"
            ]
          },
          "metadata": {
            "tags": []
          },
          "execution_count": 45
        }
      ]
    },
    {
      "cell_type": "code",
      "metadata": {
        "id": "LgdhhGdcLIls",
        "outputId": "4d8755c0-6f0a-4c77-8551-c51e65132186"
      },
      "source": [
        "preds_pos = model_pos.predict(X_test_text_poslength)\n",
        "preds_pos"
      ],
      "execution_count": null,
      "outputs": [
        {
          "output_type": "execute_result",
          "data": {
            "text/plain": [
              "array([1, 0, 0, ..., 1, 0, 0], dtype=int64)"
            ]
          },
          "metadata": {
            "tags": []
          },
          "execution_count": 48
        }
      ]
    },
    {
      "cell_type": "code",
      "metadata": {
        "id": "iN1PhDNjLIlt",
        "outputId": "c78319d2-ecf7-4670-ebdc-e68de7bea966"
      },
      "source": [
        "# the score from my previous messy notebook is actually 0.7303428, but I cant find out why it has changed\n",
        "# but it follows the same logic\n",
        "accuracy_score(y_test, preds_pos)"
      ],
      "execution_count": null,
      "outputs": [
        {
          "output_type": "execute_result",
          "data": {
            "text/plain": [
              "0.7309427262039014"
            ]
          },
          "metadata": {
            "tags": []
          },
          "execution_count": 49
        }
      ]
    },
    {
      "cell_type": "code",
      "metadata": {
        "id": "ocBDbSVlLIlt"
      },
      "source": [
        "# save the model to disk\n",
        "filename = 'xgboost_pos_model3.pkl'\n",
        "pickle.dump(model_pos, open(filename, 'wb'))"
      ],
      "execution_count": null,
      "outputs": []
    },
    {
      "cell_type": "markdown",
      "metadata": {
        "id": "g-nUl0JALIlt"
      },
      "source": [
        "### Generate results with the test data"
      ]
    },
    {
      "cell_type": "code",
      "metadata": {
        "id": "ALY-qqVXLIlt",
        "outputId": "a4f741e2-8fba-42ae-94c2-db80fa3bf49f"
      },
      "source": [
        "testset = pd.read_csv(\"WikiLarge_Test.csv\", index_col=None)\n",
        "clean_test = clean(testset)\n",
        "clean_test['length'] = clean_test['cleaned_text'].apply(lambda x: len(lemmatization(x).strip().split(\" \")))\n",
        "clean_test.head()"
      ],
      "execution_count": null,
      "outputs": [
        {
          "output_type": "execute_result",
          "data": {
            "text/html": [
              "<div>\n",
              "<style scoped>\n",
              "    .dataframe tbody tr th:only-of-type {\n",
              "        vertical-align: middle;\n",
              "    }\n",
              "\n",
              "    .dataframe tbody tr th {\n",
              "        vertical-align: top;\n",
              "    }\n",
              "\n",
              "    .dataframe thead th {\n",
              "        text-align: right;\n",
              "    }\n",
              "</style>\n",
              "<table border=\"1\" class=\"dataframe\">\n",
              "  <thead>\n",
              "    <tr style=\"text-align: right;\">\n",
              "      <th></th>\n",
              "      <th>id</th>\n",
              "      <th>original_text</th>\n",
              "      <th>label</th>\n",
              "      <th>cleaned_text</th>\n",
              "      <th>length</th>\n",
              "    </tr>\n",
              "  </thead>\n",
              "  <tbody>\n",
              "    <tr>\n",
              "      <th>0</th>\n",
              "      <td>0</td>\n",
              "      <td>-2011</td>\n",
              "      <td>NaN</td>\n",
              "      <td>-2011</td>\n",
              "      <td>1</td>\n",
              "    </tr>\n",
              "    <tr>\n",
              "      <th>1</th>\n",
              "      <td>1</td>\n",
              "      <td>-2011</td>\n",
              "      <td>NaN</td>\n",
              "      <td>-2011</td>\n",
              "      <td>1</td>\n",
              "    </tr>\n",
              "    <tr>\n",
              "      <th>2</th>\n",
              "      <td>2</td>\n",
              "      <td>-2000</td>\n",
              "      <td>NaN</td>\n",
              "      <td>-2000</td>\n",
              "      <td>1</td>\n",
              "    </tr>\n",
              "    <tr>\n",
              "      <th>3</th>\n",
              "      <td>3</td>\n",
              "      <td>-1997</td>\n",
              "      <td>NaN</td>\n",
              "      <td>-1997</td>\n",
              "      <td>1</td>\n",
              "    </tr>\n",
              "    <tr>\n",
              "      <th>4</th>\n",
              "      <td>4</td>\n",
              "      <td>1.636</td>\n",
              "      <td>NaN</td>\n",
              "      <td>1.636</td>\n",
              "      <td>1</td>\n",
              "    </tr>\n",
              "  </tbody>\n",
              "</table>\n",
              "</div>"
            ],
            "text/plain": [
              "   id original_text  label cleaned_text  length\n",
              "0   0         -2011    NaN        -2011       1\n",
              "1   1         -2011    NaN        -2011       1\n",
              "2   2         -2000    NaN        -2000       1\n",
              "3   3         -1997    NaN        -1997       1\n",
              "4   4         1.636    NaN        1.636       1"
            ]
          },
          "metadata": {
            "tags": []
          },
          "execution_count": 51
        }
      ]
    },
    {
      "cell_type": "code",
      "metadata": {
        "id": "8bK73k4mLIlu"
      },
      "source": [
        "test_data = tfidf.transform(clean_test['cleaned_text'])\n",
        "for w in dale_list:\n",
        "    if w in names:\n",
        "        index = vocab[w]\n",
        "        test_data[:, index] *= 3"
      ],
      "execution_count": null,
      "outputs": []
    },
    {
      "cell_type": "code",
      "metadata": {
        "id": "LMPu63beLIlu"
      },
      "source": [
        "test_data_length = hstack([test_data, clean_test[\"length\"].to_numpy().reshape(-1,1)])\n",
        "pos_test_df_sparse = sp.csr_matrix(pos_test_df.values)"
      ],
      "execution_count": null,
      "outputs": []
    },
    {
      "cell_type": "code",
      "metadata": {
        "id": "OgV8Hh22LIlu"
      },
      "source": [
        "# combine pos test data and test_data_length\n",
        "test_data_poslength = hstack([test_data_length, pos_test_df_sparse])"
      ],
      "execution_count": null,
      "outputs": []
    },
    {
      "cell_type": "code",
      "metadata": {
        "id": "PRSLchs_LIlu"
      },
      "source": [
        "# load the model from disk\n",
        "model_load = pickle.load(open(\"xgboost_pos_model3.pkl\", \"rb\"))"
      ],
      "execution_count": null,
      "outputs": []
    },
    {
      "cell_type": "code",
      "metadata": {
        "id": "U9IhNOEhLIlv",
        "outputId": "853b4300-a0b4-4a87-9711-833e2f49c1bc"
      },
      "source": [
        "bst_pos_predict = model_load.predict(test_data_poslength)\n",
        "bst_pos_predict"
      ],
      "execution_count": null,
      "outputs": [
        {
          "output_type": "execute_result",
          "data": {
            "text/plain": [
              "array([0, 0, 0, ..., 0, 0, 0], dtype=int64)"
            ]
          },
          "metadata": {
            "tags": []
          },
          "execution_count": 68
        }
      ]
    },
    {
      "cell_type": "code",
      "metadata": {
        "id": "gyr04kLuLIlv",
        "outputId": "62ee3a66-dc98-4fd5-a79a-676c061f6ea9"
      },
      "source": [
        "testset[\"label\"] = bst_pos_predict\n",
        "res = testset[['id','label']]\n",
        "res.head()"
      ],
      "execution_count": null,
      "outputs": [
        {
          "output_type": "execute_result",
          "data": {
            "text/html": [
              "<div>\n",
              "<style scoped>\n",
              "    .dataframe tbody tr th:only-of-type {\n",
              "        vertical-align: middle;\n",
              "    }\n",
              "\n",
              "    .dataframe tbody tr th {\n",
              "        vertical-align: top;\n",
              "    }\n",
              "\n",
              "    .dataframe thead th {\n",
              "        text-align: right;\n",
              "    }\n",
              "</style>\n",
              "<table border=\"1\" class=\"dataframe\">\n",
              "  <thead>\n",
              "    <tr style=\"text-align: right;\">\n",
              "      <th></th>\n",
              "      <th>id</th>\n",
              "      <th>label</th>\n",
              "    </tr>\n",
              "  </thead>\n",
              "  <tbody>\n",
              "    <tr>\n",
              "      <th>0</th>\n",
              "      <td>0</td>\n",
              "      <td>0</td>\n",
              "    </tr>\n",
              "    <tr>\n",
              "      <th>1</th>\n",
              "      <td>1</td>\n",
              "      <td>0</td>\n",
              "    </tr>\n",
              "    <tr>\n",
              "      <th>2</th>\n",
              "      <td>2</td>\n",
              "      <td>0</td>\n",
              "    </tr>\n",
              "    <tr>\n",
              "      <th>3</th>\n",
              "      <td>3</td>\n",
              "      <td>0</td>\n",
              "    </tr>\n",
              "    <tr>\n",
              "      <th>4</th>\n",
              "      <td>4</td>\n",
              "      <td>0</td>\n",
              "    </tr>\n",
              "  </tbody>\n",
              "</table>\n",
              "</div>"
            ],
            "text/plain": [
              "   id  label\n",
              "0   0      0\n",
              "1   1      0\n",
              "2   2      0\n",
              "3   3      0\n",
              "4   4      0"
            ]
          },
          "metadata": {
            "tags": []
          },
          "execution_count": 69
        }
      ]
    },
    {
      "cell_type": "code",
      "metadata": {
        "id": "E1MY4rcYLIlv"
      },
      "source": [
        "res.to_csv(\"xgboost_pos3.csv\", header=\"ID,Category\", index=False) "
      ],
      "execution_count": null,
      "outputs": []
    },
    {
      "cell_type": "code",
      "metadata": {
        "id": "bEiWHpr_LIlv"
      },
      "source": [
        ""
      ],
      "execution_count": null,
      "outputs": []
    },
    {
      "cell_type": "code",
      "metadata": {
        "id": "KyQ2MH7SGWp7"
      },
      "source": [
        ""
      ],
      "execution_count": null,
      "outputs": []
    }
  ]
}