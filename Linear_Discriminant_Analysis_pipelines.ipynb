{
  "nbformat": 4,
  "nbformat_minor": 0,
  "metadata": {
    "kernelspec": {
      "display_name": "Python 3",
      "language": "python",
      "name": "python3"
    },
    "language_info": {
      "codemirror_mode": {
        "name": "ipython",
        "version": 3
      },
      "file_extension": ".py",
      "mimetype": "text/x-python",
      "name": "python",
      "nbconvert_exporter": "python",
      "pygments_lexer": "ipython3",
      "version": "3.8.5"
    },
    "colab": {
      "name": "Linear Discriminant Analysis-pipelines.ipynb",
      "provenance": []
    }
  },
  "cells": [
    {
      "cell_type": "code",
      "metadata": {
        "id": "TGhgciEMLIiZ"
      },
      "source": [
        "import pandas as pd\n",
        "import numpy as np\n",
        "from sklearn.discriminant_analysis import LinearDiscriminantAnalysis\n",
        "from sklearn.model_selection import train_test_split\n",
        "from sklearn.feature_extraction.text import CountVectorizer\n",
        "from sklearn.model_selection import GridSearchCV\n",
        "from sklearn.metrics import accuracy_score\n",
        "from sklearn.feature_extraction.text import TfidfVectorizer, TfidfTransformer\n",
        "from sklearn.preprocessing import StandardScaler\n",
        "import pickle\n",
        "import nltk\n",
        "from nltk.corpus import stopwords\n",
        "from nltk.stem import PorterStemmer\n",
        "from nltk.tokenize import word_tokenize\n",
        "from nltk.stem import WordNetLemmatizer\n",
        "from sklearn.preprocessing import MinMaxScaler\n",
        "from collections import Counter\n",
        "import scipy.sparse as sp\n",
        "from scipy.sparse import hstack\n",
        "from sklearn.pipeline import Pipeline\n",
        "from sklearn import metrics\n",
        "from sklearn.model_selection import RepeatedStratifiedKFold\n",
        "from sklearn.model_selection import cross_val_score\n",
        "from sklearn.naive_bayes import MultinomialNB\n",
        "from sklearn.feature_selection import SelectKBest, chi2\n",
        "from sklearn.base import BaseEstimator, TransformerMixin\n",
        "import time\n",
        "import matplotlib.pyplot as plt\n",
        "from sklearn.metrics import roc_curve\n",
        "from sklearn.metrics import roc_auc_score"
      ],
      "execution_count": null,
      "outputs": []
    },
    {
      "cell_type": "markdown",
      "metadata": {
        "id": "AKlMaf28LIik"
      },
      "source": [
        "### what is Linear Discriminant Analysis?\n",
        "\n",
        "- The algorithm involves developing a probabilistic model per class based on the specific distribution of observations for each input variable. A new example is then classified by calculating the conditional probability of it belonging to each class and selecting the class with the highest probability.\n",
        "- It works by calculating summary statistics for the input features by class label, such as the mean and standard deviation. These statistics represent the model learned from the training data. \n",
        "- Predictions are made by estimating the probability that a new example belongs to each class label based on the values of each input feature. The class that results in the largest probability is then assigned to the example. As such, LDA may be considered a simple application of Bayes Theorem for classification.\n",
        "- makes strong assumptions about the distribution of each input variable that the input variables are numeric and normally distributed and that they have the same variance (spread). If this is not the case, it may be desirable to transform the data to have a Gaussian distribution and standardize or normalize the data prior to modeling.\n",
        "- It is a linear classification algorithm, like logistic regression. This means that classes are separated in the feature space by lines or hyperplanes. Extensions of the method can be used that allow other shapes, like Quadratic Discriminant Analysis (QDA), which allows curved shapes in the decision boundary.\n",
        "\n",
        "(source: https://machinelearningmastery.com/linear-discriminant-analysis-with-python/)"
      ]
    },
    {
      "cell_type": "code",
      "metadata": {
        "id": "eMjQtGAZLIio"
      },
      "source": [
        "data = pd.read_csv('WikiLarge_Train.csv', encoding=\"utf-8\")"
      ],
      "execution_count": null,
      "outputs": []
    },
    {
      "cell_type": "code",
      "metadata": {
        "id": "j5a9gANULIiq"
      },
      "source": [
        "def clean(data):\n",
        "    # create a new column of text data, lower case all words \n",
        "    data[\"cleaned_text\"] = data['original_text'].str.lower()\n",
        "\n",
        "    # remove \"-LRB-\", \"-LRB-\", non-alphabets and non-ascii characters\n",
        "    data['cleaned_text'] = data['cleaned_text'].str.replace(\"-lrb-\", '')\n",
        "    data['cleaned_text'] = data['cleaned_text'].str.replace(\"-rrb-\", '')\n",
        "    data[\"cleaned_text\"] = data[\"cleaned_text\"].str.encode('ascii', 'ignore').str.decode('ascii')\n",
        "\n",
        "    # remove space >1\n",
        "    data[\"cleaned_text\"] = data[\"cleaned_text\"].str.replace('[\\s]{2,}', ' ')\n",
        "\n",
        "    # remove space at the begining and the end of each sentence\n",
        "    data[\"cleaned_text\"] = data[\"cleaned_text\"].str.strip()\n",
        "    return data"
      ],
      "execution_count": null,
      "outputs": []
    },
    {
      "cell_type": "code",
      "metadata": {
        "id": "YXPBQgjMLIis"
      },
      "source": [
        "# cleaned data\n",
        "data = clean(data)\n",
        "# data.head()"
      ],
      "execution_count": null,
      "outputs": []
    },
    {
      "cell_type": "code",
      "metadata": {
        "id": "cQ-y6wigLIiu",
        "outputId": "a9277cef-2a67-44fc-bc5f-6f63eab0f00a"
      },
      "source": [
        "data.shape"
      ],
      "execution_count": null,
      "outputs": [
        {
          "data": {
            "text/plain": [
              "(416768, 3)"
            ]
          },
          "execution_count": 5,
          "metadata": {},
          "output_type": "execute_result"
        }
      ]
    },
    {
      "cell_type": "code",
      "metadata": {
        "id": "VP8igVvhLIix",
        "outputId": "0d83951a-6cb8-48de-d8fc-57b570da4292"
      },
      "source": [
        "# check no non-ascii characters\n",
        "count = 0\n",
        "for sentence in data['cleaned_text']:\n",
        "    if sentence.isascii() == False:\n",
        "        count += 1\n",
        "count"
      ],
      "execution_count": null,
      "outputs": [
        {
          "data": {
            "text/plain": [
              "0"
            ]
          },
          "execution_count": 6,
          "metadata": {},
          "output_type": "execute_result"
        }
      ]
    },
    {
      "cell_type": "code",
      "metadata": {
        "id": "9iIizlVNLIi1",
        "outputId": "4ca19bc5-4164-48ea-ed18-98f562dbc3f3"
      },
      "source": [
        "# length of the sentence could be a indicator of complexity\n",
        "# add a column of length to the data (this process takes a few minutes)\n",
        "\n",
        "data['length'] = data['cleaned_text'].apply(lambda x: len(x.strip().split(\" \")))\n",
        "data.head()"
      ],
      "execution_count": null,
      "outputs": [
        {
          "data": {
            "text/html": [
              "<div>\n",
              "<style scoped>\n",
              "    .dataframe tbody tr th:only-of-type {\n",
              "        vertical-align: middle;\n",
              "    }\n",
              "\n",
              "    .dataframe tbody tr th {\n",
              "        vertical-align: top;\n",
              "    }\n",
              "\n",
              "    .dataframe thead th {\n",
              "        text-align: right;\n",
              "    }\n",
              "</style>\n",
              "<table border=\"1\" class=\"dataframe\">\n",
              "  <thead>\n",
              "    <tr style=\"text-align: right;\">\n",
              "      <th></th>\n",
              "      <th>original_text</th>\n",
              "      <th>label</th>\n",
              "      <th>cleaned_text</th>\n",
              "      <th>length</th>\n",
              "    </tr>\n",
              "  </thead>\n",
              "  <tbody>\n",
              "    <tr>\n",
              "      <th>0</th>\n",
              "      <td>There is manuscript evidence that Austen conti...</td>\n",
              "      <td>1</td>\n",
              "      <td>there is manuscript evidence that austen conti...</td>\n",
              "      <td>42</td>\n",
              "    </tr>\n",
              "    <tr>\n",
              "      <th>1</th>\n",
              "      <td>In a remarkable comparative analysis , Mandaea...</td>\n",
              "      <td>1</td>\n",
              "      <td>in a remarkable comparative analysis , mandaea...</td>\n",
              "      <td>23</td>\n",
              "    </tr>\n",
              "    <tr>\n",
              "      <th>2</th>\n",
              "      <td>Before Persephone was released to Hermes , who...</td>\n",
              "      <td>1</td>\n",
              "      <td>before persephone was released to hermes , who...</td>\n",
              "      <td>44</td>\n",
              "    </tr>\n",
              "    <tr>\n",
              "      <th>3</th>\n",
              "      <td>Cogeneration plants are commonly found in dist...</td>\n",
              "      <td>1</td>\n",
              "      <td>cogeneration plants are commonly found in dist...</td>\n",
              "      <td>39</td>\n",
              "    </tr>\n",
              "    <tr>\n",
              "      <th>4</th>\n",
              "      <td>Geneva -LRB- , ; , ; , ; ; -RRB- is the second...</td>\n",
              "      <td>1</td>\n",
              "      <td>geneva , ; , ; , ; ; is the second-most-populo...</td>\n",
              "      <td>30</td>\n",
              "    </tr>\n",
              "  </tbody>\n",
              "</table>\n",
              "</div>"
            ],
            "text/plain": [
              "                                       original_text  label  \\\n",
              "0  There is manuscript evidence that Austen conti...      1   \n",
              "1  In a remarkable comparative analysis , Mandaea...      1   \n",
              "2  Before Persephone was released to Hermes , who...      1   \n",
              "3  Cogeneration plants are commonly found in dist...      1   \n",
              "4  Geneva -LRB- , ; , ; , ; ; -RRB- is the second...      1   \n",
              "\n",
              "                                        cleaned_text  length  \n",
              "0  there is manuscript evidence that austen conti...      42  \n",
              "1  in a remarkable comparative analysis , mandaea...      23  \n",
              "2  before persephone was released to hermes , who...      44  \n",
              "3  cogeneration plants are commonly found in dist...      39  \n",
              "4  geneva , ; , ; , ; ; is the second-most-populo...      30  "
            ]
          },
          "execution_count": 7,
          "metadata": {},
          "output_type": "execute_result"
        }
      ]
    },
    {
      "cell_type": "code",
      "metadata": {
        "id": "jngE3GYOLIi4"
      },
      "source": [
        "X = data[['cleaned_text',\"length\"]]\n",
        "# X = data['cleaned_text']\n",
        "y = data['label']\n",
        "\n",
        "# train dataset 80%, test dataset 20%\n",
        "X_train, X_test, y_train, y_test = train_test_split(X, y, test_size=0.2, random_state=42)"
      ],
      "execution_count": null,
      "outputs": []
    },
    {
      "cell_type": "code",
      "metadata": {
        "id": "VZ-HIZusLIi6",
        "outputId": "d4d2f2af-9630-4cab-ec6a-c944bc782afe"
      },
      "source": [
        "X.head()"
      ],
      "execution_count": null,
      "outputs": [
        {
          "data": {
            "text/html": [
              "<div>\n",
              "<style scoped>\n",
              "    .dataframe tbody tr th:only-of-type {\n",
              "        vertical-align: middle;\n",
              "    }\n",
              "\n",
              "    .dataframe tbody tr th {\n",
              "        vertical-align: top;\n",
              "    }\n",
              "\n",
              "    .dataframe thead th {\n",
              "        text-align: right;\n",
              "    }\n",
              "</style>\n",
              "<table border=\"1\" class=\"dataframe\">\n",
              "  <thead>\n",
              "    <tr style=\"text-align: right;\">\n",
              "      <th></th>\n",
              "      <th>cleaned_text</th>\n",
              "      <th>length</th>\n",
              "    </tr>\n",
              "  </thead>\n",
              "  <tbody>\n",
              "    <tr>\n",
              "      <th>0</th>\n",
              "      <td>there is manuscript evidence that austen conti...</td>\n",
              "      <td>42</td>\n",
              "    </tr>\n",
              "    <tr>\n",
              "      <th>1</th>\n",
              "      <td>in a remarkable comparative analysis , mandaea...</td>\n",
              "      <td>23</td>\n",
              "    </tr>\n",
              "    <tr>\n",
              "      <th>2</th>\n",
              "      <td>before persephone was released to hermes , who...</td>\n",
              "      <td>44</td>\n",
              "    </tr>\n",
              "    <tr>\n",
              "      <th>3</th>\n",
              "      <td>cogeneration plants are commonly found in dist...</td>\n",
              "      <td>39</td>\n",
              "    </tr>\n",
              "    <tr>\n",
              "      <th>4</th>\n",
              "      <td>geneva , ; , ; , ; ; is the second-most-populo...</td>\n",
              "      <td>30</td>\n",
              "    </tr>\n",
              "  </tbody>\n",
              "</table>\n",
              "</div>"
            ],
            "text/plain": [
              "                                        cleaned_text  length\n",
              "0  there is manuscript evidence that austen conti...      42\n",
              "1  in a remarkable comparative analysis , mandaea...      23\n",
              "2  before persephone was released to hermes , who...      44\n",
              "3  cogeneration plants are commonly found in dist...      39\n",
              "4  geneva , ; , ; , ; ; is the second-most-populo...      30"
            ]
          },
          "execution_count": 9,
          "metadata": {},
          "output_type": "execute_result"
        }
      ]
    },
    {
      "cell_type": "code",
      "metadata": {
        "id": "I7B5DzIlLIi7"
      },
      "source": [
        "def lemmatization(row):\n",
        "    #make sure nltk.download('stopwords') and nltk.download('wordnet') work \n",
        "    stop = list(stopwords.words('english'))\n",
        "    lemmatizer = WordNetLemmatizer()\n",
        "    token_words= word_tokenize(row)\n",
        "    token_words = [word for word in token_words if not word in stop]\n",
        "    stem_sentence = []\n",
        "    for word in token_words:\n",
        "        stem_sentence.append(lemmatizer.lemmatize(word))\n",
        "        stem_sentence.append(\" \")\n",
        "    return \"\".join(stem_sentence)"
      ],
      "execution_count": null,
      "outputs": []
    },
    {
      "cell_type": "code",
      "metadata": {
        "id": "HSL_lwejLIi8"
      },
      "source": [
        "def stemmer(row):\n",
        "    #make sure nltk.download('stopwords') and nltk.download('wordnet') work \n",
        "    stop = list(stopwords.words('english'))\n",
        "    porter_stemmer = PorterStemmer()\n",
        "    token_words= word_tokenize(row)\n",
        "    token_words = [word for word in token_words if not word in stop]\n",
        "    stem_sentence = []\n",
        "    for word in token_words:\n",
        "        stem_sentence.append(porter_stemmer.stem(word))\n",
        "        stem_sentence.append(\" \")\n",
        "    return \"\".join(stem_sentence)"
      ],
      "execution_count": null,
      "outputs": []
    },
    {
      "cell_type": "code",
      "metadata": {
        "id": "I1MH_Zt5LIi9"
      },
      "source": [
        "# Helper classes, functions\n",
        "class ColumnSelector(BaseEstimator, TransformerMixin):\n",
        "    def __init__(self, col):\n",
        "        self.col = col\n",
        "        \n",
        "    def fit(self, X, y=None):\n",
        "        return self\n",
        "    \n",
        "    def transform(self, X):\n",
        "        return X[self.col]\n",
        "    \n",
        "class DataTransformer(BaseEstimator, TransformerMixin):\n",
        "    def __init__(self):\n",
        "        pass\n",
        "    \n",
        "    def fit(self, X, y=None):\n",
        "        return self\n",
        "\n",
        "    def transform(self, X):\n",
        "        \"\"\"\n",
        "        X here is a sparse matrix\n",
        "        \"\"\"\n",
        "        return X.toarray()"
      ],
      "execution_count": null,
      "outputs": []
    },
    {
      "cell_type": "markdown",
      "metadata": {
        "id": "ZoZzgZTzLIi-"
      },
      "source": [
        "### Hyperparameters tuning with pipeline"
      ]
    },
    {
      "cell_type": "code",
      "metadata": {
        "id": "pdGtEhgYLIi_"
      },
      "source": [
        "# Pipeline #1\n",
        "feat_process = Pipeline([\n",
        "    ('feat_select', ColumnSelector(col='cleaned_text')),\n",
        "#     ('vect', CountVectorizer()),\n",
        "    ('vect', CountVectorizer()),\n",
        "    ('tfidf', TfidfTransformer()),\n",
        "    ('fs', SelectKBest()),\n",
        "    ('stod', DataTransformer())\n",
        "])"
      ],
      "execution_count": null,
      "outputs": []
    },
    {
      "cell_type": "code",
      "metadata": {
        "id": "HH7oWSMBLIjA",
        "outputId": "599f8a2b-d661-46b5-e85e-51fe599c9e40"
      },
      "source": [
        "feat_process.get_params().keys()"
      ],
      "execution_count": null,
      "outputs": [
        {
          "data": {
            "text/plain": [
              "dict_keys(['memory', 'steps', 'verbose', 'feat_select', 'vect', 'tfidf', 'fs', 'stod', 'feat_select__col', 'vect__analyzer', 'vect__binary', 'vect__decode_error', 'vect__dtype', 'vect__encoding', 'vect__input', 'vect__lowercase', 'vect__max_df', 'vect__max_features', 'vect__min_df', 'vect__ngram_range', 'vect__preprocessor', 'vect__stop_words', 'vect__strip_accents', 'vect__token_pattern', 'vect__tokenizer', 'vect__vocabulary', 'tfidf__norm', 'tfidf__smooth_idf', 'tfidf__sublinear_tf', 'tfidf__use_idf', 'fs__k', 'fs__score_func'])"
            ]
          },
          "execution_count": 14,
          "metadata": {},
          "output_type": "execute_result"
        }
      ]
    },
    {
      "cell_type": "code",
      "metadata": {
        "id": "MTyZpixPLIjA",
        "outputId": "45191a66-11d5-4449-9f68-eb2acee5e98c"
      },
      "source": [
        "X_train.head()"
      ],
      "execution_count": null,
      "outputs": [
        {
          "data": {
            "text/html": [
              "<div>\n",
              "<style scoped>\n",
              "    .dataframe tbody tr th:only-of-type {\n",
              "        vertical-align: middle;\n",
              "    }\n",
              "\n",
              "    .dataframe tbody tr th {\n",
              "        vertical-align: top;\n",
              "    }\n",
              "\n",
              "    .dataframe thead th {\n",
              "        text-align: right;\n",
              "    }\n",
              "</style>\n",
              "<table border=\"1\" class=\"dataframe\">\n",
              "  <thead>\n",
              "    <tr style=\"text-align: right;\">\n",
              "      <th></th>\n",
              "      <th>cleaned_text</th>\n",
              "      <th>length</th>\n",
              "    </tr>\n",
              "  </thead>\n",
              "  <tbody>\n",
              "    <tr>\n",
              "      <th>304501</th>\n",
              "      <td>1979-80 buffalo sabres nhl 32 1880 74 1 4 2.36...</td>\n",
              "      <td>15</td>\n",
              "    </tr>\n",
              "    <tr>\n",
              "      <th>162313</th>\n",
              "      <td>diseases lentils in culture lentils are mentio...</td>\n",
              "      <td>36</td>\n",
              "    </tr>\n",
              "    <tr>\n",
              "      <th>336845</th>\n",
              "      <td>railroads , like the lehigh valley railroad , ...</td>\n",
              "      <td>25</td>\n",
              "    </tr>\n",
              "    <tr>\n",
              "      <th>150625</th>\n",
              "      <td>an example of this would be an individual anim...</td>\n",
              "      <td>36</td>\n",
              "    </tr>\n",
              "    <tr>\n",
              "      <th>40240</th>\n",
              "      <td>both the matanuska and susitna rivers have maj...</td>\n",
              "      <td>12</td>\n",
              "    </tr>\n",
              "  </tbody>\n",
              "</table>\n",
              "</div>"
            ],
            "text/plain": [
              "                                             cleaned_text  length\n",
              "304501  1979-80 buffalo sabres nhl 32 1880 74 1 4 2.36...      15\n",
              "162313  diseases lentils in culture lentils are mentio...      36\n",
              "336845  railroads , like the lehigh valley railroad , ...      25\n",
              "150625  an example of this would be an individual anim...      36\n",
              "40240   both the matanuska and susitna rivers have maj...      12"
            ]
          },
          "execution_count": 15,
          "metadata": {},
          "output_type": "execute_result"
        }
      ]
    },
    {
      "cell_type": "code",
      "metadata": {
        "id": "3MWFdud1LIjB"
      },
      "source": [
        "# check\n",
        "# proc_feats = feat_process.fit_transform(X_train[:400], y_train[:400])\n",
        "# print(proc_feats.shape)\n",
        "# proc_feats"
      ],
      "execution_count": null,
      "outputs": []
    },
    {
      "cell_type": "code",
      "metadata": {
        "id": "y8zjFK2gLIjC"
      },
      "source": [
        "pipe1 = Pipeline([\n",
        "    ('preprocess', feat_process),\n",
        "    ('clf', LinearDiscriminantAnalysis()) \n",
        "])"
      ],
      "execution_count": null,
      "outputs": []
    },
    {
      "cell_type": "code",
      "metadata": {
        "id": "UHyBA4e-LIjE"
      },
      "source": [
        "parameters = {'preprocess__tfidf__use_idf': (True, False),\n",
        "              'preprocess__vect__min_df': [6,8],\n",
        "             'preprocess__vect__max_df': [0.8,0.9],\n",
        "             'preprocess__vect__max_features':[10000,20000],\n",
        "                'preprocess__vect__ngram_range':[(1,2)],\n",
        "#             'preprocess__vect__preprocessor':[stemmer],#, lemmatization],\n",
        "             'preprocess__fs__k':[100,1000]}"
      ],
      "execution_count": null,
      "outputs": []
    },
    {
      "cell_type": "code",
      "metadata": {
        "id": "SWr6MkhzLIjG"
      },
      "source": [
        "# cross validation\n",
        "# parameters = {\n",
        "#     'preprocess__tfidf__use_idf': (True, False),\n",
        "#     'preprocess__vect__min_df': ([6,8,10]),\n",
        "#     'preprocess__vect__max_df': [0.8,0.9, 0.95],\n",
        "#     'preprocess__vect__max_features':[100,500,1000],\n",
        "#     'preprocess__vect__ngram_range':[(1,1), (1,2), (1,3)],\n",
        "#     'fs__score_func':[chi2],\n",
        "#     'fs__k':[10, 100, 1000],\n",
        "#     'clf__solver': ['svd', 'lsqr', 'eigen']\n",
        "# }"
      ],
      "execution_count": null,
      "outputs": []
    },
    {
      "cell_type": "code",
      "metadata": {
        "id": "tQ7YqnUfLIjH",
        "outputId": "b7638ba6-02a7-44b4-c877-ffabad753453"
      },
      "source": [
        "t0 = time.time()\n",
        "lda_clf1 = GridSearchCV(pipe1, parameters, cv=5, n_jobs=-1)\n",
        "lda_clf1 = lda_clf1.fit(X_train, y_train)\n",
        "t1 = time.time()\n",
        "print(f\"time = {(t1-t0) /60} mins\")"
      ],
      "execution_count": null,
      "outputs": [
        {
          "name": "stdout",
          "output_type": "stream",
          "text": [
            "time = 40.71934108336767 mins\n"
          ]
        }
      ]
    },
    {
      "cell_type": "code",
      "metadata": {
        "id": "-wNWh57lLIjH",
        "outputId": "ff81342e-29a5-403e-c5b1-911ab1f907de"
      },
      "source": [
        "print(lda_clf1.best_score_)\n",
        "print(lda_clf1.best_params_)"
      ],
      "execution_count": null,
      "outputs": [
        {
          "name": "stdout",
          "output_type": "stream",
          "text": [
            "0.6361760469491788\n",
            "{'preprocess__fs__k': 100, 'preprocess__tfidf__use_idf': False, 'preprocess__vect__max_df': 0.8, 'preprocess__vect__max_features': 10000, 'preprocess__vect__min_df': 6, 'preprocess__vect__ngram_range': (1, 2)}\n"
          ]
        }
      ]
    },
    {
      "cell_type": "code",
      "metadata": {
        "id": "EKfIVkh8LIjI"
      },
      "source": [
        "pred = lda_clf1.predict(X_test)"
      ],
      "execution_count": null,
      "outputs": []
    },
    {
      "cell_type": "code",
      "metadata": {
        "id": "TJjDFQXfLIjI",
        "outputId": "7c6c5f77-8a09-4651-c837-43700ab29d29"
      },
      "source": [
        "print(metrics.classification_report(y_test, pred))\n",
        "\n",
        "metrics.confusion_matrix(y_test, pred)"
      ],
      "execution_count": null,
      "outputs": [
        {
          "name": "stdout",
          "output_type": "stream",
          "text": [
            "              precision    recall  f1-score   support\n",
            "\n",
            "           0       0.64      0.62      0.63     41549\n",
            "           1       0.63      0.65      0.64     41805\n",
            "\n",
            "    accuracy                           0.64     83354\n",
            "   macro avg       0.64      0.64      0.64     83354\n",
            "weighted avg       0.64      0.64      0.64     83354\n",
            "\n"
          ]
        },
        {
          "data": {
            "text/plain": [
              "array([[25924, 15625],\n",
              "       [14777, 27028]], dtype=int64)"
            ]
          },
          "execution_count": 46,
          "metadata": {},
          "output_type": "execute_result"
        }
      ]
    },
    {
      "cell_type": "code",
      "metadata": {
        "id": "04J5yBtQLIjJ"
      },
      "source": [
        "# pipeline 2: tuning max_features and k"
      ],
      "execution_count": null,
      "outputs": []
    },
    {
      "cell_type": "code",
      "metadata": {
        "id": "PJXrcoOHLIjJ"
      },
      "source": [
        "parameters1 = {'preprocess__tfidf__use_idf': (True, False),\n",
        "              'preprocess__vect__min_df': [6,8],\n",
        "             'preprocess__vect__max_df': [0.8,0.9],\n",
        "             'preprocess__vect__max_features':[40000, 80000],\n",
        "                'preprocess__vect__ngram_range':[(1,2)],\n",
        "#             'preprocess__vect__preprocessor':[stemmer],#, lemmatization],\n",
        "             'preprocess__fs__k':[55,85]}"
      ],
      "execution_count": null,
      "outputs": []
    },
    {
      "cell_type": "code",
      "metadata": {
        "id": "bWgQ-zyqLIjK",
        "outputId": "f2d39b61-6902-4708-cecc-ddce1c01af83"
      },
      "source": [
        "t0 = time.time()\n",
        "lda_clf2 = GridSearchCV(pipe1, parameters1, cv=5, n_jobs=-1)\n",
        "lda_clf2 = lda_clf2.fit(X_train, y_train)\n",
        "t1 = time.time()\n",
        "print(f\"time = {(t1-t0) /60} mins\")"
      ],
      "execution_count": null,
      "outputs": [
        {
          "name": "stdout",
          "output_type": "stream",
          "text": [
            "time = 20.60633047421773 mins\n"
          ]
        }
      ]
    },
    {
      "cell_type": "code",
      "metadata": {
        "id": "_68jixpKLIjK",
        "outputId": "4664fb57-c9e9-4c1b-b2de-73d3dcb767ce"
      },
      "source": [
        "print(lda_clf2.best_score_)\n",
        "print(lda_clf2.best_params_)"
      ],
      "execution_count": null,
      "outputs": [
        {
          "name": "stdout",
          "output_type": "stream",
          "text": [
            "0.6314431915621841\n",
            "{'preprocess__fs__k': 85, 'preprocess__tfidf__use_idf': False, 'preprocess__vect__max_df': 0.8, 'preprocess__vect__max_features': 40000, 'preprocess__vect__min_df': 6, 'preprocess__vect__ngram_range': (1, 2)}\n"
          ]
        }
      ]
    },
    {
      "cell_type": "code",
      "metadata": {
        "id": "eZCiIf3TLIjL"
      },
      "source": [
        "pred1 = lda_clf2.predict(X_test)"
      ],
      "execution_count": null,
      "outputs": []
    },
    {
      "cell_type": "code",
      "metadata": {
        "id": "MhoPF-EWLIjL"
      },
      "source": [
        "prob_0 = lda_clf2.predict_proba(X_test)[:,0]\n",
        "prob_1 = lda_clf2.predict_proba(X_test)[:,1]"
      ],
      "execution_count": null,
      "outputs": []
    },
    {
      "cell_type": "code",
      "metadata": {
        "id": "9SNojPPnLIjL",
        "outputId": "09223b05-90b8-47d6-bb42-b55556f88f87"
      },
      "source": [
        "print(metrics.classification_report(y_test, pred1))\n",
        "\n",
        "metrics.confusion_matrix(y_test, pred1)"
      ],
      "execution_count": null,
      "outputs": [
        {
          "name": "stdout",
          "output_type": "stream",
          "text": [
            "              precision    recall  f1-score   support\n",
            "\n",
            "           0       0.63      0.62      0.63     41549\n",
            "           1       0.63      0.64      0.64     41805\n",
            "\n",
            "    accuracy                           0.63     83354\n",
            "   macro avg       0.63      0.63      0.63     83354\n",
            "weighted avg       0.63      0.63      0.63     83354\n",
            "\n"
          ]
        },
        {
          "data": {
            "text/plain": [
              "array([[25876, 15673],\n",
              "       [15038, 26767]], dtype=int64)"
            ]
          },
          "execution_count": 35,
          "metadata": {},
          "output_type": "execute_result"
        }
      ]
    },
    {
      "cell_type": "code",
      "metadata": {
        "id": "NwrHfWtdLIjL",
        "outputId": "e27954b0-cefa-4dca-82ec-672d05a578cc"
      },
      "source": [
        "# calculate scores\n",
        "auc_score = roc_auc_score(y_test, pred1)\n",
        "auc_score"
      ],
      "execution_count": null,
      "outputs": [
        {
          "data": {
            "text/plain": [
              "0.6315325006703034"
            ]
          },
          "execution_count": 36,
          "metadata": {},
          "output_type": "execute_result"
        }
      ]
    },
    {
      "cell_type": "code",
      "metadata": {
        "id": "nZL1hAcdLIjM"
      },
      "source": [
        "# calculate roc curves\n",
        "fpr0, tpr0, _ = roc_curve(y_test, prob_0)\n",
        "fpr1, tpr1, _ = roc_curve(y_test, prob_1)"
      ],
      "execution_count": null,
      "outputs": []
    },
    {
      "cell_type": "code",
      "metadata": {
        "id": "ISLJVv66LIjM",
        "outputId": "9142d21a-6ddf-47a2-a844-2a4e9a9366e8"
      },
      "source": [
        "# plt.plot(fpr0, tpr0)\n",
        "plt.plot(fpr1, tpr1, label='class1')\n",
        "plt.plot([0, 1], [0, 1], color='navy', lw=2, linestyle='--')\n",
        "plt.xlim([0.0, 1.0])\n",
        "plt.ylim([0.0, 1.05])\n",
        "plt.xlabel('False Positive Rate')\n",
        "plt.ylabel('True Positive Rate')\n",
        "plt.title('ROC curve (pipeline 1)')\n",
        "plt.legend();"
      ],
      "execution_count": null,
      "outputs": [
        {
          "data": {
            "image/png": "[encoded data removed]",
            "text/plain": [
              "<Figure size 432x288 with 1 Axes>"
            ]
          },
          "metadata": {
            "needs_background": "light"
          },
          "output_type": "display_data"
        }
      ]
    },
    {
      "cell_type": "code",
      "metadata": {
        "id": "uwcznllrLIjM"
      },
      "source": [
        "# pipeline 3: tuning max_features and k hodling the rest fixed base on above results"
      ],
      "execution_count": null,
      "outputs": []
    },
    {
      "cell_type": "code",
      "metadata": {
        "id": "019aSTavLIjM"
      },
      "source": [
        "parameters3 = {'preprocess__tfidf__use_idf': [False],\n",
        "              'preprocess__vect__min_df': [6],\n",
        "             'preprocess__vect__max_df': [0.8],\n",
        "             'preprocess__vect__max_features':[40000, 80000,100000],\n",
        "                'preprocess__vect__ngram_range':[(1,2)],\n",
        "#             'preprocess__vect__preprocessor':[stemmer],#, lemmatization],\n",
        "             'preprocess__fs__k':[100,200,300,400]}"
      ],
      "execution_count": null,
      "outputs": []
    },
    {
      "cell_type": "code",
      "metadata": {
        "id": "CMF4WI7uLIjN",
        "outputId": "b1a79591-71b9-40d4-dd29-2407a536ed9b"
      },
      "source": [
        "t0 = time.time()\n",
        "lda_clf3 = GridSearchCV(pipe1, parameters3, cv=5, n_jobs=-1)\n",
        "lda_clf3 = lda_clf3.fit(X_train, y_train)\n",
        "t1 = time.time()\n",
        "print(f\"time = {(t1-t0) /60} mins\")"
      ],
      "execution_count": null,
      "outputs": [
        {
          "name": "stdout",
          "output_type": "stream",
          "text": [
            "time = 22.821058587233225 mins\n"
          ]
        }
      ]
    },
    {
      "cell_type": "code",
      "metadata": {
        "id": "AUT6piU9LIjN"
      },
      "source": [
        "pred2 = lda_clf3.predict(X_test)"
      ],
      "execution_count": null,
      "outputs": []
    },
    {
      "cell_type": "code",
      "metadata": {
        "id": "yyJKWMu5LIjN",
        "outputId": "85ee1a92-8788-4ea9-be1b-251eb057372a"
      },
      "source": [
        "print(metrics.classification_report(y_test, pred2))\n",
        "\n",
        "metrics.confusion_matrix(y_test, pred2)"
      ],
      "execution_count": null,
      "outputs": [
        {
          "name": "stdout",
          "output_type": "stream",
          "text": [
            "              precision    recall  f1-score   support\n",
            "\n",
            "           0       0.66      0.66      0.66     41549\n",
            "           1       0.66      0.66      0.66     41805\n",
            "\n",
            "    accuracy                           0.66     83354\n",
            "   macro avg       0.66      0.66      0.66     83354\n",
            "weighted avg       0.66      0.66      0.66     83354\n",
            "\n"
          ]
        },
        {
          "data": {
            "text/plain": [
              "array([[27377, 14172],\n",
              "       [14324, 27481]], dtype=int64)"
            ]
          },
          "execution_count": 22,
          "metadata": {},
          "output_type": "execute_result"
        }
      ]
    },
    {
      "cell_type": "code",
      "metadata": {
        "id": "6cMvdBXGLIjO",
        "outputId": "99c2b799-5bf3-4448-cab1-278038a9723c"
      },
      "source": [
        "print(lda_clf3.best_score_)\n",
        "print(lda_clf3.best_params_)"
      ],
      "execution_count": null,
      "outputs": [
        {
          "name": "stdout",
          "output_type": "stream",
          "text": [
            "0.6565531142689542\n",
            "{'preprocess__fs__k': 300, 'preprocess__tfidf__use_idf': False, 'preprocess__vect__max_df': 0.8, 'preprocess__vect__max_features': 40000, 'preprocess__vect__min_df': 6, 'preprocess__vect__ngram_range': (1, 2)}\n"
          ]
        }
      ]
    },
    {
      "cell_type": "code",
      "metadata": {
        "id": "X5oLTojQLIjO",
        "outputId": "3890f971-4bb3-4023-a54a-c285eaba3496"
      },
      "source": [
        "# calculate scores\n",
        "auc_score = roc_auc_score(y_test, pred2)\n",
        "auc_score"
      ],
      "execution_count": null,
      "outputs": [
        {
          "data": {
            "text/plain": [
              "0.6581351589777944"
            ]
          },
          "execution_count": 24,
          "metadata": {},
          "output_type": "execute_result"
        }
      ]
    },
    {
      "cell_type": "code",
      "metadata": {
        "id": "2Wq4cgm5LIjO"
      },
      "source": [
        "# calculate roc curves\n",
        "prob_01 = lda_clf3.predict_proba(X_test)[:,0]\n",
        "prob_11 = lda_clf3.predict_proba(X_test)[:,1]\n",
        "\n",
        "fpr01, tpr01, _ = roc_curve(y_test, prob_0)\n",
        "fpr11, tpr11, _ = roc_curve(y_test, prob_1)"
      ],
      "execution_count": null,
      "outputs": []
    },
    {
      "cell_type": "code",
      "metadata": {
        "id": "S0l5_kLlLIjO",
        "outputId": "b596533c-4170-410f-850c-48a3d587fa87"
      },
      "source": [
        "plt.plot(fpr11, tpr11, label='pipeline 2')\n",
        "plt.plot(fpr1, tpr1, label='pipeline 1')\n",
        "plt.plot([0, 1], [0, 1], color='navy', lw=2, linestyle='--')\n",
        "plt.xlim([0.0, 1.0])\n",
        "plt.ylim([0.0, 1.05])\n",
        "plt.xlabel('False Positive Rate')\n",
        "plt.ylabel('True Positive Rate')\n",
        "plt.title('ROC curve (class 1)')\n",
        "plt.legend();"
      ],
      "execution_count": null,
      "outputs": [
        {
          "data": {
            "image/png": "[encoded data removed]",
            "text/plain": [
              "<Figure size 432x288 with 1 Axes>"
            ]
          },
          "metadata": {
            "needs_background": "light"
          },
          "output_type": "display_data"
        }
      ]
    },
    {
      "cell_type": "code",
      "metadata": {
        "id": "mkenPn-GLIjP"
      },
      "source": [
        ""
      ],
      "execution_count": null,
      "outputs": []
    }
  ]
}